{
  "nbformat": 4,
  "nbformat_minor": 0,
  "metadata": {
    "colab": {
      "provenance": [],
      "authorship_tag": "ABX9TyMsSDTELGIGho439rP659+W",
      "include_colab_link": true
    },
    "kernelspec": {
      "name": "python3",
      "display_name": "Python 3"
    },
    "language_info": {
      "name": "python"
    }
  },
  "cells": [
    {
      "cell_type": "markdown",
      "metadata": {
        "id": "view-in-github",
        "colab_type": "text"
      },
      "source": [
        "<a href=\"https://colab.research.google.com/github/Dicere/Machine_Learning_algorithms_from_scratch/blob/main/Linear_function.ipynb\" target=\"_parent\"><img src=\"https://colab.research.google.com/assets/colab-badge.svg\" alt=\"Open In Colab\"/></a>"
      ]
    },
    {
      "cell_type": "code",
      "source": [
        "import numpy as np\n",
        "import pandas as pd"
      ],
      "metadata": {
        "id": "iljyF4KZMto3"
      },
      "execution_count": 338,
      "outputs": []
    },
    {
      "cell_type": "code",
      "source": [
        "from sklearn.datasets import load_diabetes\n",
        "\n",
        "data = load_diabetes(as_frame=True)\n",
        "X, y = data['data'], data['target']"
      ],
      "metadata": {
        "id": "_3BU0WAlhrMC"
      },
      "execution_count": 339,
      "outputs": []
    },
    {
      "cell_type": "code",
      "execution_count": 382,
      "metadata": {
        "id": "I7h_9rxa-u9f"
      },
      "outputs": [],
      "source": [
        "class MyLineReg():\n",
        "    def __init__(self, n_iter=100, learning_rate=0.1,weights=None,verbose=1):         \n",
        "        self.n_iter= n_iter\n",
        "        self.learning_rate = learning_rate\n",
        "        self.weights = weights\n",
        "        self.verbose = verbose\n",
        "        \n",
        "    def __str__(self):\n",
        "        attributes = ', '.join(f\"{key}={value}\" for key, value in vars(self).items())\n",
        "        return f\"MyLineReg class: {attributes}\"\n",
        "\n",
        "    def __repr__(self):\n",
        "        attributes = ', '.join(f\"{key}={value}\" for key, value in vars(self).items())\n",
        "        return f\"MyLineReg class: {attributes}\"\n",
        "\n",
        "    def fit(self,X_fit,y_fit,n_iter=None,learning_rate=None,verbose=None):\n",
        "      X = X_fit.copy()\n",
        "      y = y_fit.copy()\n",
        "      X.insert(0, \"One\", 1)\n",
        "      self.weights =  np.ones(X.shape[1])\n",
        "\n",
        "      if n_iter is not None:\n",
        "        self.n_iter = n_iter\n",
        "      if learning_rate is not None:\n",
        "        self.learning_rate = learning_rate\n",
        "      if verbose is not None:\n",
        "        self.verbose = verbose\n",
        "\n",
        "      for i in range(self.n_iter):\n",
        "\n",
        "        y_pred_vec = X.to_numpy()*self.weights\n",
        "        y_pred = np.sum(y_pred_vec,axis=1)\n",
        "        error = (y_pred - y).to_numpy().reshape(X.shape[0],1)\n",
        "        grad_vec = (2/X.shape[0])*(error*(X.to_numpy()))\n",
        "        grad = np.mean(grad_vec,axis=0)\n",
        "\n",
        "        if i == 0:\n",
        "          print(f\"start:{((y_pred - y)**2).sum()}\")\n",
        "\n",
        "        self.weights = self.weights - (self.learning_rate*grad)\n",
        "\n",
        "        if i !=0 and self.verbose != 0:\n",
        "          if i % self.verbose == 0:\n",
        "            print(f\"{i}:{((y_pred - y)**2).sum()}\")\n",
        "\n",
        "    def get_coef(self):\n",
        "        return self.weights[2:]"
      ]
    },
    {
      "cell_type": "code",
      "source": [
        "instance = MyLineReg()"
      ],
      "metadata": {
        "id": "kKnvOwOsO33F"
      },
      "execution_count": 383,
      "outputs": []
    },
    {
      "cell_type": "code",
      "source": [
        "instance.fit(X,y,n_iter=10000,learning_rate=0.1,verbose=1000)"
      ],
      "metadata": {
        "colab": {
          "base_uri": "https://localhost:8080/"
        },
        "id": "PwBpwV-qO72N",
        "outputId": "08094313-4800-47f0-9280-557cac61c31d"
      },
      "execution_count": 384,
      "outputs": [
        {
          "output_type": "stream",
          "name": "stdout",
          "text": [
            "start:12708393.111680113\n",
            "1000:6688255.2380350195\n",
            "2000:4248755.527921013\n",
            "3000:3257543.2499274476\n",
            "4000:2852150.097945792\n",
            "5000:2683734.815369218\n",
            "6000:2611201.951279646\n",
            "7000:2577482.627079917\n",
            "8000:2559494.0419624825\n",
            "9000:2547899.6845917692\n"
          ]
        }
      ]
    },
    {
      "cell_type": "code",
      "source": [
        "nvbbn = instance.get_coef()"
      ],
      "metadata": {
        "id": "UcX_aq5SkqoL"
      },
      "execution_count": 380,
      "outputs": []
    },
    {
      "cell_type": "code",
      "source": [
        "nvbbn"
      ],
      "metadata": {
        "colab": {
          "base_uri": "https://localhost:8080/"
        },
        "id": "pUKDYTJu_Fnm",
        "outputId": "79bc37f8-69af-4d8f-f45a-4f675ee4587e"
      },
      "execution_count": 381,
      "outputs": [
        {
          "output_type": "execute_result",
          "data": {
            "text/plain": [
              "array([ 1.63329439, 10.55300015,  8.16826342,  4.36388716,  3.738289  ,\n",
              "       -5.41126234,  7.9406962 , 10.18813094,  7.17677077])"
            ]
          },
          "metadata": {},
          "execution_count": 381
        }
      ]
    }
  ]
}