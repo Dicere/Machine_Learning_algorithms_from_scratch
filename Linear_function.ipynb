{
  "nbformat": 4,
  "nbformat_minor": 0,
  "metadata": {
    "colab": {
      "provenance": [],
      "authorship_tag": "ABX9TyN7ZprBt9m3BiuINrrwfjLM",
      "include_colab_link": true
    },
    "kernelspec": {
      "name": "python3",
      "display_name": "Python 3"
    },
    "language_info": {
      "name": "python"
    }
  },
  "cells": [
    {
      "cell_type": "markdown",
      "metadata": {
        "id": "view-in-github",
        "colab_type": "text"
      },
      "source": [
        "<a href=\"https://colab.research.google.com/github/Dicere/Machine_Learning_algorithms_from_scratch/blob/main/Linear_function.ipynb\" target=\"_parent\"><img src=\"https://colab.research.google.com/assets/colab-badge.svg\" alt=\"Open In Colab\"/></a>"
      ]
    },
    {
      "cell_type": "code",
      "source": [
        "import numpy as np\n",
        "import pandas as pd"
      ],
      "metadata": {
        "id": "iljyF4KZMto3"
      },
      "execution_count": 338,
      "outputs": []
    },
    {
      "cell_type": "code",
      "source": [
        "from sklearn.datasets import load_diabetes\n",
        "\n",
        "data = load_diabetes(as_frame=True)\n",
        "X, y = data['data'], data['target']"
      ],
      "metadata": {
        "id": "_3BU0WAlhrMC"
      },
      "execution_count": 339,
      "outputs": []
    },
    {
      "cell_type": "code",
      "execution_count": 469,
      "metadata": {
        "id": "I7h_9rxa-u9f"
      },
      "outputs": [],
      "source": [
        "class MyLineReg():\n",
        "    def __init__(self, n_iter=100, learning_rate=0.1,weights=None,verbose=1):         \n",
        "        self.n_iter= n_iter\n",
        "        self.learning_rate = learning_rate\n",
        "        self.weights = weights\n",
        "        self.verbose = verbose\n",
        "        \n",
        "    def __str__(self):\n",
        "        attributes = ', '.join(f\"{key}={value}\" for key, value in vars(self).items())\n",
        "        return f\"MyLineReg class: {attributes}\"\n",
        "\n",
        "    def __repr__(self):\n",
        "        attributes = ', '.join(f\"{key}={value}\" for key, value in vars(self).items())\n",
        "        return f\"MyLineReg class: {attributes}\"\n",
        "\n",
        "    def fit(self,X_fit:pd.DataFrame,y_fit:pd.Series,n_iter=None,learning_rate=None,verbose=None):\n",
        "      X = X_fit.copy()\n",
        "      y = y_fit.copy()\n",
        "      X.insert(0, \"One\", 1)\n",
        "      n = X.shape[0]\n",
        "      self.weights =  np.ones(X.shape[1])\n",
        "\n",
        "      if n_iter is not None:\n",
        "        self.n_iter = n_iter\n",
        "      if learning_rate is not None:\n",
        "        self.learning_rate = learning_rate\n",
        "      if verbose is not None:\n",
        "        self.verbose = verbose\n",
        "\n",
        "      for i in range(self.n_iter):\n",
        "        \n",
        "        y_pred_vec = X.to_numpy()*self.weights\n",
        "        y_pred = np.sum(y_pred_vec,axis=1)\n",
        "        error = (y_pred - y).to_numpy().reshape(n,1)\n",
        "        grad_vec = (2/n)*(error*(X.to_numpy()))\n",
        "        grad = np.sum(grad_vec,axis=0)\n",
        "\n",
        "        if i == 0 and self.verbose != 0:\n",
        "          print(f\"start:{((y_pred - y)**2).sum()}\")\n",
        "\n",
        "        self.weights = self.weights - (self.learning_rate*grad)\n",
        "\n",
        "        if i !=0 and self.verbose != 0:\n",
        "          if i % self.verbose == 0:\n",
        "            print(f\"{i}:{((y_pred - y)**2).sum()}\")\n",
        "\n",
        "    def get_coef(self):\n",
        "        return self.weights[1:]\n",
        "\n",
        "    def predict(self,X_test:pd.DataFrame):\n",
        "        X = X_test.copy()\n",
        "        X.insert(0, \"One\", 1)\n",
        "        y_pred_vec = X.to_numpy()*self.weights\n",
        "        return np.sum(y_pred_vec,axis=1)"
      ]
    },
    {
      "cell_type": "code",
      "source": [
        "instance = MyLineReg()"
      ],
      "metadata": {
        "id": "kKnvOwOsO33F"
      },
      "execution_count": 470,
      "outputs": []
    },
    {
      "cell_type": "code",
      "source": [
        "instance.fit(X,y,n_iter=100,learning_rate=0.1,verbose=0)"
      ],
      "metadata": {
        "id": "PwBpwV-qO72N"
      },
      "execution_count": 472,
      "outputs": []
    },
    {
      "cell_type": "code",
      "source": [
        "instance.predict(X.iloc[:3])"
      ],
      "metadata": {
        "colab": {
          "base_uri": "https://localhost:8080/"
        },
        "id": "UcX_aq5SkqoL",
        "outputId": "29b24f9e-e9b3-4933-877a-aa6a9dc86a1b"
      },
      "execution_count": 473,
      "outputs": [
        {
          "output_type": "execute_result",
          "data": {
            "text/plain": [
              "array([156.33176834, 140.46994197, 154.19895694])"
            ]
          },
          "metadata": {},
          "execution_count": 473
        }
      ]
    }
  ]
}