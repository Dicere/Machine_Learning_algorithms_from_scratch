{
  "nbformat": 4,
  "nbformat_minor": 0,
  "metadata": {
    "colab": {
      "provenance": [],
      "authorship_tag": "ABX9TyMgVzbmby2LaVORGF5Ln/Xi",
      "include_colab_link": true
    },
    "kernelspec": {
      "name": "python3",
      "display_name": "Python 3"
    },
    "language_info": {
      "name": "python"
    }
  },
  "cells": [
    {
      "cell_type": "markdown",
      "metadata": {
        "id": "view-in-github",
        "colab_type": "text"
      },
      "source": [
        "<a href=\"https://colab.research.google.com/github/Dicere/Machine_Learning_algorithms_from_scratch/blob/main/Linear_function.ipynb\" target=\"_parent\"><img src=\"https://colab.research.google.com/assets/colab-badge.svg\" alt=\"Open In Colab\"/></a>"
      ]
    },
    {
      "cell_type": "code",
      "source": [
        "import numpy as np\n",
        "import pandas as pd\n",
        "import random"
      ],
      "metadata": {
        "id": "iljyF4KZMto3"
      },
      "execution_count": 51,
      "outputs": []
    },
    {
      "cell_type": "code",
      "source": [
        "from sklearn.datasets import load_diabetes\n",
        "\n",
        "data = load_diabetes(as_frame=True)\n",
        "X, y = data['data'], data['target']"
      ],
      "metadata": {
        "id": "_3BU0WAlhrMC"
      },
      "execution_count": 4,
      "outputs": []
    },
    {
      "cell_type": "code",
      "execution_count": 91,
      "metadata": {
        "id": "I7h_9rxa-u9f"
      },
      "outputs": [],
      "source": [
        "class MyLineReg():\n",
        "    def __init__(self, n_iter=100, learning_rate=0.1, weights=None, metric=None, verbose=1, score=0, reg=None, l1_coef=0, l2_coef=0,sgd_sample=None,random_state=42):\n",
        "        self.n_iter = n_iter\n",
        "        self.learning_rate = learning_rate\n",
        "        self.weights = weights\n",
        "        self.verbose = verbose\n",
        "        self.metric = metric\n",
        "        self.score = score\n",
        "        self.reg = reg\n",
        "        self.l1_coef = l1_coef\n",
        "        self.l2_coef = l2_coef\n",
        "        self.sgd_sample  = sgd_sample\n",
        "        self.random_state  = random_state\n",
        "\n",
        "    def __str__(self):\n",
        "        attributes = ', '.join(f\"{key}={value}\" for key, value in vars(self).items())\n",
        "        return f\"MyLineReg class: {attributes}\"\n",
        "\n",
        "    def __repr__(self):\n",
        "        attributes = ', '.join(f\"{key}={value}\" for key, value in vars(self).items())\n",
        "        return f\"MyLineReg class: {attributes}\"\n",
        "\n",
        "    def fit(self, X_fit: pd.DataFrame, y_fit: pd.Series, n_iter=None, lr=None, verbose=None):\n",
        "        random.seed(self.random_state)\n",
        "        X = X_fit.copy()\n",
        "        y = y_fit.copy()\n",
        "        X.insert(0, \"One\", 1)\n",
        "        n = X.shape[0]\n",
        "        self.weights = np.ones(X.shape[1])\n",
        "\n",
        "        def metrics(n, y, y_pred, metrics):\n",
        "            if metrics == \"mae\":\n",
        "                return np.mean(np.abs(y - y_pred))\n",
        "            if metrics == \"mse\":\n",
        "                return np.mean((y - y_pred) ** 2)\n",
        "            if metrics == \"rmse\":\n",
        "                return np.sqrt(np.mean((y - y_pred) ** 2))\n",
        "            if metrics == \"r2\":\n",
        "                mean_y = np.mean(y)\n",
        "                ss_total = np.sum((y - mean_y) ** 2)\n",
        "                ss_residual = np.sum((y - y_pred) ** 2)\n",
        "                r2 = 1 - (ss_residual / ss_total)\n",
        "                return r2\n",
        "            if metrics == \"mape\":\n",
        "                return (100 / n * sum(abs((y - y_pred) / y)))\n",
        "\n",
        "        def regularization(self):\n",
        "            if self.reg == \"l1\":\n",
        "                return self.l1_coef * np.sign(self.weights)\n",
        "            elif self.reg == \"l2\":\n",
        "                return self.l2_coef * 2 * self.weights\n",
        "            elif self.reg == \"elasticnet\":\n",
        "                return self.l1_coef * np.sign(self.weights) + self.l2_coef * 2 * self.weights\n",
        "            else:\n",
        "                return 0\n",
        "\n",
        "        if n_iter is not None:\n",
        "            self.n_iter = n_iter\n",
        "        if lr is not None:\n",
        "            self.learning_rate = lr\n",
        "        if verbose is not None:\n",
        "            self.verbose = verbose\n",
        "        if self.sgd_sample is None:\n",
        "            self.sgd_sample = X.shape[0]\n",
        "\n",
        "        if type(self.sgd_sample) == float:\n",
        "                self.sgd_sample = int(len(X)*self.sgd_sample)\n",
        "\n",
        "        for i in range(1, self.n_iter + 1):\n",
        "\n",
        "            sample_rows_idx = random.sample(range(X.shape[0]), self.sgd_sample)\n",
        "\n",
        "            X_sgd = X.iloc[sample_rows_idx]\n",
        "            y_sgd = y.iloc[sample_rows_idx]\n",
        "\n",
        "            if callable(self.learning_rate):\n",
        "                lr = self.learning_rate(i)\n",
        "            else:\n",
        "                lr = self.learning_rate\n",
        "\n",
        "            ### pred vec on sample\n",
        "            y_pred_vec_sgd = X_sgd.to_numpy() @ self.weights\n",
        "            ### pred vec on all data\n",
        "            y_pred_vec = X.to_numpy() @ self.weights\n",
        "            ### sgd grad\n",
        "            err=(y_pred_vec_sgd - y_sgd)\n",
        "            grad_vec = (2 / X_sgd.shape[0]) * (err @ (X_sgd.to_numpy())) + regularization(self)\n",
        "            ### calc weights\n",
        "            self.weights -= lr * grad_vec\n",
        "            self.score = metrics(n, y, y_pred_vec, self.metric)\n",
        "\n",
        "            if i != 0 and self.verbose != 0:\n",
        "                if i % self.verbose == 0:\n",
        "                    print(f'{i}|{(np.mean((y - y_pred_vec) ** 2))}|{self.metric}:{metrics(n, y, y_pred_vec, self.metric)}')\n",
        "\n",
        "    def get_coef(self):\n",
        "        return self.weights[1:]\n",
        "\n",
        "    def predict(self, X_test: pd.DataFrame):\n",
        "        X = X_test.copy()\n",
        "        X.insert(0, \"One\", 1)\n",
        "        y_pred_vec = X.to_numpy() @ self.weights\n",
        "        return np.sum(y_pred_vec, axis=1)\n",
        "\n",
        "    def get_best_score(self):\n",
        "        if self.score is not None:\n",
        "            return float(self.score)\n",
        "        else:\n",
        "            return 0\n"
      ]
    },
    {
      "cell_type": "code",
      "source": [
        "instance = MyLineReg(metric = 'rmse',reg=None)"
      ],
      "metadata": {
        "id": "kKnvOwOsO33F"
      },
      "execution_count": 92,
      "outputs": []
    },
    {
      "cell_type": "code",
      "source": [
        "instance.fit(X,y,n_iter=100,lr=0.01,verbose=10)"
      ],
      "metadata": {
        "colab": {
          "base_uri": "https://localhost:8080/"
        },
        "id": "PwBpwV-qO72N",
        "outputId": "4d043f76-d1e3-4bca-b8b1-8c4ca38f910c"
      },
      "execution_count": 93,
      "outputs": [
        {
          "output_type": "stream",
          "name": "stdout",
          "text": [
            "10|21781.535493513606|rmse:147.58568864735363\n",
            "20|16496.15491751777|rmse:128.43735795132883\n",
            "30|12965.051224299325|rmse:113.86417884611176\n",
            "40|10605.124985637844|rmse:102.98118753266465\n",
            "50|9027.0943460392|rmse:95.01102223447131\n",
            "60|7971.071606731548|rmse:89.28085800848662\n",
            "70|7263.553639572946|rmse:85.22648437881821\n",
            "80|6788.708344513858|rmse:82.39361834823045\n",
            "90|6469.205259701399|rmse:80.43136987333611\n",
            "100|6253.417923970879|rmse:79.07855539886195\n"
          ]
        }
      ]
    },
    {
      "cell_type": "code",
      "source": [
        "instance.get_best_score()"
      ],
      "metadata": {
        "colab": {
          "base_uri": "https://localhost:8080/"
        },
        "id": "UcX_aq5SkqoL",
        "outputId": "b05dcd3b-fb59-4091-d21a-2421bdeb0291"
      },
      "execution_count": 90,
      "outputs": [
        {
          "output_type": "execute_result",
          "data": {
            "text/plain": [
              "79.07855539886195"
            ]
          },
          "metadata": {},
          "execution_count": 90
        }
      ]
    }
  ]
}