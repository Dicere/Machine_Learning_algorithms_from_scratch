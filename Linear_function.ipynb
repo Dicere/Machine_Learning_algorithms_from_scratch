{
  "nbformat": 4,
  "nbformat_minor": 0,
  "metadata": {
    "colab": {
      "provenance": [],
      "authorship_tag": "ABX9TyN1AtPsNd3PUSaSZeuSVjog",
      "include_colab_link": true
    },
    "kernelspec": {
      "name": "python3",
      "display_name": "Python 3"
    },
    "language_info": {
      "name": "python"
    }
  },
  "cells": [
    {
      "cell_type": "markdown",
      "metadata": {
        "id": "view-in-github",
        "colab_type": "text"
      },
      "source": [
        "<a href=\"https://colab.research.google.com/github/Dicere/Machine_Learning_algorithms_from_scratch/blob/main/Linear_function.ipynb\" target=\"_parent\"><img src=\"https://colab.research.google.com/assets/colab-badge.svg\" alt=\"Open In Colab\"/></a>"
      ]
    },
    {
      "cell_type": "code",
      "source": [
        "import numpy as np\n",
        "import pandas as pd"
      ],
      "metadata": {
        "id": "iljyF4KZMto3"
      },
      "execution_count": 338,
      "outputs": []
    },
    {
      "cell_type": "code",
      "source": [
        "from sklearn.datasets import load_diabetes\n",
        "\n",
        "data = load_diabetes(as_frame=True)\n",
        "X, y = data['data'], data['target']"
      ],
      "metadata": {
        "id": "_3BU0WAlhrMC"
      },
      "execution_count": 339,
      "outputs": []
    },
    {
      "cell_type": "code",
      "execution_count": 416,
      "metadata": {
        "id": "I7h_9rxa-u9f"
      },
      "outputs": [],
      "source": [
        "class MyLineReg():\n",
        "    def __init__(self, n_iter=100, learning_rate=0.1,weights=None,verbose=1):         \n",
        "        self.n_iter= n_iter\n",
        "        self.learning_rate = learning_rate\n",
        "        self.weights = weights\n",
        "        self.verbose = verbose\n",
        "        \n",
        "    def __str__(self):\n",
        "        attributes = ', '.join(f\"{key}={value}\" for key, value in vars(self).items())\n",
        "        return f\"MyLineReg class: {attributes}\"\n",
        "\n",
        "    def __repr__(self):\n",
        "        attributes = ', '.join(f\"{key}={value}\" for key, value in vars(self).items())\n",
        "        return f\"MyLineReg class: {attributes}\"\n",
        "\n",
        "    def fit(self,X_fit:pd.DataFrame,y_fit:pd.Series,n_iter=None,learning_rate=None,verbose=None):\n",
        "      X = X_fit.copy()\n",
        "      y = y_fit.copy()\n",
        "      X.insert(0, \"One\", 1)\n",
        "      n = X.shape[0]\n",
        "      self.weights =  np.ones(X.shape[1])\n",
        "\n",
        "      if n_iter is not None:\n",
        "        self.n_iter = n_iter\n",
        "      if learning_rate is not None:\n",
        "        self.learning_rate = learning_rate\n",
        "      if verbose is not None:\n",
        "        self.verbose = verbose\n",
        "\n",
        "      for i in range(self.n_iter):\n",
        "        \n",
        "        y_pred_vec = X.to_numpy()*self.weights\n",
        "        y_pred = np.sum(y_pred_vec,axis=1)\n",
        "        error = (y_pred - y).to_numpy().reshape(n,1)\n",
        "        grad_vec = (2/n)*(error*(X.to_numpy()))\n",
        "        grad = np.sum(grad_vec,axis=0)\n",
        "\n",
        "        if i == 0:\n",
        "          print(f\"start:{((y_pred - y)**2).sum()}\")\n",
        "\n",
        "        self.weights = self.weights - (self.learning_rate*grad)\n",
        "\n",
        "        if i !=0 and self.verbose != 0:\n",
        "          if i % self.verbose == 0:\n",
        "            print(f\"{i}:{((y_pred - y)**2).sum()}\")\n",
        "\n",
        "    def get_coef(self):\n",
        "        return self.weights[1:]"
      ]
    },
    {
      "cell_type": "code",
      "source": [],
      "metadata": {
        "id": "2Zv1vXuliW4i"
      },
      "execution_count": 416,
      "outputs": []
    },
    {
      "cell_type": "code",
      "source": [
        "instance = MyLineReg()"
      ],
      "metadata": {
        "id": "kKnvOwOsO33F"
      },
      "execution_count": 417,
      "outputs": []
    },
    {
      "cell_type": "code",
      "source": [
        "instance.fit(X,y,n_iter=100,learning_rate=0.1,verbose=5)"
      ],
      "metadata": {
        "colab": {
          "base_uri": "https://localhost:8080/"
        },
        "id": "PwBpwV-qO72N",
        "outputId": "6661aea2-0b39-4dde-a9e6-a5b8e363d3b5"
      },
      "execution_count": 418,
      "outputs": [
        {
          "output_type": "stream",
          "name": "stdout",
          "text": [
            "start:12708393.111680113\n",
            "5:3679545.0452126623\n",
            "10:2695164.890381423\n",
            "15:2574792.4539051196\n",
            "20:2547427.514073178\n",
            "25:2530280.4479627856\n",
            "30:2514457.756384565\n",
            "35:2499000.548066162\n",
            "40:2483801.974524459\n",
            "45:2468846.744151948\n",
            "50:2454129.4644127814\n",
            "55:2439645.872674652\n",
            "60:2425391.893420503\n",
            "65:2411363.535833149\n",
            "70:2397556.8816356026\n",
            "75:2383968.0826435154\n",
            "80:2370593.359381061\n",
            "85:2357428.999831222\n",
            "90:2344471.358220379\n",
            "95:2331716.853826087\n"
          ]
        }
      ]
    },
    {
      "cell_type": "code",
      "source": [
        "nvbbn = instance.get_coef()"
      ],
      "metadata": {
        "id": "UcX_aq5SkqoL"
      },
      "execution_count": 419,
      "outputs": []
    },
    {
      "cell_type": "code",
      "source": [
        "np.mean(nvbbn)"
      ],
      "metadata": {
        "colab": {
          "base_uri": "https://localhost:8080/"
        },
        "id": "pUKDYTJu_Fnm",
        "outputId": "1b05319e-2295-415f-c8a5-ecac9e19923b"
      },
      "execution_count": 420,
      "outputs": [
        {
          "output_type": "execute_result",
          "data": {
            "text/plain": [
              "18.42622779314548"
            ]
          },
          "metadata": {},
          "execution_count": 420
        }
      ]
    },
    {
      "cell_type": "code",
      "source": [
        "nvbbn.shape"
      ],
      "metadata": {
        "colab": {
          "base_uri": "https://localhost:8080/"
        },
        "id": "S4wZz6QHf7OK",
        "outputId": "37d018ca-6999-42e8-f92c-0b67903ce26c"
      },
      "execution_count": 421,
      "outputs": [
        {
          "output_type": "execute_result",
          "data": {
            "text/plain": [
              "(10,)"
            ]
          },
          "metadata": {},
          "execution_count": 421
        }
      ]
    },
    {
      "cell_type": "code",
      "source": [],
      "metadata": {
        "id": "buJDaDW_hSV4"
      },
      "execution_count": null,
      "outputs": []
    }
  ]
}