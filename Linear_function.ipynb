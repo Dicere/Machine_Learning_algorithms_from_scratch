{
  "nbformat": 4,
  "nbformat_minor": 0,
  "metadata": {
    "colab": {
      "provenance": [],
      "authorship_tag": "ABX9TyNumt88itCBmhvs8wVV2jTL",
      "include_colab_link": true
    },
    "kernelspec": {
      "name": "python3",
      "display_name": "Python 3"
    },
    "language_info": {
      "name": "python"
    }
  },
  "cells": [
    {
      "cell_type": "markdown",
      "metadata": {
        "id": "view-in-github",
        "colab_type": "text"
      },
      "source": [
        "<a href=\"https://colab.research.google.com/github/Dicere/Machine_Learning_algorithms_from_scratch/blob/main/Linear_function.ipynb\" target=\"_parent\"><img src=\"https://colab.research.google.com/assets/colab-badge.svg\" alt=\"Open In Colab\"/></a>"
      ]
    },
    {
      "cell_type": "code",
      "source": [
        "import numpy as np\n",
        "import pandas as pd"
      ],
      "metadata": {
        "id": "iljyF4KZMto3"
      },
      "execution_count": 3,
      "outputs": []
    },
    {
      "cell_type": "code",
      "source": [
        "from sklearn.datasets import load_diabetes\n",
        "\n",
        "data = load_diabetes(as_frame=True)\n",
        "X, y = data['data'], data['target']"
      ],
      "metadata": {
        "id": "_3BU0WAlhrMC"
      },
      "execution_count": 4,
      "outputs": []
    },
    {
      "cell_type": "code",
      "execution_count": 47,
      "metadata": {
        "id": "I7h_9rxa-u9f"
      },
      "outputs": [],
      "source": [
        "class MyLineReg():\n",
        "    def __init__(self, n_iter=100, learning_rate=0.1, weights=None, metric=None, verbose=1, score=0, reg=None, l1_coef=0, l2_coef=0):\n",
        "        self.n_iter = n_iter\n",
        "        self.learning_rate = learning_rate\n",
        "        self.weights = weights\n",
        "        self.verbose = verbose\n",
        "        self.metric = metric\n",
        "        self.score = score\n",
        "        self.reg = reg\n",
        "        self.l1_coef = l1_coef\n",
        "        self.l2_coef = l2_coef\n",
        "\n",
        "    def __str__(self):\n",
        "        attributes = ', '.join(f\"{key}={value}\" for key, value in vars(self).items())\n",
        "        return f\"MyLineReg class: {attributes}\"\n",
        "\n",
        "    def __repr__(self):\n",
        "        attributes = ', '.join(f\"{key}={value}\" for key, value in vars(self).items())\n",
        "        return f\"MyLineReg class: {attributes}\"\n",
        "\n",
        "    def fit(self, X_fit: pd.DataFrame, y_fit: pd.Series, n_iter=None, lr=None, verbose=None):\n",
        "        X = X_fit.copy()\n",
        "        y = y_fit.copy()\n",
        "        X.insert(0, \"One\", 1)\n",
        "        n = X.shape[0]\n",
        "        self.weights = np.ones(X.shape[1])\n",
        "\n",
        "        def metrics(n, y, y_pred, metrics):\n",
        "            if metrics == \"mae\":\n",
        "                return np.mean(np.abs(y - y_pred))\n",
        "            if metrics == \"mse\":\n",
        "                return np.mean((y - y_pred) ** 2)\n",
        "            if metrics == \"rmse\":\n",
        "                return np.sqrt(np.mean((y - y_pred) ** 2))\n",
        "            if metrics == \"r2\":\n",
        "                mean_y = np.mean(y)\n",
        "                ss_total = np.sum((y - mean_y) ** 2)\n",
        "                ss_residual = np.sum((y - y_pred) ** 2)\n",
        "                r2 = 1 - (ss_residual / ss_total)\n",
        "                return r2\n",
        "            if metrics == \"mape\":\n",
        "                return (100 / n * sum(abs((y - y_pred) / y)))\n",
        "\n",
        "        def regularization(self):\n",
        "            if self.reg == \"l1\":\n",
        "                return self.l1_coef * np.sign(self.weights)\n",
        "            elif self.reg == \"l2\":\n",
        "                return self.l2_coef * 2 * self.weights\n",
        "            elif self.reg == \"elasticnet\":\n",
        "                return self.l1_coef * np.sign(self.weights) + self.l2_coef * 2 * self.weights\n",
        "            else:\n",
        "                return 0\n",
        "\n",
        "        if n_iter is not None:\n",
        "            self.n_iter = n_iter\n",
        "        if lr is not None:\n",
        "            self.learning_rate = lr\n",
        "        if verbose is not None:\n",
        "            self.verbose = verbose\n",
        "\n",
        "        for i in range(1, self.n_iter + 1):\n",
        "\n",
        "            if callable(self.learning_rate):\n",
        "                lr = self.learning_rate(i)\n",
        "            else:\n",
        "                lr = self.learning_rate\n",
        "\n",
        "            y_pred_vec = X.to_numpy() @ self.weights\n",
        "            error = (y_pred_vec - y)\n",
        "            grad_vec = (2 / n) * (error @ (X.to_numpy())) + regularization(self)\n",
        "\n",
        "            self.weights -= lr * grad_vec\n",
        "            self.score = metrics(n, y, y_pred_vec, self.metric)\n",
        "\n",
        "            if i != 0 and self.verbose != 0:\n",
        "                if i % self.verbose == 0:\n",
        "                    print(f'{i}|{((y_pred_vec - y) ** 2).sum()}|{self.metric}:{metrics(n, y, y_pred_vec, self.metric)}')\n",
        "\n",
        "    def get_coef(self):\n",
        "        return self.weights[1:]\n",
        "\n",
        "    def predict(self, X_test: pd.DataFrame):\n",
        "        X = X_test.copy()\n",
        "        X.insert(0, \"One\", 1)\n",
        "        y_pred_vec = X.to_numpy() @ self.weights\n",
        "        return np.sum(y_pred_vec, axis=1)\n",
        "\n",
        "    def get_best_score(self):\n",
        "        if self.score is not None:\n",
        "            return float(self.score)\n",
        "        else:\n",
        "            return 0\n"
      ]
    },
    {
      "cell_type": "code",
      "source": [
        "instance = MyLineReg(metric = 'mse',reg=None)"
      ],
      "metadata": {
        "id": "kKnvOwOsO33F"
      },
      "execution_count": 48,
      "outputs": []
    },
    {
      "cell_type": "code",
      "source": [
        "lam = lambda iter: 0.5 * (0.85 ** iter)"
      ],
      "metadata": {
        "id": "NkSPdq2TuJNY"
      },
      "execution_count": 49,
      "outputs": []
    },
    {
      "cell_type": "code",
      "source": [
        "instance.fit(X,y,n_iter=100,lr=lam,verbose=10)"
      ],
      "metadata": {
        "colab": {
          "base_uri": "https://localhost:8080/"
        },
        "id": "PwBpwV-qO72N",
        "outputId": "1bde454d-0462-44b7-8911-a7c010e9add2"
      },
      "execution_count": 50,
      "outputs": [
        {
          "output_type": "stream",
          "name": "stdout",
          "text": [
            "10|2540314.5483258236|mse:5747.31798263761\n",
            "20|2523603.089247834|mse:5709.509251691932\n",
            "30|2520349.113047279|mse:5702.147314586604\n",
            "40|2519709.8369846754|mse:5700.700988653111\n",
            "50|2519584.0319597614|mse:5700.416361899913\n",
            "60|2519559.2661871887|mse:5700.360330740245\n",
            "70|2519554.390518624|mse:5700.349299815891\n",
            "80|2519553.430627309|mse:5700.347128116083\n",
            "90|2519553.2416493953|mse:5700.346700564242\n",
            "100|2519553.2044444857|mse:5700.346616390239\n"
          ]
        }
      ]
    },
    {
      "cell_type": "code",
      "source": [
        "instance.get_best_score()"
      ],
      "metadata": {
        "colab": {
          "base_uri": "https://localhost:8080/"
        },
        "id": "UcX_aq5SkqoL",
        "outputId": "a31c5606-f113-4b68-e09a-798e5fbd7a8a"
      },
      "execution_count": 30,
      "outputs": [
        {
          "output_type": "execute_result",
          "data": {
            "text/plain": [
              "5691.124931023203"
            ]
          },
          "metadata": {},
          "execution_count": 30
        }
      ]
    }
  ]
}