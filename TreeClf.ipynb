{
  "nbformat": 4,
  "nbformat_minor": 0,
  "metadata": {
    "colab": {
      "provenance": [],
      "mount_file_id": "1tzfW7euBt6tZeMP_Es_Cj1z_o5XFqkGX",
      "authorship_tag": "ABX9TyN0XSxpzjjhFBc5V6AQc7/t",
      "include_colab_link": true
    },
    "kernelspec": {
      "name": "python3",
      "display_name": "Python 3"
    },
    "language_info": {
      "name": "python"
    }
  },
  "cells": [
    {
      "cell_type": "markdown",
      "metadata": {
        "id": "view-in-github",
        "colab_type": "text"
      },
      "source": [
        "<a href=\"https://colab.research.google.com/github/Dicere/Machine_Learning_algorithms_from_scratch/blob/main/TreeClf.ipynb\" target=\"_parent\"><img src=\"https://colab.research.google.com/assets/colab-badge.svg\" alt=\"Open In Colab\"/></a>"
      ]
    },
    {
      "cell_type": "markdown",
      "source": [
        "### Implemented a leaf growth algorithm (similar to that of LigthGBM) on the leftmost branch\n",
        "\n",
        "###Реализован алгоритм роста по листьям (примерно как у LigthGBM) по крайней левой ветке"
      ],
      "metadata": {
        "id": "4-HgkVNOgQZe"
      }
    },
    {
      "cell_type": "code",
      "execution_count": null,
      "metadata": {
        "id": "h-uXYcaR10ye"
      },
      "outputs": [],
      "source": [
        "import numpy as np\n",
        "import pandas as pd\n",
        "import random"
      ]
    },
    {
      "cell_type": "code",
      "source": [
        "df = pd.read_csv('/content/drive/MyDrive/Реализация всех алгоритмов/data_banknote_authentication.txt', header=None)\n",
        "df.columns = ['variance', 'skewness', 'curtosis', 'entropy', 'target']\n",
        "X, y = df.iloc[:,:4], df['target']"
      ],
      "metadata": {
        "id": "P5-ATLrzhO1p"
      },
      "execution_count": 41,
      "outputs": []
    },
    {
      "cell_type": "code",
      "source": [
        "class MyTreeClf():\n",
        "    def __init__(self, max_depth=5, min_samples_split=2,max_leafs=2,bins=None,criterion=\"entropy\"):\n",
        "        self.max_depth = max_depth\n",
        "        self.min_samples_split = min_samples_split\n",
        "        self.max_leafs = max_leafs\n",
        "        self.leafs_cnt = 0\n",
        "        self.tree_dict = {}\n",
        "        self.depths_numb={}\n",
        "        self.node_count = 0\n",
        "        self.bins = bins\n",
        "        self.splits_list =[]\n",
        "        self.criterion = criterion\n",
        "    def __str__(self):\n",
        "        attributes = ', '.join(f\"{key}={value}\" for key, value in vars(self).items())\n",
        "        return f\"MyTreeClf class: {attributes}\"\n",
        "    def __repr__(self):\n",
        "        attributes = ', '.join(f\"{key}={value}\" for key, value in vars(self).items())\n",
        "        return f\"MyTreeClf class: {attributes}\"\n",
        "\n",
        "    def evristic(self,y):\n",
        "      n = y.shape[0]\n",
        "      one_count = np.count_nonzero(y == 1)\n",
        "      zero_count =  np.count_nonzero(y == 0)\n",
        "      if self.criterion == \"entropy\":\n",
        "        if one_count == 0 or zero_count==0:\n",
        "          return 0\n",
        "        s=-((zero_count/n)*np.log2(zero_count/n)+(one_count/n)*np.log2(one_count/n))\n",
        "      elif self.criterion == \"gini\":\n",
        "        if n==0 or one_count == 0 or zero_count==0:\n",
        "          return 0\n",
        "        s = 1-(one_count/n)**2-(zero_count/n)**2\n",
        "\n",
        "      return s\n",
        "\n",
        "\n",
        "    def get_best_split(self,X,y):\n",
        "      n_cols = X.shape[1]\n",
        "      s0 = self.evristic(y)\n",
        "      ig_max=0\n",
        "      col_name=\"\"\n",
        "      split_value=np.float()\n",
        "\n",
        "      for i in range(n_cols):\n",
        "          if self.bins is not None:\n",
        "            splits_feature =  self.splits_list[i]\n",
        "          else:\n",
        "            feature_values = np.sort(X.iloc[:,i].unique())\n",
        "            splits_feature = [(feature_values[idx]+feature_values[idx+1])/2 for idx in range(len(feature_values)-1)]\n",
        "\n",
        "          ig = 0\n",
        "          for split_val in splits_feature:\n",
        "\n",
        "              idx_right = X[np.all([X.iloc[:,i] > split_val], axis=0)].index\n",
        "              idx_left = X[np.all([X.iloc[:,i] <= split_val], axis=0)].index\n",
        "              ig = s0 - ((len(idx_left)/len(y))*self.evristic(y.loc[idx_left])) - ((len(idx_right)/len(y))*self.evristic(y.loc[idx_right]))\n",
        "\n",
        "              if ig > ig_max:\n",
        "                  ig_max=ig\n",
        "                  col_name=X.iloc[:,i].name\n",
        "                  split_value = split_val\n",
        "      return col_name, split_value, ig_max\n",
        "\n",
        "    def node_or_list(self, y,curr_depth):\n",
        "      if y.shape[0] == 1:\n",
        "        # print('1 семпл')\n",
        "        return False\n",
        "      elif np.count_nonzero(y == 1) == 0:\n",
        "        # print('Класса 1 нету')\n",
        "        return False\n",
        "      elif np.count_nonzero(y == 0)==0:\n",
        "        # print('Класса 0 нету')\n",
        "        return False\n",
        "      elif self.max_depth ==curr_depth:\n",
        "        # print('Макс глубина')\n",
        "        return False\n",
        "      elif self.max_leafs <=2:\n",
        "        # print('Меньше 1 листа быть не может')\n",
        "        return False\n",
        "      elif self.min_samples_split >y.shape[0]:\n",
        "        # print('Минимальное возможное количетсво элементов для разбиения')\n",
        "        return False\n",
        "      else:\n",
        "        if self.node_count!=0:\n",
        "          return True\n",
        "\n",
        "    def calc_bins_and_splits(self,X):\n",
        "        n_cols = X.shape[1]\n",
        "        self.splits_list=[]\n",
        "        for i in range(n_cols):\n",
        "          feature_values = np.sort(X.iloc[:,i].unique())\n",
        "          if len(feature_values)-1 <= self.bins-1:\n",
        "            splits_feature = [(feature_values[idx]+feature_values[idx+1])/2 for idx in range(len(feature_values)-1)]\n",
        "          else:\n",
        "             splits_feature = np.histogram(feature_values, bins=self.bins)[1][1:-1]\n",
        "          self.splits_list.append(splits_feature)\n",
        "\n",
        "    def add_leaf(self,curr_depth,leaf_name,leaf):\n",
        "          if curr_depth in self.tree_dict.keys():\n",
        "            one = np.count_nonzero(y.loc[leaf] == 1)\n",
        "            chance = one/len(leaf)\n",
        "            self.tree_dict[curr_depth].append([chance])\n",
        "          else:\n",
        "            one = np.count_nonzero(y.loc[leaf] == 1)\n",
        "            chance = one/len(leaf)\n",
        "            self.tree_dict[curr_depth] = []\n",
        "            self.tree_dict[curr_depth].append([chance])\n",
        "          self.leafs_cnt += 1\n",
        "\n",
        "    def iter_for_feature(self,X,y,curr_depth=0):\n",
        "        col_name, split_val, ig = self.get_best_split(X,y)\n",
        "        leaf_left = X[np.all([X.loc[:,col_name] <= split_val], axis=0)].index\n",
        "        leaf_right = X[np.all([X.loc[:,col_name] > split_val], axis=0)].index\n",
        "\n",
        "        if curr_depth in self.tree_dict.keys():\n",
        "          if curr_depth in self.depths_numb.keys():\n",
        "            self.tree_dict[curr_depth].append([col_name, split_val,self.depths_numb[curr_depth],self.depths_numb[curr_depth]+1])\n",
        "            self.depths_numb[curr_depth] +=2\n",
        "          else:\n",
        "            self.depths_numb[curr_depth] = 0\n",
        "            self.tree_dict[curr_depth].append([col_name, split_val,self.depths_numb[curr_depth],self.depths_numb[curr_depth]+1])\n",
        "            self.depths_numb[curr_depth] +=2\n",
        "        else:\n",
        "          self.depths_numb[curr_depth] = 0\n",
        "          self.tree_dict[curr_depth] = []\n",
        "          self.tree_dict[curr_depth].append([col_name, split_val,self.depths_numb[curr_depth],self.depths_numb[curr_depth]+1])\n",
        "          self.depths_numb[curr_depth] +=2\n",
        "\n",
        "        curr_depth +=1\n",
        "        if self.node_or_list(y.loc[leaf_left],curr_depth):\n",
        "          self.node_count-=1\n",
        "          self.iter_for_feature(X.loc[leaf_left],y.loc[leaf_left],curr_depth)\n",
        "        else:\n",
        "          self.add_leaf(curr_depth,\"leaf_left\",leaf_left)\n",
        "        if self.node_or_list(y.loc[leaf_right],curr_depth):\n",
        "          self.node_count-=1\n",
        "          self.iter_for_feature(X.loc[leaf_right],y.loc[leaf_right],curr_depth)\n",
        "        else:\n",
        "          self.add_leaf(curr_depth,\"leaf_right\",leaf_right)\n",
        "\n",
        "\n",
        "\n",
        "    def fit(self, X_fit: pd.DataFrame, y_fit: pd.Series):\n",
        "      X = X_fit.copy()\n",
        "      y = y_fit.copy()\n",
        "      if self.bins is not None:\n",
        "          self.calc_bins_and_splits(X)\n",
        "      self.node_count = self.max_leafs-2\n",
        "      self.iter_for_feature(X,y)\n",
        "      return self.tree_dict\n",
        "\n",
        "    def pred(self,x,i,c):\n",
        "      if len(self.tree_dict[i][c]) != 1:\n",
        "        uslovie = self.tree_dict[i][c][1]\n",
        "        column = self.tree_dict[i][c][0]\n",
        "        idx_left_leaf=self.tree_dict[i][c][2]\n",
        "        idx_right_leaf= self.tree_dict[i][c][3]\n",
        "        if x[column] <= uslovie:\n",
        "          i+=1\n",
        "          return self.pred(x,i,idx_left_leaf)\n",
        "        else:\n",
        "          i+=1\n",
        "          return self.pred(x,i,idx_right_leaf)\n",
        "      else:\n",
        "        return self.tree_dict[i][c][-1]\n",
        "\n",
        "    def predict(self, X_test: pd.DataFrame):\n",
        "        X = X_test.copy()\n",
        "        y_pred_vec = X.apply(lambda x: self.pred(x,0,0),axis=1)\n",
        "        return np.sum(y_pred_vec)\n",
        "\n",
        "\n"
      ],
      "metadata": {
        "id": "m7LBEzH2hQGE"
      },
      "execution_count": 52,
      "outputs": []
    },
    {
      "cell_type": "code",
      "source": [
        "instance = MyTreeClf(max_depth=5, min_samples_split=5, max_leafs=10, criterion='gini')"
      ],
      "metadata": {
        "id": "X4jcfYydh2tG"
      },
      "execution_count": 53,
      "outputs": []
    },
    {
      "cell_type": "code",
      "source": [
        "tree_dict = instance.fit(X,y)"
      ],
      "metadata": {
        "colab": {
          "base_uri": "https://localhost:8080/"
        },
        "id": "HrgnJgNNSfZ9",
        "outputId": "51f64307-ad1e-4df2-b512-08980f9bd492"
      },
      "execution_count": 54,
      "outputs": [
        {
          "output_type": "stream",
          "name": "stderr",
          "text": [
            "<ipython-input-52-6ce3da00c361>:41: DeprecationWarning: `np.float` is a deprecated alias for the builtin `float`. To silence this warning, use `float` by itself. Doing this will not modify any behavior and is safe. If you specifically wanted the numpy scalar type, use `np.float64` here.\n",
            "Deprecated in NumPy 1.20; for more details and guidance: https://numpy.org/devdocs/release/1.20.0-notes.html#deprecations\n",
            "  split_value=np.float()\n"
          ]
        }
      ]
    },
    {
      "cell_type": "markdown",
      "source": [
        "### Visualization"
      ],
      "metadata": {
        "id": "-FluaRdRgAfo"
      }
    },
    {
      "cell_type": "code",
      "source": [
        "import graphviz\n",
        "class TreeNode:\n",
        "    def __init__(self, value, left=None, right=None):\n",
        "        self.is_leaf = len(value) == 1  # Лист содержит только один элемент\n",
        "        self.value = value\n",
        "        self.left = left\n",
        "        self.right = right\n",
        "\n",
        "\n",
        "def build_tree(tree_dict):\n",
        "    nodes = {0: [TreeNode(tree_dict[0][0])]}\n",
        "\n",
        "    for depth in range(1, max(tree_dict.keys())+1):\n",
        "        nodes[depth] = []\n",
        "        i = 0\n",
        "        while i < len(tree_dict[depth]):\n",
        "            for parent_node in nodes[depth-1]:\n",
        "                if parent_node.is_leaf:\n",
        "                    # Если родитель является листом, он не может иметь детей, поэтому пропускаем его.\n",
        "                    continue\n",
        "                left = TreeNode(tree_dict[depth][i])\n",
        "                right = TreeNode(tree_dict[depth][i+1]) if i+1 < len(tree_dict[depth]) else None\n",
        "                parent_node.left = left\n",
        "                parent_node.right = right\n",
        "                nodes[depth].extend([left, right])\n",
        "                i += 2  # Переходим к следующей паре узлов на текущей глубине.\n",
        "                if i >= len(tree_dict[depth]):  # Прерываем цикл, если больше нет узлов.\n",
        "                    break\n",
        "    return nodes[0][0]  # Возвращаем корень дерева\n",
        "\n",
        "def add_edges(graph, node, parent_name=\"\"):\n",
        "    if node is not None:\n",
        "        node_name = parent_name + str(node.value)\n",
        "        graph.node(node_name, label=str(node.value))\n",
        "        if parent_name:\n",
        "            graph.edge(parent_name, node_name)\n",
        "        add_edges(graph, node.left, node_name)\n",
        "        add_edges(graph, node.right, node_name)\n",
        "\n",
        "def visualize_tree(root):\n",
        "    dot = graphviz.Digraph()\n",
        "    add_edges(dot, root)\n",
        "    return dot\n",
        "\n",
        "\n"
      ],
      "metadata": {
        "id": "ghrbu2FFgDGA"
      },
      "execution_count": 45,
      "outputs": []
    },
    {
      "cell_type": "code",
      "source": [
        "def print_tree(node, indent=\"\", side=\"root\"):\n",
        "    if node.is_leaf:\n",
        "        if side == \"left\":\n",
        "            print(f\"{indent}leaf_left = {node.value[0]}\")\n",
        "        elif side == \"right\":\n",
        "            print(f\"{indent}leaf_right = {node.value[0]}\")\n",
        "    else:\n",
        "        print(f\"{indent}{node.value[0]} > {node.value[1]}\")\n",
        "        print_tree(node.left, indent + \"  \", \"left\")\n",
        "        if node.right is not None:\n",
        "            print_tree(node.right, indent + \"  \", \"right\")"
      ],
      "metadata": {
        "id": "yZ1oonCXat_3"
      },
      "execution_count": 46,
      "outputs": []
    },
    {
      "cell_type": "code",
      "source": [
        "root = build_tree(tree_dict)\n",
        "print_tree(root)"
      ],
      "metadata": {
        "colab": {
          "base_uri": "https://localhost:8080/"
        },
        "id": "R2guGpvSuO0u",
        "outputId": "0b76a7d6-1151-409f-b15f-ed67e60a0e4f"
      },
      "execution_count": 47,
      "outputs": [
        {
          "output_type": "stream",
          "name": "stdout",
          "text": [
            "variance > 0.320165\n",
            "  skewness > 7.5653\n",
            "    variance > -0.4031\n",
            "      curtosis > 6.21865\n",
            "        skewness > 7.293150000000001\n",
            "          leaf_left = 1.0\n",
            "          leaf_right = 0.75\n",
            "        skewness > -4.6745\n",
            "          leaf_left = 1.0\n",
            "          leaf_right = 0.058823529411764705\n",
            "      skewness > 5.45355\n",
            "        curtosis > 2.62465\n",
            "          leaf_left = 1.0\n",
            "          leaf_right = 0.08333333333333333\n",
            "        leaf_right = 0.0\n",
            "    variance > -4.726\n",
            "      leaf_left = 1.0\n",
            "      leaf_right = 0.0\n",
            "  leaf_right = 0.1076923076923077\n"
          ]
        }
      ]
    },
    {
      "cell_type": "code",
      "source": [
        "tree_root = build_tree(tree_dict)\n",
        "dot = visualize_tree(tree_root)\n",
        "dot"
      ],
      "metadata": {
        "id": "wiCM_gMFXJah",
        "colab": {
          "base_uri": "https://localhost:8080/",
          "height": 580
        },
        "outputId": "e0886461-5b98-4d25-a0c4-47cadd38e1d9"
      },
      "execution_count": 48,
      "outputs": [
        {
          "output_type": "execute_result",
          "data": {
            "image/svg+xml": "<?xml version=\"1.0\" encoding=\"UTF-8\" standalone=\"no\"?>\n<!DOCTYPE svg PUBLIC \"-//W3C//DTD SVG 1.1//EN\"\n \"http://www.w3.org/Graphics/SVG/1.1/DTD/svg11.dtd\">\n<!-- Generated by graphviz version 2.43.0 (0)\n -->\n<!-- Title: %3 Pages: 1 -->\n<svg width=\"1043pt\" height=\"404pt\"\n viewBox=\"0.00 0.00 1043.43 404.00\" xmlns=\"http://www.w3.org/2000/svg\" xmlns:xlink=\"http://www.w3.org/1999/xlink\">\n<g id=\"graph0\" class=\"graph\" transform=\"scale(1 1) rotate(0) translate(4 400)\">\n<title>%3</title>\n<polygon fill=\"white\" stroke=\"transparent\" points=\"-4,4 -4,-400 1039.43,-400 1039.43,4 -4,4\"/>\n<!-- [&#39;variance&#39;, 0.320165, 0, 1] -->\n<g id=\"node1\" class=\"node\">\n<title>[&#39;variance&#39;, 0.320165, 0, 1]</title>\n<ellipse fill=\"none\" stroke=\"black\" cx=\"835.84\" cy=\"-378\" rx=\"105.88\" ry=\"18\"/>\n<text text-anchor=\"middle\" x=\"835.84\" y=\"-374.3\" font-family=\"Times,serif\" font-size=\"14.00\">[&#39;variance&#39;, 0.320165, 0, 1]</text>\n</g>\n<!-- [&#39;variance&#39;, 0.320165, 0, 1][&#39;skewness&#39;, 7.5653, 0, 1] -->\n<g id=\"node2\" class=\"node\">\n<title>[&#39;variance&#39;, 0.320165, 0, 1][&#39;skewness&#39;, 7.5653, 0, 1]</title>\n<ellipse fill=\"none\" stroke=\"black\" cx=\"729.84\" cy=\"-306\" rx=\"100.98\" ry=\"18\"/>\n<text text-anchor=\"middle\" x=\"729.84\" y=\"-302.3\" font-family=\"Times,serif\" font-size=\"14.00\">[&#39;skewness&#39;, 7.5653, 0, 1]</text>\n</g>\n<!-- [&#39;variance&#39;, 0.320165, 0, 1]&#45;&gt;[&#39;variance&#39;, 0.320165, 0, 1][&#39;skewness&#39;, 7.5653, 0, 1] -->\n<g id=\"edge1\" class=\"edge\">\n<title>[&#39;variance&#39;, 0.320165, 0, 1]&#45;&gt;[&#39;variance&#39;, 0.320165, 0, 1][&#39;skewness&#39;, 7.5653, 0, 1]</title>\n<path fill=\"none\" stroke=\"black\" d=\"M810.72,-360.41C796.59,-351.08 778.77,-339.32 763.46,-329.2\"/>\n<polygon fill=\"black\" stroke=\"black\" points=\"765.05,-326.06 754.78,-323.47 761.19,-331.9 765.05,-326.06\"/>\n</g>\n<!-- [&#39;variance&#39;, 0.320165, 0, 1][0.1076923076923077] -->\n<g id=\"node19\" class=\"node\">\n<title>[&#39;variance&#39;, 0.320165, 0, 1][0.1076923076923077]</title>\n<ellipse fill=\"none\" stroke=\"black\" cx=\"941.84\" cy=\"-306\" rx=\"93.68\" ry=\"18\"/>\n<text text-anchor=\"middle\" x=\"941.84\" y=\"-302.3\" font-family=\"Times,serif\" font-size=\"14.00\">[0.1076923076923077]</text>\n</g>\n<!-- [&#39;variance&#39;, 0.320165, 0, 1]&#45;&gt;[&#39;variance&#39;, 0.320165, 0, 1][0.1076923076923077] -->\n<g id=\"edge18\" class=\"edge\">\n<title>[&#39;variance&#39;, 0.320165, 0, 1]&#45;&gt;[&#39;variance&#39;, 0.320165, 0, 1][0.1076923076923077]</title>\n<path fill=\"none\" stroke=\"black\" d=\"M860.96,-360.41C875.08,-351.08 892.9,-339.32 908.22,-329.2\"/>\n<polygon fill=\"black\" stroke=\"black\" points=\"910.48,-331.9 916.9,-323.47 906.62,-326.06 910.48,-331.9\"/>\n</g>\n<!-- [&#39;variance&#39;, 0.320165, 0, 1][&#39;skewness&#39;, 7.5653, 0, 1][&#39;variance&#39;, &#45;0.4031, 0, 1] -->\n<g id=\"node3\" class=\"node\">\n<title>[&#39;variance&#39;, 0.320165, 0, 1][&#39;skewness&#39;, 7.5653, 0, 1][&#39;variance&#39;, &#45;0.4031, 0, 1]</title>\n<ellipse fill=\"none\" stroke=\"black\" cx=\"622.84\" cy=\"-234\" rx=\"100.18\" ry=\"18\"/>\n<text text-anchor=\"middle\" x=\"622.84\" y=\"-230.3\" font-family=\"Times,serif\" font-size=\"14.00\">[&#39;variance&#39;, &#45;0.4031, 0, 1]</text>\n</g>\n<!-- [&#39;variance&#39;, 0.320165, 0, 1][&#39;skewness&#39;, 7.5653, 0, 1]&#45;&gt;[&#39;variance&#39;, 0.320165, 0, 1][&#39;skewness&#39;, 7.5653, 0, 1][&#39;variance&#39;, &#45;0.4031, 0, 1] -->\n<g id=\"edge2\" class=\"edge\">\n<title>[&#39;variance&#39;, 0.320165, 0, 1][&#39;skewness&#39;, 7.5653, 0, 1]&#45;&gt;[&#39;variance&#39;, 0.320165, 0, 1][&#39;skewness&#39;, 7.5653, 0, 1][&#39;variance&#39;, &#45;0.4031, 0, 1]</title>\n<path fill=\"none\" stroke=\"black\" d=\"M704.48,-288.41C690.22,-279.08 672.23,-267.32 656.78,-257.2\"/>\n<polygon fill=\"black\" stroke=\"black\" points=\"658.3,-254.02 648.01,-251.47 654.46,-259.87 658.3,-254.02\"/>\n</g>\n<!-- [&#39;variance&#39;, 0.320165, 0, 1][&#39;skewness&#39;, 7.5653, 0, 1][&#39;variance&#39;, &#45;4.726, 2, 3] -->\n<g id=\"node16\" class=\"node\">\n<title>[&#39;variance&#39;, 0.320165, 0, 1][&#39;skewness&#39;, 7.5653, 0, 1][&#39;variance&#39;, &#45;4.726, 2, 3]</title>\n<ellipse fill=\"none\" stroke=\"black\" cx=\"836.84\" cy=\"-234\" rx=\"95.58\" ry=\"18\"/>\n<text text-anchor=\"middle\" x=\"836.84\" y=\"-230.3\" font-family=\"Times,serif\" font-size=\"14.00\">[&#39;variance&#39;, &#45;4.726, 2, 3]</text>\n</g>\n<!-- [&#39;variance&#39;, 0.320165, 0, 1][&#39;skewness&#39;, 7.5653, 0, 1]&#45;&gt;[&#39;variance&#39;, 0.320165, 0, 1][&#39;skewness&#39;, 7.5653, 0, 1][&#39;variance&#39;, &#45;4.726, 2, 3] -->\n<g id=\"edge15\" class=\"edge\">\n<title>[&#39;variance&#39;, 0.320165, 0, 1][&#39;skewness&#39;, 7.5653, 0, 1]&#45;&gt;[&#39;variance&#39;, 0.320165, 0, 1][&#39;skewness&#39;, 7.5653, 0, 1][&#39;variance&#39;, &#45;4.726, 2, 3]</title>\n<path fill=\"none\" stroke=\"black\" d=\"M755.19,-288.41C769.45,-279.08 787.44,-267.32 802.9,-257.2\"/>\n<polygon fill=\"black\" stroke=\"black\" points=\"805.21,-259.87 811.66,-251.47 801.38,-254.02 805.21,-259.87\"/>\n</g>\n<!-- [&#39;variance&#39;, 0.320165, 0, 1][&#39;skewness&#39;, 7.5653, 0, 1][&#39;variance&#39;, &#45;0.4031, 0, 1][&#39;curtosis&#39;, 6.21865, 0, 1] -->\n<g id=\"node4\" class=\"node\">\n<title>[&#39;variance&#39;, 0.320165, 0, 1][&#39;skewness&#39;, 7.5653, 0, 1][&#39;variance&#39;, &#45;0.4031, 0, 1][&#39;curtosis&#39;, 6.21865, 0, 1]</title>\n<ellipse fill=\"none\" stroke=\"black\" cx=\"417.84\" cy=\"-162\" rx=\"98.58\" ry=\"18\"/>\n<text text-anchor=\"middle\" x=\"417.84\" y=\"-158.3\" font-family=\"Times,serif\" font-size=\"14.00\">[&#39;curtosis&#39;, 6.21865, 0, 1]</text>\n</g>\n<!-- [&#39;variance&#39;, 0.320165, 0, 1][&#39;skewness&#39;, 7.5653, 0, 1][&#39;variance&#39;, &#45;0.4031, 0, 1]&#45;&gt;[&#39;variance&#39;, 0.320165, 0, 1][&#39;skewness&#39;, 7.5653, 0, 1][&#39;variance&#39;, &#45;0.4031, 0, 1][&#39;curtosis&#39;, 6.21865, 0, 1] -->\n<g id=\"edge3\" class=\"edge\">\n<title>[&#39;variance&#39;, 0.320165, 0, 1][&#39;skewness&#39;, 7.5653, 0, 1][&#39;variance&#39;, &#45;0.4031, 0, 1]&#45;&gt;[&#39;variance&#39;, 0.320165, 0, 1][&#39;skewness&#39;, 7.5653, 0, 1][&#39;variance&#39;, &#45;0.4031, 0, 1][&#39;curtosis&#39;, 6.21865, 0, 1]</title>\n<path fill=\"none\" stroke=\"black\" d=\"M578.35,-217.81C547.06,-207.12 505,-192.76 471.79,-181.42\"/>\n<polygon fill=\"black\" stroke=\"black\" points=\"472.83,-178.08 462.23,-178.16 470.56,-184.7 472.83,-178.08\"/>\n</g>\n<!-- [&#39;variance&#39;, 0.320165, 0, 1][&#39;skewness&#39;, 7.5653, 0, 1][&#39;variance&#39;, &#45;0.4031, 0, 1][&#39;skewness&#39;, 5.45355, 2, 3] -->\n<g id=\"node11\" class=\"node\">\n<title>[&#39;variance&#39;, 0.320165, 0, 1][&#39;skewness&#39;, 7.5653, 0, 1][&#39;variance&#39;, &#45;0.4031, 0, 1][&#39;skewness&#39;, 5.45355, 2, 3]</title>\n<ellipse fill=\"none\" stroke=\"black\" cx=\"638.84\" cy=\"-162\" rx=\"104.78\" ry=\"18\"/>\n<text text-anchor=\"middle\" x=\"638.84\" y=\"-158.3\" font-family=\"Times,serif\" font-size=\"14.00\">[&#39;skewness&#39;, 5.45355, 2, 3]</text>\n</g>\n<!-- [&#39;variance&#39;, 0.320165, 0, 1][&#39;skewness&#39;, 7.5653, 0, 1][&#39;variance&#39;, &#45;0.4031, 0, 1]&#45;&gt;[&#39;variance&#39;, 0.320165, 0, 1][&#39;skewness&#39;, 7.5653, 0, 1][&#39;variance&#39;, &#45;0.4031, 0, 1][&#39;skewness&#39;, 5.45355, 2, 3] -->\n<g id=\"edge10\" class=\"edge\">\n<title>[&#39;variance&#39;, 0.320165, 0, 1][&#39;skewness&#39;, 7.5653, 0, 1][&#39;variance&#39;, &#45;0.4031, 0, 1]&#45;&gt;[&#39;variance&#39;, 0.320165, 0, 1][&#39;skewness&#39;, 7.5653, 0, 1][&#39;variance&#39;, &#45;0.4031, 0, 1][&#39;skewness&#39;, 5.45355, 2, 3]</title>\n<path fill=\"none\" stroke=\"black\" d=\"M626.79,-215.7C628.56,-207.98 630.67,-198.71 632.64,-190.11\"/>\n<polygon fill=\"black\" stroke=\"black\" points=\"636.11,-190.63 634.93,-180.1 629.29,-189.07 636.11,-190.63\"/>\n</g>\n<!-- [&#39;variance&#39;, 0.320165, 0, 1][&#39;skewness&#39;, 7.5653, 0, 1][&#39;variance&#39;, &#45;0.4031, 0, 1][&#39;curtosis&#39;, 6.21865, 0, 1][&#39;skewness&#39;, 7.293150000000001, 0, 1] -->\n<g id=\"node5\" class=\"node\">\n<title>[&#39;variance&#39;, 0.320165, 0, 1][&#39;skewness&#39;, 7.5653, 0, 1][&#39;variance&#39;, &#45;0.4031, 0, 1][&#39;curtosis&#39;, 6.21865, 0, 1][&#39;skewness&#39;, 7.293150000000001, 0, 1]</title>\n<ellipse fill=\"none\" stroke=\"black\" cx=\"148.84\" cy=\"-90\" rx=\"148.67\" ry=\"18\"/>\n<text text-anchor=\"middle\" x=\"148.84\" y=\"-86.3\" font-family=\"Times,serif\" font-size=\"14.00\">[&#39;skewness&#39;, 7.293150000000001, 0, 1]</text>\n</g>\n<!-- [&#39;variance&#39;, 0.320165, 0, 1][&#39;skewness&#39;, 7.5653, 0, 1][&#39;variance&#39;, &#45;0.4031, 0, 1][&#39;curtosis&#39;, 6.21865, 0, 1]&#45;&gt;[&#39;variance&#39;, 0.320165, 0, 1][&#39;skewness&#39;, 7.5653, 0, 1][&#39;variance&#39;, &#45;0.4031, 0, 1][&#39;curtosis&#39;, 6.21865, 0, 1][&#39;skewness&#39;, 7.293150000000001, 0, 1] -->\n<g id=\"edge4\" class=\"edge\">\n<title>[&#39;variance&#39;, 0.320165, 0, 1][&#39;skewness&#39;, 7.5653, 0, 1][&#39;variance&#39;, &#45;0.4031, 0, 1][&#39;curtosis&#39;, 6.21865, 0, 1]&#45;&gt;[&#39;variance&#39;, 0.320165, 0, 1][&#39;skewness&#39;, 7.5653, 0, 1][&#39;variance&#39;, &#45;0.4031, 0, 1][&#39;curtosis&#39;, 6.21865, 0, 1][&#39;skewness&#39;, 7.293150000000001, 0, 1]</title>\n<path fill=\"none\" stroke=\"black\" d=\"M363.72,-146.92C321.84,-136.02 263.54,-120.85 218.23,-109.06\"/>\n<polygon fill=\"black\" stroke=\"black\" points=\"219.04,-105.65 208.48,-106.52 217.27,-112.43 219.04,-105.65\"/>\n</g>\n<!-- [&#39;variance&#39;, 0.320165, 0, 1][&#39;skewness&#39;, 7.5653, 0, 1][&#39;variance&#39;, &#45;0.4031, 0, 1][&#39;curtosis&#39;, 6.21865, 0, 1][&#39;skewness&#39;, &#45;4.6745, 2, 3] -->\n<g id=\"node8\" class=\"node\">\n<title>[&#39;variance&#39;, 0.320165, 0, 1][&#39;skewness&#39;, 7.5653, 0, 1][&#39;variance&#39;, &#45;0.4031, 0, 1][&#39;curtosis&#39;, 6.21865, 0, 1][&#39;skewness&#39;, &#45;4.6745, 2, 3]</title>\n<ellipse fill=\"none\" stroke=\"black\" cx=\"418.84\" cy=\"-90\" rx=\"103.18\" ry=\"18\"/>\n<text text-anchor=\"middle\" x=\"418.84\" y=\"-86.3\" font-family=\"Times,serif\" font-size=\"14.00\">[&#39;skewness&#39;, &#45;4.6745, 2, 3]</text>\n</g>\n<!-- [&#39;variance&#39;, 0.320165, 0, 1][&#39;skewness&#39;, 7.5653, 0, 1][&#39;variance&#39;, &#45;0.4031, 0, 1][&#39;curtosis&#39;, 6.21865, 0, 1]&#45;&gt;[&#39;variance&#39;, 0.320165, 0, 1][&#39;skewness&#39;, 7.5653, 0, 1][&#39;variance&#39;, &#45;0.4031, 0, 1][&#39;curtosis&#39;, 6.21865, 0, 1][&#39;skewness&#39;, &#45;4.6745, 2, 3] -->\n<g id=\"edge7\" class=\"edge\">\n<title>[&#39;variance&#39;, 0.320165, 0, 1][&#39;skewness&#39;, 7.5653, 0, 1][&#39;variance&#39;, &#45;0.4031, 0, 1][&#39;curtosis&#39;, 6.21865, 0, 1]&#45;&gt;[&#39;variance&#39;, 0.320165, 0, 1][&#39;skewness&#39;, 7.5653, 0, 1][&#39;variance&#39;, &#45;0.4031, 0, 1][&#39;curtosis&#39;, 6.21865, 0, 1][&#39;skewness&#39;, &#45;4.6745, 2, 3]</title>\n<path fill=\"none\" stroke=\"black\" d=\"M418.08,-143.7C418.19,-135.98 418.33,-126.71 418.45,-118.11\"/>\n<polygon fill=\"black\" stroke=\"black\" points=\"421.95,-118.15 418.59,-108.1 414.95,-118.05 421.95,-118.15\"/>\n</g>\n<!-- [&#39;variance&#39;, 0.320165, 0, 1][&#39;skewness&#39;, 7.5653, 0, 1][&#39;variance&#39;, &#45;0.4031, 0, 1][&#39;curtosis&#39;, 6.21865, 0, 1][&#39;skewness&#39;, 7.293150000000001, 0, 1][1.0] -->\n<g id=\"node6\" class=\"node\">\n<title>[&#39;variance&#39;, 0.320165, 0, 1][&#39;skewness&#39;, 7.5653, 0, 1][&#39;variance&#39;, &#45;0.4031, 0, 1][&#39;curtosis&#39;, 6.21865, 0, 1][&#39;skewness&#39;, 7.293150000000001, 0, 1][1.0]</title>\n<ellipse fill=\"none\" stroke=\"black\" cx=\"131.84\" cy=\"-18\" rx=\"27.9\" ry=\"18\"/>\n<text text-anchor=\"middle\" x=\"131.84\" y=\"-14.3\" font-family=\"Times,serif\" font-size=\"14.00\">[1.0]</text>\n</g>\n<!-- [&#39;variance&#39;, 0.320165, 0, 1][&#39;skewness&#39;, 7.5653, 0, 1][&#39;variance&#39;, &#45;0.4031, 0, 1][&#39;curtosis&#39;, 6.21865, 0, 1][&#39;skewness&#39;, 7.293150000000001, 0, 1]&#45;&gt;[&#39;variance&#39;, 0.320165, 0, 1][&#39;skewness&#39;, 7.5653, 0, 1][&#39;variance&#39;, &#45;0.4031, 0, 1][&#39;curtosis&#39;, 6.21865, 0, 1][&#39;skewness&#39;, 7.293150000000001, 0, 1][1.0] -->\n<g id=\"edge5\" class=\"edge\">\n<title>[&#39;variance&#39;, 0.320165, 0, 1][&#39;skewness&#39;, 7.5653, 0, 1][&#39;variance&#39;, &#45;0.4031, 0, 1][&#39;curtosis&#39;, 6.21865, 0, 1][&#39;skewness&#39;, 7.293150000000001, 0, 1]&#45;&gt;[&#39;variance&#39;, 0.320165, 0, 1][&#39;skewness&#39;, 7.5653, 0, 1][&#39;variance&#39;, &#45;0.4031, 0, 1][&#39;curtosis&#39;, 6.21865, 0, 1][&#39;skewness&#39;, 7.293150000000001, 0, 1][1.0]</title>\n<path fill=\"none\" stroke=\"black\" d=\"M144.63,-71.7C142.74,-63.9 140.46,-54.51 138.35,-45.83\"/>\n<polygon fill=\"black\" stroke=\"black\" points=\"141.75,-45 135.99,-36.1 134.95,-46.65 141.75,-45\"/>\n</g>\n<!-- [&#39;variance&#39;, 0.320165, 0, 1][&#39;skewness&#39;, 7.5653, 0, 1][&#39;variance&#39;, &#45;0.4031, 0, 1][&#39;curtosis&#39;, 6.21865, 0, 1][&#39;skewness&#39;, 7.293150000000001, 0, 1][0.75] -->\n<g id=\"node7\" class=\"node\">\n<title>[&#39;variance&#39;, 0.320165, 0, 1][&#39;skewness&#39;, 7.5653, 0, 1][&#39;variance&#39;, &#45;0.4031, 0, 1][&#39;curtosis&#39;, 6.21865, 0, 1][&#39;skewness&#39;, 7.293150000000001, 0, 1][0.75]</title>\n<ellipse fill=\"none\" stroke=\"black\" cx=\"209.84\" cy=\"-18\" rx=\"32.49\" ry=\"18\"/>\n<text text-anchor=\"middle\" x=\"209.84\" y=\"-14.3\" font-family=\"Times,serif\" font-size=\"14.00\">[0.75]</text>\n</g>\n<!-- [&#39;variance&#39;, 0.320165, 0, 1][&#39;skewness&#39;, 7.5653, 0, 1][&#39;variance&#39;, &#45;0.4031, 0, 1][&#39;curtosis&#39;, 6.21865, 0, 1][&#39;skewness&#39;, 7.293150000000001, 0, 1]&#45;&gt;[&#39;variance&#39;, 0.320165, 0, 1][&#39;skewness&#39;, 7.5653, 0, 1][&#39;variance&#39;, &#45;0.4031, 0, 1][&#39;curtosis&#39;, 6.21865, 0, 1][&#39;skewness&#39;, 7.293150000000001, 0, 1][0.75] -->\n<g id=\"edge6\" class=\"edge\">\n<title>[&#39;variance&#39;, 0.320165, 0, 1][&#39;skewness&#39;, 7.5653, 0, 1][&#39;variance&#39;, &#45;0.4031, 0, 1][&#39;curtosis&#39;, 6.21865, 0, 1][&#39;skewness&#39;, 7.293150000000001, 0, 1]&#45;&gt;[&#39;variance&#39;, 0.320165, 0, 1][&#39;skewness&#39;, 7.5653, 0, 1][&#39;variance&#39;, &#45;0.4031, 0, 1][&#39;curtosis&#39;, 6.21865, 0, 1][&#39;skewness&#39;, 7.293150000000001, 0, 1][0.75]</title>\n<path fill=\"none\" stroke=\"black\" d=\"M163.6,-72.05C171.32,-63.2 180.88,-52.23 189.3,-42.57\"/>\n<polygon fill=\"black\" stroke=\"black\" points=\"192.11,-44.67 196.04,-34.83 186.83,-40.07 192.11,-44.67\"/>\n</g>\n<!-- [&#39;variance&#39;, 0.320165, 0, 1][&#39;skewness&#39;, 7.5653, 0, 1][&#39;variance&#39;, &#45;0.4031, 0, 1][&#39;curtosis&#39;, 6.21865, 0, 1][&#39;skewness&#39;, &#45;4.6745, 2, 3][1.0] -->\n<g id=\"node9\" class=\"node\">\n<title>[&#39;variance&#39;, 0.320165, 0, 1][&#39;skewness&#39;, 7.5653, 0, 1][&#39;variance&#39;, &#45;0.4031, 0, 1][&#39;curtosis&#39;, 6.21865, 0, 1][&#39;skewness&#39;, &#45;4.6745, 2, 3][1.0]</title>\n<ellipse fill=\"none\" stroke=\"black\" cx=\"313.84\" cy=\"-18\" rx=\"27.9\" ry=\"18\"/>\n<text text-anchor=\"middle\" x=\"313.84\" y=\"-14.3\" font-family=\"Times,serif\" font-size=\"14.00\">[1.0]</text>\n</g>\n<!-- [&#39;variance&#39;, 0.320165, 0, 1][&#39;skewness&#39;, 7.5653, 0, 1][&#39;variance&#39;, &#45;0.4031, 0, 1][&#39;curtosis&#39;, 6.21865, 0, 1][&#39;skewness&#39;, &#45;4.6745, 2, 3]&#45;&gt;[&#39;variance&#39;, 0.320165, 0, 1][&#39;skewness&#39;, 7.5653, 0, 1][&#39;variance&#39;, &#45;0.4031, 0, 1][&#39;curtosis&#39;, 6.21865, 0, 1][&#39;skewness&#39;, &#45;4.6745, 2, 3][1.0] -->\n<g id=\"edge8\" class=\"edge\">\n<title>[&#39;variance&#39;, 0.320165, 0, 1][&#39;skewness&#39;, 7.5653, 0, 1][&#39;variance&#39;, &#45;0.4031, 0, 1][&#39;curtosis&#39;, 6.21865, 0, 1][&#39;skewness&#39;, &#45;4.6745, 2, 3]&#45;&gt;[&#39;variance&#39;, 0.320165, 0, 1][&#39;skewness&#39;, 7.5653, 0, 1][&#39;variance&#39;, &#45;0.4031, 0, 1][&#39;curtosis&#39;, 6.21865, 0, 1][&#39;skewness&#39;, &#45;4.6745, 2, 3][1.0]</title>\n<path fill=\"none\" stroke=\"black\" d=\"M393.95,-72.41C378.09,-61.84 357.53,-48.13 341.2,-37.24\"/>\n<polygon fill=\"black\" stroke=\"black\" points=\"342.89,-34.16 332.63,-31.53 339.01,-39.99 342.89,-34.16\"/>\n</g>\n<!-- [&#39;variance&#39;, 0.320165, 0, 1][&#39;skewness&#39;, 7.5653, 0, 1][&#39;variance&#39;, &#45;0.4031, 0, 1][&#39;curtosis&#39;, 6.21865, 0, 1][&#39;skewness&#39;, &#45;4.6745, 2, 3][0.058823529411764705] -->\n<g id=\"node10\" class=\"node\">\n<title>[&#39;variance&#39;, 0.320165, 0, 1][&#39;skewness&#39;, 7.5653, 0, 1][&#39;variance&#39;, &#45;0.4031, 0, 1][&#39;curtosis&#39;, 6.21865, 0, 1][&#39;skewness&#39;, &#45;4.6745, 2, 3][0.058823529411764705]</title>\n<ellipse fill=\"none\" stroke=\"black\" cx=\"462.84\" cy=\"-18\" rx=\"102.88\" ry=\"18\"/>\n<text text-anchor=\"middle\" x=\"462.84\" y=\"-14.3\" font-family=\"Times,serif\" font-size=\"14.00\">[0.058823529411764705]</text>\n</g>\n<!-- [&#39;variance&#39;, 0.320165, 0, 1][&#39;skewness&#39;, 7.5653, 0, 1][&#39;variance&#39;, &#45;0.4031, 0, 1][&#39;curtosis&#39;, 6.21865, 0, 1][&#39;skewness&#39;, &#45;4.6745, 2, 3]&#45;&gt;[&#39;variance&#39;, 0.320165, 0, 1][&#39;skewness&#39;, 7.5653, 0, 1][&#39;variance&#39;, &#45;0.4031, 0, 1][&#39;curtosis&#39;, 6.21865, 0, 1][&#39;skewness&#39;, &#45;4.6745, 2, 3][0.058823529411764705] -->\n<g id=\"edge9\" class=\"edge\">\n<title>[&#39;variance&#39;, 0.320165, 0, 1][&#39;skewness&#39;, 7.5653, 0, 1][&#39;variance&#39;, &#45;0.4031, 0, 1][&#39;curtosis&#39;, 6.21865, 0, 1][&#39;skewness&#39;, &#45;4.6745, 2, 3]&#45;&gt;[&#39;variance&#39;, 0.320165, 0, 1][&#39;skewness&#39;, 7.5653, 0, 1][&#39;variance&#39;, &#45;0.4031, 0, 1][&#39;curtosis&#39;, 6.21865, 0, 1][&#39;skewness&#39;, &#45;4.6745, 2, 3][0.058823529411764705]</title>\n<path fill=\"none\" stroke=\"black\" d=\"M429.49,-72.05C434.6,-63.92 440.84,-54 446.53,-44.94\"/>\n<polygon fill=\"black\" stroke=\"black\" points=\"449.62,-46.6 451.98,-36.28 443.69,-42.88 449.62,-46.6\"/>\n</g>\n<!-- [&#39;variance&#39;, 0.320165, 0, 1][&#39;skewness&#39;, 7.5653, 0, 1][&#39;variance&#39;, &#45;0.4031, 0, 1][&#39;skewness&#39;, 5.45355, 2, 3][&#39;curtosis&#39;, 2.62465, 4, 5] -->\n<g id=\"node12\" class=\"node\">\n<title>[&#39;variance&#39;, 0.320165, 0, 1][&#39;skewness&#39;, 7.5653, 0, 1][&#39;variance&#39;, &#45;0.4031, 0, 1][&#39;skewness&#39;, 5.45355, 2, 3][&#39;curtosis&#39;, 2.62465, 4, 5]</title>\n<ellipse fill=\"none\" stroke=\"black\" cx=\"638.84\" cy=\"-90\" rx=\"98.58\" ry=\"18\"/>\n<text text-anchor=\"middle\" x=\"638.84\" y=\"-86.3\" font-family=\"Times,serif\" font-size=\"14.00\">[&#39;curtosis&#39;, 2.62465, 4, 5]</text>\n</g>\n<!-- [&#39;variance&#39;, 0.320165, 0, 1][&#39;skewness&#39;, 7.5653, 0, 1][&#39;variance&#39;, &#45;0.4031, 0, 1][&#39;skewness&#39;, 5.45355, 2, 3]&#45;&gt;[&#39;variance&#39;, 0.320165, 0, 1][&#39;skewness&#39;, 7.5653, 0, 1][&#39;variance&#39;, &#45;0.4031, 0, 1][&#39;skewness&#39;, 5.45355, 2, 3][&#39;curtosis&#39;, 2.62465, 4, 5] -->\n<g id=\"edge11\" class=\"edge\">\n<title>[&#39;variance&#39;, 0.320165, 0, 1][&#39;skewness&#39;, 7.5653, 0, 1][&#39;variance&#39;, &#45;0.4031, 0, 1][&#39;skewness&#39;, 5.45355, 2, 3]&#45;&gt;[&#39;variance&#39;, 0.320165, 0, 1][&#39;skewness&#39;, 7.5653, 0, 1][&#39;variance&#39;, &#45;0.4031, 0, 1][&#39;skewness&#39;, 5.45355, 2, 3][&#39;curtosis&#39;, 2.62465, 4, 5]</title>\n<path fill=\"none\" stroke=\"black\" d=\"M638.84,-143.7C638.84,-135.98 638.84,-126.71 638.84,-118.11\"/>\n<polygon fill=\"black\" stroke=\"black\" points=\"642.34,-118.1 638.84,-108.1 635.34,-118.1 642.34,-118.1\"/>\n</g>\n<!-- [&#39;variance&#39;, 0.320165, 0, 1][&#39;skewness&#39;, 7.5653, 0, 1][&#39;variance&#39;, &#45;0.4031, 0, 1][&#39;skewness&#39;, 5.45355, 2, 3][0.0] -->\n<g id=\"node15\" class=\"node\">\n<title>[&#39;variance&#39;, 0.320165, 0, 1][&#39;skewness&#39;, 7.5653, 0, 1][&#39;variance&#39;, &#45;0.4031, 0, 1][&#39;skewness&#39;, 5.45355, 2, 3][0.0]</title>\n<ellipse fill=\"none\" stroke=\"black\" cx=\"783.84\" cy=\"-90\" rx=\"27.9\" ry=\"18\"/>\n<text text-anchor=\"middle\" x=\"783.84\" y=\"-86.3\" font-family=\"Times,serif\" font-size=\"14.00\">[0.0]</text>\n</g>\n<!-- [&#39;variance&#39;, 0.320165, 0, 1][&#39;skewness&#39;, 7.5653, 0, 1][&#39;variance&#39;, &#45;0.4031, 0, 1][&#39;skewness&#39;, 5.45355, 2, 3]&#45;&gt;[&#39;variance&#39;, 0.320165, 0, 1][&#39;skewness&#39;, 7.5653, 0, 1][&#39;variance&#39;, &#45;0.4031, 0, 1][&#39;skewness&#39;, 5.45355, 2, 3][0.0] -->\n<g id=\"edge14\" class=\"edge\">\n<title>[&#39;variance&#39;, 0.320165, 0, 1][&#39;skewness&#39;, 7.5653, 0, 1][&#39;variance&#39;, &#45;0.4031, 0, 1][&#39;skewness&#39;, 5.45355, 2, 3]&#45;&gt;[&#39;variance&#39;, 0.320165, 0, 1][&#39;skewness&#39;, 7.5653, 0, 1][&#39;variance&#39;, &#45;0.4031, 0, 1][&#39;skewness&#39;, 5.45355, 2, 3][0.0]</title>\n<path fill=\"none\" stroke=\"black\" d=\"M672.47,-144.76C696.73,-133.05 729.24,-117.35 752.87,-105.95\"/>\n<polygon fill=\"black\" stroke=\"black\" points=\"754.61,-109 762.09,-101.5 751.56,-102.69 754.61,-109\"/>\n</g>\n<!-- [&#39;variance&#39;, 0.320165, 0, 1][&#39;skewness&#39;, 7.5653, 0, 1][&#39;variance&#39;, &#45;0.4031, 0, 1][&#39;skewness&#39;, 5.45355, 2, 3][&#39;curtosis&#39;, 2.62465, 4, 5][1.0] -->\n<g id=\"node13\" class=\"node\">\n<title>[&#39;variance&#39;, 0.320165, 0, 1][&#39;skewness&#39;, 7.5653, 0, 1][&#39;variance&#39;, &#45;0.4031, 0, 1][&#39;skewness&#39;, 5.45355, 2, 3][&#39;curtosis&#39;, 2.62465, 4, 5][1.0]</title>\n<ellipse fill=\"none\" stroke=\"black\" cx=\"624.84\" cy=\"-18\" rx=\"27.9\" ry=\"18\"/>\n<text text-anchor=\"middle\" x=\"624.84\" y=\"-14.3\" font-family=\"Times,serif\" font-size=\"14.00\">[1.0]</text>\n</g>\n<!-- [&#39;variance&#39;, 0.320165, 0, 1][&#39;skewness&#39;, 7.5653, 0, 1][&#39;variance&#39;, &#45;0.4031, 0, 1][&#39;skewness&#39;, 5.45355, 2, 3][&#39;curtosis&#39;, 2.62465, 4, 5]&#45;&gt;[&#39;variance&#39;, 0.320165, 0, 1][&#39;skewness&#39;, 7.5653, 0, 1][&#39;variance&#39;, &#45;0.4031, 0, 1][&#39;skewness&#39;, 5.45355, 2, 3][&#39;curtosis&#39;, 2.62465, 4, 5][1.0] -->\n<g id=\"edge12\" class=\"edge\">\n<title>[&#39;variance&#39;, 0.320165, 0, 1][&#39;skewness&#39;, 7.5653, 0, 1][&#39;variance&#39;, &#45;0.4031, 0, 1][&#39;skewness&#39;, 5.45355, 2, 3][&#39;curtosis&#39;, 2.62465, 4, 5]&#45;&gt;[&#39;variance&#39;, 0.320165, 0, 1][&#39;skewness&#39;, 7.5653, 0, 1][&#39;variance&#39;, &#45;0.4031, 0, 1][&#39;skewness&#39;, 5.45355, 2, 3][&#39;curtosis&#39;, 2.62465, 4, 5][1.0]</title>\n<path fill=\"none\" stroke=\"black\" d=\"M635.38,-71.7C633.83,-63.98 631.98,-54.71 630.26,-46.11\"/>\n<polygon fill=\"black\" stroke=\"black\" points=\"633.65,-45.22 628.26,-36.1 626.79,-46.6 633.65,-45.22\"/>\n</g>\n<!-- [&#39;variance&#39;, 0.320165, 0, 1][&#39;skewness&#39;, 7.5653, 0, 1][&#39;variance&#39;, &#45;0.4031, 0, 1][&#39;skewness&#39;, 5.45355, 2, 3][&#39;curtosis&#39;, 2.62465, 4, 5][0.08333333333333333] -->\n<g id=\"node14\" class=\"node\">\n<title>[&#39;variance&#39;, 0.320165, 0, 1][&#39;skewness&#39;, 7.5653, 0, 1][&#39;variance&#39;, &#45;0.4031, 0, 1][&#39;skewness&#39;, 5.45355, 2, 3][&#39;curtosis&#39;, 2.62465, 4, 5][0.08333333333333333]</title>\n<ellipse fill=\"none\" stroke=\"black\" cx=\"768.84\" cy=\"-18\" rx=\"98.28\" ry=\"18\"/>\n<text text-anchor=\"middle\" x=\"768.84\" y=\"-14.3\" font-family=\"Times,serif\" font-size=\"14.00\">[0.08333333333333333]</text>\n</g>\n<!-- [&#39;variance&#39;, 0.320165, 0, 1][&#39;skewness&#39;, 7.5653, 0, 1][&#39;variance&#39;, &#45;0.4031, 0, 1][&#39;skewness&#39;, 5.45355, 2, 3][&#39;curtosis&#39;, 2.62465, 4, 5]&#45;&gt;[&#39;variance&#39;, 0.320165, 0, 1][&#39;skewness&#39;, 7.5653, 0, 1][&#39;variance&#39;, &#45;0.4031, 0, 1][&#39;skewness&#39;, 5.45355, 2, 3][&#39;curtosis&#39;, 2.62465, 4, 5][0.08333333333333333] -->\n<g id=\"edge13\" class=\"edge\">\n<title>[&#39;variance&#39;, 0.320165, 0, 1][&#39;skewness&#39;, 7.5653, 0, 1][&#39;variance&#39;, &#45;0.4031, 0, 1][&#39;skewness&#39;, 5.45355, 2, 3][&#39;curtosis&#39;, 2.62465, 4, 5]&#45;&gt;[&#39;variance&#39;, 0.320165, 0, 1][&#39;skewness&#39;, 7.5653, 0, 1][&#39;variance&#39;, &#45;0.4031, 0, 1][&#39;skewness&#39;, 5.45355, 2, 3][&#39;curtosis&#39;, 2.62465, 4, 5][0.08333333333333333]</title>\n<path fill=\"none\" stroke=\"black\" d=\"M668.99,-72.76C687.12,-63 710.38,-50.47 729.9,-39.97\"/>\n<polygon fill=\"black\" stroke=\"black\" points=\"731.7,-42.97 738.85,-35.15 728.38,-36.81 731.7,-42.97\"/>\n</g>\n<!-- [&#39;variance&#39;, 0.320165, 0, 1][&#39;skewness&#39;, 7.5653, 0, 1][&#39;variance&#39;, &#45;4.726, 2, 3][1.0] -->\n<g id=\"node17\" class=\"node\">\n<title>[&#39;variance&#39;, 0.320165, 0, 1][&#39;skewness&#39;, 7.5653, 0, 1][&#39;variance&#39;, &#45;4.726, 2, 3][1.0]</title>\n<ellipse fill=\"none\" stroke=\"black\" cx=\"820.84\" cy=\"-162\" rx=\"27.9\" ry=\"18\"/>\n<text text-anchor=\"middle\" x=\"820.84\" y=\"-158.3\" font-family=\"Times,serif\" font-size=\"14.00\">[1.0]</text>\n</g>\n<!-- [&#39;variance&#39;, 0.320165, 0, 1][&#39;skewness&#39;, 7.5653, 0, 1][&#39;variance&#39;, &#45;4.726, 2, 3]&#45;&gt;[&#39;variance&#39;, 0.320165, 0, 1][&#39;skewness&#39;, 7.5653, 0, 1][&#39;variance&#39;, &#45;4.726, 2, 3][1.0] -->\n<g id=\"edge16\" class=\"edge\">\n<title>[&#39;variance&#39;, 0.320165, 0, 1][&#39;skewness&#39;, 7.5653, 0, 1][&#39;variance&#39;, &#45;4.726, 2, 3]&#45;&gt;[&#39;variance&#39;, 0.320165, 0, 1][&#39;skewness&#39;, 7.5653, 0, 1][&#39;variance&#39;, &#45;4.726, 2, 3][1.0]</title>\n<path fill=\"none\" stroke=\"black\" d=\"M832.88,-215.7C831.12,-207.98 829,-198.71 827.03,-190.11\"/>\n<polygon fill=\"black\" stroke=\"black\" points=\"830.39,-189.07 824.75,-180.1 823.56,-190.63 830.39,-189.07\"/>\n</g>\n<!-- [&#39;variance&#39;, 0.320165, 0, 1][&#39;skewness&#39;, 7.5653, 0, 1][&#39;variance&#39;, &#45;4.726, 2, 3][0.0] -->\n<g id=\"node18\" class=\"node\">\n<title>[&#39;variance&#39;, 0.320165, 0, 1][&#39;skewness&#39;, 7.5653, 0, 1][&#39;variance&#39;, &#45;4.726, 2, 3][0.0]</title>\n<ellipse fill=\"none\" stroke=\"black\" cx=\"894.84\" cy=\"-162\" rx=\"27.9\" ry=\"18\"/>\n<text text-anchor=\"middle\" x=\"894.84\" y=\"-158.3\" font-family=\"Times,serif\" font-size=\"14.00\">[0.0]</text>\n</g>\n<!-- [&#39;variance&#39;, 0.320165, 0, 1][&#39;skewness&#39;, 7.5653, 0, 1][&#39;variance&#39;, &#45;4.726, 2, 3]&#45;&gt;[&#39;variance&#39;, 0.320165, 0, 1][&#39;skewness&#39;, 7.5653, 0, 1][&#39;variance&#39;, &#45;4.726, 2, 3][0.0] -->\n<g id=\"edge17\" class=\"edge\">\n<title>[&#39;variance&#39;, 0.320165, 0, 1][&#39;skewness&#39;, 7.5653, 0, 1][&#39;variance&#39;, &#45;4.726, 2, 3]&#45;&gt;[&#39;variance&#39;, 0.320165, 0, 1][&#39;skewness&#39;, 7.5653, 0, 1][&#39;variance&#39;, &#45;4.726, 2, 3][0.0]</title>\n<path fill=\"none\" stroke=\"black\" d=\"M850.88,-216.05C858.32,-207.08 867.56,-195.92 875.65,-186.15\"/>\n<polygon fill=\"black\" stroke=\"black\" points=\"878.43,-188.29 882.11,-178.36 873.04,-183.82 878.43,-188.29\"/>\n</g>\n</g>\n</svg>\n",
            "text/plain": [
              "<graphviz.graphs.Digraph at 0x7f66a2e805e0>"
            ]
          },
          "metadata": {},
          "execution_count": 48
        }
      ]
    },
    {
      "cell_type": "code",
      "source": [],
      "metadata": {
        "id": "IKUDKzr36Sd7"
      },
      "execution_count": null,
      "outputs": []
    }
  ]
}