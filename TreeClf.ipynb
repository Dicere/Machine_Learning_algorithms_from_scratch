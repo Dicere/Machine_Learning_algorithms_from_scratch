{
  "nbformat": 4,
  "nbformat_minor": 0,
  "metadata": {
    "colab": {
      "provenance": [],
      "mount_file_id": "1tzfW7euBt6tZeMP_Es_Cj1z_o5XFqkGX",
      "authorship_tag": "ABX9TyP4RMDE1ehgH2+fA5w3Lz55",
      "include_colab_link": true
    },
    "kernelspec": {
      "name": "python3",
      "display_name": "Python 3"
    },
    "language_info": {
      "name": "python"
    }
  },
  "cells": [
    {
      "cell_type": "markdown",
      "metadata": {
        "id": "view-in-github",
        "colab_type": "text"
      },
      "source": [
        "<a href=\"https://colab.research.google.com/github/Dicere/Machine_Learning_algorithms_from_scratch/blob/main/TreeClf.ipynb\" target=\"_parent\"><img src=\"https://colab.research.google.com/assets/colab-badge.svg\" alt=\"Open In Colab\"/></a>"
      ]
    },
    {
      "cell_type": "markdown",
      "source": [
        "### Implemented a leaf growth algorithm (similar to that of LigthGBM) on the leftmost branch\n",
        "\n",
        "###Реализован алгоритм роста по листьям (примерно как у LigthGBM) по крайней левой ветке"
      ],
      "metadata": {
        "id": "4-HgkVNOgQZe"
      }
    },
    {
      "cell_type": "code",
      "execution_count": null,
      "metadata": {
        "id": "h-uXYcaR10ye"
      },
      "outputs": [],
      "source": [
        "import numpy as np\n",
        "import pandas as pd\n",
        "import random"
      ]
    },
    {
      "cell_type": "code",
      "source": [
        "df = pd.read_csv('/content/drive/MyDrive/Реализация всех алгоритмов/data_banknote_authentication.txt', header=None)\n",
        "df.columns = ['variance', 'skewness', 'curtosis', 'entropy', 'target']\n",
        "X, y = df.iloc[:,:4], df['target']"
      ],
      "metadata": {
        "id": "P5-ATLrzhO1p"
      },
      "execution_count": null,
      "outputs": []
    },
    {
      "cell_type": "code",
      "source": [
        "class MyTreeClf():\n",
        "    def __init__(self, max_depth=5, min_samples_split=2,max_leafs=2,bins=None):\n",
        "        self.max_depth = max_depth\n",
        "        self.min_samples_split = min_samples_split\n",
        "        self.max_leafs = max_leafs\n",
        "        self.leafs_cnt = 0\n",
        "        self.tree_dict = {}\n",
        "        self.depths_numb={}\n",
        "        self.node_count = 0\n",
        "        self.bins = bins\n",
        "        self.splits_list =[]\n",
        "    def __str__(self):\n",
        "        attributes = ', '.join(f\"{key}={value}\" for key, value in vars(self).items())\n",
        "        return f\"MyTreeClf class: {attributes}\"\n",
        "    def __repr__(self):\n",
        "        attributes = ', '.join(f\"{key}={value}\" for key, value in vars(self).items())\n",
        "        return f\"MyTreeClf class: {attributes}\"\n",
        "    @staticmethod\n",
        "    def entr(y):\n",
        "      n = y.shape[0]\n",
        "      one_count = np.count_nonzero(y == 1)\n",
        "      zero_count =  np.count_nonzero(y == 0)\n",
        "      if one_count == 0 or zero_count==0:\n",
        "        return 0\n",
        "      s=-((zero_count/n)*np.log2(zero_count/n)+(one_count/n)*np.log2(one_count/n))\n",
        "      return s\n",
        "\n",
        "    def get_best_split(self,X,y):\n",
        "      n_cols = X.shape[1]\n",
        "      s0 = self.entr(y)\n",
        "      ig_max=0\n",
        "      col_name=\"\"\n",
        "      split_value=np.float()\n",
        "\n",
        "      for i in range(n_cols):\n",
        "          if self.bins is not None:\n",
        "            splits_feature =  self.splits_list[i]\n",
        "          else:\n",
        "            feature_values = np.sort(X.iloc[:,i].unique())\n",
        "            splits_feature = [(feature_values[idx]+feature_values[idx+1])/2 for idx in range(len(feature_values)-1)]\n",
        "\n",
        "          ig = 0\n",
        "          for split_val in splits_feature:\n",
        "\n",
        "              idx_right = X[np.all([X.iloc[:,i] > split_val], axis=0)].index\n",
        "              idx_left = X[np.all([X.iloc[:,i] <= split_val], axis=0)].index\n",
        "              ig = s0 - ((len(idx_left)/len(y))*self.entr(y.loc[idx_left])) - ((len(idx_right)/len(y))*self.entr(y.loc[idx_right]))\n",
        "\n",
        "              if ig > ig_max:\n",
        "                  ig_max=ig\n",
        "                  col_name=X.iloc[:,i].name\n",
        "                  split_value = split_val\n",
        "      return col_name, split_value, ig_max\n",
        "\n",
        "    def node_or_list(self, y,curr_depth):\n",
        "      if y.shape[0] == 1:\n",
        "        # print('1 семпл')\n",
        "        return False\n",
        "      elif np.count_nonzero(y == 1) == 0:\n",
        "        # print('Класса 1 нету')\n",
        "        return False\n",
        "      elif np.count_nonzero(y == 0)==0:\n",
        "        # print('Класса 0 нету')\n",
        "        return False\n",
        "      elif self.max_depth ==curr_depth:\n",
        "        # print('Макс глубина')\n",
        "        return False\n",
        "      elif self.max_leafs <=2:\n",
        "        # print('Меньше 1 листа быть не может')\n",
        "        return False\n",
        "      elif self.min_samples_split >y.shape[0]:\n",
        "        # print('Минимальное возможное количетсво элементов для разбиения')\n",
        "        return False\n",
        "      else:\n",
        "        if self.node_count!=0:\n",
        "          return True\n",
        "\n",
        "    def calc_bins_and_splits(self,X):\n",
        "        n_cols = X.shape[1]\n",
        "        self.splits_list=[]\n",
        "        for i in range(n_cols):\n",
        "          feature_values = np.sort(X.iloc[:,i].unique())\n",
        "          if len(feature_values)-1 <= self.bins-1:\n",
        "            splits_feature = [(feature_values[idx]+feature_values[idx+1])/2 for idx in range(len(feature_values)-1)]\n",
        "          else:\n",
        "             splits_feature = np.histogram(feature_values, bins=self.bins)[1][1:-1]\n",
        "          self.splits_list.append(splits_feature)\n",
        "\n",
        "    def add_leaf(self,curr_depth,leaf_name,leaf):\n",
        "          if curr_depth in self.tree_dict.keys():\n",
        "            one = np.count_nonzero(y.loc[leaf] == 1)\n",
        "            chance = one/len(leaf)\n",
        "            self.tree_dict[curr_depth].append([chance])\n",
        "          else:\n",
        "            one = np.count_nonzero(y.loc[leaf] == 1)\n",
        "            chance = one/len(leaf)\n",
        "            self.tree_dict[curr_depth] = []\n",
        "            self.tree_dict[curr_depth].append([chance])\n",
        "          self.leafs_cnt += 1\n",
        "\n",
        "    def iter_for_feature(self,X,y,curr_depth=0):\n",
        "        col_name, split_val, ig = self.get_best_split(X,y)\n",
        "        leaf_left = X[np.all([X.loc[:,col_name] <= split_val], axis=0)].index\n",
        "        leaf_right = X[np.all([X.loc[:,col_name] > split_val], axis=0)].index\n",
        "\n",
        "        if curr_depth in self.tree_dict.keys():\n",
        "          if curr_depth in self.depths_numb.keys():\n",
        "            self.tree_dict[curr_depth].append([col_name, split_val,self.depths_numb[curr_depth],self.depths_numb[curr_depth]+1])\n",
        "            self.depths_numb[curr_depth] +=2\n",
        "          else:\n",
        "            self.depths_numb[curr_depth] = 0\n",
        "            self.tree_dict[curr_depth].append([col_name, split_val,self.depths_numb[curr_depth],self.depths_numb[curr_depth]+1])\n",
        "            self.depths_numb[curr_depth] +=2\n",
        "        else:\n",
        "          self.depths_numb[curr_depth] = 0\n",
        "          self.tree_dict[curr_depth] = []\n",
        "          self.tree_dict[curr_depth].append([col_name, split_val,self.depths_numb[curr_depth],self.depths_numb[curr_depth]+1])\n",
        "          self.depths_numb[curr_depth] +=2\n",
        "\n",
        "        curr_depth +=1\n",
        "        if self.node_or_list(y.loc[leaf_left],curr_depth):\n",
        "          self.node_count-=1\n",
        "          self.iter_for_feature(X.loc[leaf_left],y.loc[leaf_left],curr_depth)\n",
        "        else:\n",
        "          self.add_leaf(curr_depth,\"leaf_left\",leaf_left)\n",
        "        if self.node_or_list(y.loc[leaf_right],curr_depth):\n",
        "          self.node_count-=1\n",
        "          self.iter_for_feature(X.loc[leaf_right],y.loc[leaf_right],curr_depth)\n",
        "        else:\n",
        "          self.add_leaf(curr_depth,\"leaf_right\",leaf_right)\n",
        "\n",
        "\n",
        "\n",
        "    def fit(self, X_fit: pd.DataFrame, y_fit: pd.Series):\n",
        "      X = X_fit.copy()\n",
        "      y = y_fit.copy()\n",
        "      if self.bins is not None:\n",
        "          self.calc_bins_and_splits(X)\n",
        "      self.node_count = self.max_leafs-2\n",
        "      self.iter_for_feature(X,y)\n",
        "      return self.tree_dict\n",
        "\n",
        "    def pred(self,x,i,c):\n",
        "      if len(self.tree_dict[i][c]) != 1:\n",
        "        uslovie = self.tree_dict[i][c][1]\n",
        "        column = self.tree_dict[i][c][0]\n",
        "        idx_left_leaf=self.tree_dict[i][c][2]\n",
        "        idx_right_leaf= self.tree_dict[i][c][3]\n",
        "        if x[column] <= uslovie:\n",
        "          i+=1\n",
        "          return self.pred(x,i,idx_left_leaf)\n",
        "        else:\n",
        "          i+=1\n",
        "          return self.pred(x,i,idx_right_leaf)\n",
        "      else:\n",
        "        return self.tree_dict[i][c][-1]\n",
        "\n",
        "    def predict(self, X_test: pd.DataFrame):\n",
        "        X = X_test.copy()\n",
        "        y_pred_vec = X.apply(lambda x: self.pred(x,0,0),axis=1)\n",
        "        return np.sum(y_pred_vec)\n",
        "\n",
        "\n"
      ],
      "metadata": {
        "id": "m7LBEzH2hQGE"
      },
      "execution_count": null,
      "outputs": []
    },
    {
      "cell_type": "code",
      "source": [
        "instance = MyTreeClf(max_depth= 5, min_samples_split= 5, max_leafs= 10,bins= 15)"
      ],
      "metadata": {
        "id": "X4jcfYydh2tG"
      },
      "execution_count": null,
      "outputs": []
    },
    {
      "cell_type": "code",
      "source": [
        "tree_dict = instance.fit(X,y)"
      ],
      "metadata": {
        "colab": {
          "base_uri": "https://localhost:8080/"
        },
        "id": "HrgnJgNNSfZ9",
        "outputId": "220c68f7-8e85-4845-f908-4813fcb66d61"
      },
      "execution_count": null,
      "outputs": [
        {
          "output_type": "stream",
          "name": "stderr",
          "text": [
            "<ipython-input-24-6bc0d71341d6>:34: DeprecationWarning: `np.float` is a deprecated alias for the builtin `float`. To silence this warning, use `float` by itself. Doing this will not modify any behavior and is safe. If you specifically wanted the numpy scalar type, use `np.float64` here.\n",
            "Deprecated in NumPy 1.20; for more details and guidance: https://numpy.org/devdocs/release/1.20.0-notes.html#deprecations\n",
            "  split_value=np.float()\n"
          ]
        }
      ]
    },
    {
      "cell_type": "markdown",
      "source": [
        "### Visualization"
      ],
      "metadata": {
        "id": "-FluaRdRgAfo"
      }
    },
    {
      "cell_type": "code",
      "source": [
        "import graphviz\n",
        "class TreeNode:\n",
        "    def __init__(self, value, left=None, right=None):\n",
        "        self.is_leaf = len(value) == 1  # Лист содержит только один элемент\n",
        "        self.value = value\n",
        "        self.left = left\n",
        "        self.right = right\n",
        "\n",
        "\n",
        "def build_tree(tree_dict):\n",
        "    nodes = {0: [TreeNode(tree_dict[0][0])]}\n",
        "\n",
        "    for depth in range(1, max(tree_dict.keys())+1):\n",
        "        nodes[depth] = []\n",
        "        i = 0\n",
        "        while i < len(tree_dict[depth]):\n",
        "            for parent_node in nodes[depth-1]:\n",
        "                if parent_node.is_leaf:\n",
        "                    # Если родитель является листом, он не может иметь детей, поэтому пропускаем его.\n",
        "                    continue\n",
        "                left = TreeNode(tree_dict[depth][i])\n",
        "                right = TreeNode(tree_dict[depth][i+1]) if i+1 < len(tree_dict[depth]) else None\n",
        "                parent_node.left = left\n",
        "                parent_node.right = right\n",
        "                nodes[depth].extend([left, right])\n",
        "                i += 2  # Переходим к следующей паре узлов на текущей глубине.\n",
        "                if i >= len(tree_dict[depth]):  # Прерываем цикл, если больше нет узлов.\n",
        "                    break\n",
        "    return nodes[0][0]  # Возвращаем корень дерева\n",
        "\n",
        "def add_edges(graph, node, parent_name=\"\"):\n",
        "    if node is not None:\n",
        "        node_name = parent_name + str(node.value)\n",
        "        graph.node(node_name, label=str(node.value))\n",
        "        if parent_name:\n",
        "            graph.edge(parent_name, node_name)\n",
        "        add_edges(graph, node.left, node_name)\n",
        "        add_edges(graph, node.right, node_name)\n",
        "\n",
        "def visualize_tree(root):\n",
        "    dot = graphviz.Digraph()\n",
        "    add_edges(dot, root)\n",
        "    return dot\n",
        "\n",
        "\n"
      ],
      "metadata": {
        "id": "ghrbu2FFgDGA"
      },
      "execution_count": null,
      "outputs": []
    },
    {
      "cell_type": "code",
      "source": [
        "def print_tree(node, indent=\"\", side=\"root\"):\n",
        "    if node.is_leaf:\n",
        "        if side == \"left\":\n",
        "            print(f\"{indent}leaf_left = {node.value[0]}\")\n",
        "        elif side == \"right\":\n",
        "            print(f\"{indent}leaf_right = {node.value[0]}\")\n",
        "    else:\n",
        "        print(f\"{indent}{node.value[0]} > {node.value[1]}\")\n",
        "        print_tree(node.left, indent + \"  \", \"left\")\n",
        "        if node.right is not None:\n",
        "            print_tree(node.right, indent + \"  \", \"right\")"
      ],
      "metadata": {
        "id": "yZ1oonCXat_3"
      },
      "execution_count": null,
      "outputs": []
    },
    {
      "cell_type": "code",
      "source": [
        "root = build_tree(tree_dict)\n",
        "print_tree(root)"
      ],
      "metadata": {
        "colab": {
          "base_uri": "https://localhost:8080/"
        },
        "id": "R2guGpvSuO0u",
        "outputId": "ab7ce660-d58b-45c5-e3dc-d9a346467dd2"
      },
      "execution_count": null,
      "outputs": [
        {
          "output_type": "stream",
          "name": "stdout",
          "text": [
            "col_0 > -0.02800000000000047\n",
            "  col_3 > 1.5266666666666664\n",
            "    col_1 > -0.03866666666666685\n",
            "      col_2 > -0.258\n",
            "        leaf_left = 1.0\n",
            "        leaf_right = 0.3333333333333333\n",
            "      leaf_right = 1.0\n",
            "    col_1 > 0.8559999999999999\n",
            "      col_2 > -0.79\n",
            "        leaf_left = 0.0\n",
            "        col_2 > -0.258\n",
            "          leaf_left = 0.6\n",
            "          leaf_right = 0.0\n",
            "      col_0 > -2.7053333333333334\n",
            "        leaf_left = 0.0\n",
            "        leaf_right = 1.0\n",
            "  col_2 > -0.258\n",
            "    leaf_left = 1.0\n",
            "    leaf_right = 0.0\n"
          ]
        }
      ]
    },
    {
      "cell_type": "code",
      "source": [
        "tree_root = build_tree(tree_dict)\n",
        "dot = visualize_tree(tree_root)\n",
        "dot"
      ],
      "metadata": {
        "id": "wiCM_gMFXJah",
        "colab": {
          "base_uri": "https://localhost:8080/",
          "height": 560
        },
        "outputId": "c6a53de4-4070-4d18-c871-bf3c31324d48"
      },
      "execution_count": null,
      "outputs": [
        {
          "output_type": "execute_result",
          "data": {
            "image/svg+xml": "<?xml version=\"1.0\" encoding=\"UTF-8\" standalone=\"no\"?>\n<!DOCTYPE svg PUBLIC \"-//W3C//DTD SVG 1.1//EN\"\n \"http://www.w3.org/Graphics/SVG/1.1/DTD/svg11.dtd\">\n<!-- Generated by graphviz version 2.43.0 (0)\n -->\n<!-- Title: %3 Pages: 1 -->\n<svg width=\"830pt\" height=\"404pt\"\n viewBox=\"0.00 0.00 830.28 404.00\" xmlns=\"http://www.w3.org/2000/svg\" xmlns:xlink=\"http://www.w3.org/1999/xlink\">\n<g id=\"graph0\" class=\"graph\" transform=\"scale(1 1) rotate(0) translate(4 400)\">\n<title>%3</title>\n<polygon fill=\"white\" stroke=\"transparent\" points=\"-4,4 -4,-400 826.28,-400 826.28,4 -4,4\"/>\n<!-- [&#39;col_0&#39;, &#45;0.02800000000000047, 0, 1] -->\n<g id=\"node1\" class=\"node\">\n<title>[&#39;col_0&#39;, &#45;0.02800000000000047, 0, 1]</title>\n<ellipse fill=\"none\" stroke=\"black\" cx=\"599.95\" cy=\"-378\" rx=\"146.77\" ry=\"18\"/>\n<text text-anchor=\"middle\" x=\"599.95\" y=\"-374.3\" font-family=\"Times,serif\" font-size=\"14.00\">[&#39;col_0&#39;, &#45;0.02800000000000047, 0, 1]</text>\n</g>\n<!-- [&#39;col_0&#39;, &#45;0.02800000000000047, 0, 1][&#39;col_3&#39;, 1.5266666666666664, 0, 1] -->\n<g id=\"node2\" class=\"node\">\n<title>[&#39;col_0&#39;, &#45;0.02800000000000047, 0, 1][&#39;col_3&#39;, 1.5266666666666664, 0, 1]</title>\n<ellipse fill=\"none\" stroke=\"black\" cx=\"478.95\" cy=\"-306\" rx=\"139.98\" ry=\"18\"/>\n<text text-anchor=\"middle\" x=\"478.95\" y=\"-302.3\" font-family=\"Times,serif\" font-size=\"14.00\">[&#39;col_3&#39;, 1.5266666666666664, 0, 1]</text>\n</g>\n<!-- [&#39;col_0&#39;, &#45;0.02800000000000047, 0, 1]&#45;&gt;[&#39;col_0&#39;, &#45;0.02800000000000047, 0, 1][&#39;col_3&#39;, 1.5266666666666664, 0, 1] -->\n<g id=\"edge1\" class=\"edge\">\n<title>[&#39;col_0&#39;, &#45;0.02800000000000047, 0, 1]&#45;&gt;[&#39;col_0&#39;, &#45;0.02800000000000047, 0, 1][&#39;col_3&#39;, 1.5266666666666664, 0, 1]</title>\n<path fill=\"none\" stroke=\"black\" d=\"M570.97,-360.23C554.65,-350.8 534.1,-338.9 516.55,-328.76\"/>\n<polygon fill=\"black\" stroke=\"black\" points=\"518.1,-325.61 507.69,-323.63 514.6,-331.67 518.1,-325.61\"/>\n</g>\n<!-- [&#39;col_0&#39;, &#45;0.02800000000000047, 0, 1][&#39;col_2&#39;, &#45;0.258, 2, 3] -->\n<g id=\"node17\" class=\"node\">\n<title>[&#39;col_0&#39;, &#45;0.02800000000000047, 0, 1][&#39;col_2&#39;, &#45;0.258, 2, 3]</title>\n<ellipse fill=\"none\" stroke=\"black\" cx=\"721.95\" cy=\"-306\" rx=\"85.29\" ry=\"18\"/>\n<text text-anchor=\"middle\" x=\"721.95\" y=\"-302.3\" font-family=\"Times,serif\" font-size=\"14.00\">[&#39;col_2&#39;, &#45;0.258, 2, 3]</text>\n</g>\n<!-- [&#39;col_0&#39;, &#45;0.02800000000000047, 0, 1]&#45;&gt;[&#39;col_0&#39;, &#45;0.02800000000000047, 0, 1][&#39;col_2&#39;, &#45;0.258, 2, 3] -->\n<g id=\"edge16\" class=\"edge\">\n<title>[&#39;col_0&#39;, &#45;0.02800000000000047, 0, 1]&#45;&gt;[&#39;col_0&#39;, &#45;0.02800000000000047, 0, 1][&#39;col_2&#39;, &#45;0.258, 2, 3]</title>\n<path fill=\"none\" stroke=\"black\" d=\"M629.17,-360.23C645.86,-350.66 666.95,-338.56 684.8,-328.31\"/>\n<polygon fill=\"black\" stroke=\"black\" points=\"686.87,-331.16 693.8,-323.15 683.39,-325.09 686.87,-331.16\"/>\n</g>\n<!-- [&#39;col_0&#39;, &#45;0.02800000000000047, 0, 1][&#39;col_3&#39;, 1.5266666666666664, 0, 1][&#39;col_1&#39;, &#45;0.03866666666666685, 0, 1] -->\n<g id=\"node3\" class=\"node\">\n<title>[&#39;col_0&#39;, &#45;0.02800000000000047, 0, 1][&#39;col_3&#39;, 1.5266666666666664, 0, 1][&#39;col_1&#39;, &#45;0.03866666666666685, 0, 1]</title>\n<ellipse fill=\"none\" stroke=\"black\" cx=\"188.95\" cy=\"-234\" rx=\"146.77\" ry=\"18\"/>\n<text text-anchor=\"middle\" x=\"188.95\" y=\"-230.3\" font-family=\"Times,serif\" font-size=\"14.00\">[&#39;col_1&#39;, &#45;0.03866666666666685, 0, 1]</text>\n</g>\n<!-- [&#39;col_0&#39;, &#45;0.02800000000000047, 0, 1][&#39;col_3&#39;, 1.5266666666666664, 0, 1]&#45;&gt;[&#39;col_0&#39;, &#45;0.02800000000000047, 0, 1][&#39;col_3&#39;, 1.5266666666666664, 0, 1][&#39;col_1&#39;, &#45;0.03866666666666685, 0, 1] -->\n<g id=\"edge2\" class=\"edge\">\n<title>[&#39;col_0&#39;, &#45;0.02800000000000047, 0, 1][&#39;col_3&#39;, 1.5266666666666664, 0, 1]&#45;&gt;[&#39;col_0&#39;, &#45;0.02800000000000047, 0, 1][&#39;col_3&#39;, 1.5266666666666664, 0, 1][&#39;col_1&#39;, &#45;0.03866666666666685, 0, 1]</title>\n<path fill=\"none\" stroke=\"black\" d=\"M416.38,-289.9C371.06,-278.96 309.67,-264.14 262.09,-252.65\"/>\n<polygon fill=\"black\" stroke=\"black\" points=\"262.7,-249.2 252.15,-250.26 261.05,-256.01 262.7,-249.2\"/>\n</g>\n<!-- [&#39;col_0&#39;, &#45;0.02800000000000047, 0, 1][&#39;col_3&#39;, 1.5266666666666664, 0, 1][&#39;col_1&#39;, 0.8559999999999999, 2, 3] -->\n<g id=\"node8\" class=\"node\">\n<title>[&#39;col_0&#39;, &#45;0.02800000000000047, 0, 1][&#39;col_3&#39;, 1.5266666666666664, 0, 1][&#39;col_1&#39;, 0.8559999999999999, 2, 3]</title>\n<ellipse fill=\"none\" stroke=\"black\" cx=\"493.95\" cy=\"-234\" rx=\"139.98\" ry=\"18\"/>\n<text text-anchor=\"middle\" x=\"493.95\" y=\"-230.3\" font-family=\"Times,serif\" font-size=\"14.00\">[&#39;col_1&#39;, 0.8559999999999999, 2, 3]</text>\n</g>\n<!-- [&#39;col_0&#39;, &#45;0.02800000000000047, 0, 1][&#39;col_3&#39;, 1.5266666666666664, 0, 1]&#45;&gt;[&#39;col_0&#39;, &#45;0.02800000000000047, 0, 1][&#39;col_3&#39;, 1.5266666666666664, 0, 1][&#39;col_1&#39;, 0.8559999999999999, 2, 3] -->\n<g id=\"edge7\" class=\"edge\">\n<title>[&#39;col_0&#39;, &#45;0.02800000000000047, 0, 1][&#39;col_3&#39;, 1.5266666666666664, 0, 1]&#45;&gt;[&#39;col_0&#39;, &#45;0.02800000000000047, 0, 1][&#39;col_3&#39;, 1.5266666666666664, 0, 1][&#39;col_1&#39;, 0.8559999999999999, 2, 3]</title>\n<path fill=\"none\" stroke=\"black\" d=\"M482.66,-287.7C484.31,-279.98 486.29,-270.71 488.14,-262.11\"/>\n<polygon fill=\"black\" stroke=\"black\" points=\"491.61,-262.62 490.28,-252.1 484.76,-261.15 491.61,-262.62\"/>\n</g>\n<!-- [&#39;col_0&#39;, &#45;0.02800000000000047, 0, 1][&#39;col_3&#39;, 1.5266666666666664, 0, 1][&#39;col_1&#39;, &#45;0.03866666666666685, 0, 1][&#39;col_2&#39;, &#45;0.258, 0, 1] -->\n<g id=\"node4\" class=\"node\">\n<title>[&#39;col_0&#39;, &#45;0.02800000000000047, 0, 1][&#39;col_3&#39;, 1.5266666666666664, 0, 1][&#39;col_1&#39;, &#45;0.03866666666666685, 0, 1][&#39;col_2&#39;, &#45;0.258, 0, 1]</title>\n<ellipse fill=\"none\" stroke=\"black\" cx=\"123.95\" cy=\"-162\" rx=\"85.29\" ry=\"18\"/>\n<text text-anchor=\"middle\" x=\"123.95\" y=\"-158.3\" font-family=\"Times,serif\" font-size=\"14.00\">[&#39;col_2&#39;, &#45;0.258, 0, 1]</text>\n</g>\n<!-- [&#39;col_0&#39;, &#45;0.02800000000000047, 0, 1][&#39;col_3&#39;, 1.5266666666666664, 0, 1][&#39;col_1&#39;, &#45;0.03866666666666685, 0, 1]&#45;&gt;[&#39;col_0&#39;, &#45;0.02800000000000047, 0, 1][&#39;col_3&#39;, 1.5266666666666664, 0, 1][&#39;col_1&#39;, &#45;0.03866666666666685, 0, 1][&#39;col_2&#39;, &#45;0.258, 0, 1] -->\n<g id=\"edge3\" class=\"edge\">\n<title>[&#39;col_0&#39;, &#45;0.02800000000000047, 0, 1][&#39;col_3&#39;, 1.5266666666666664, 0, 1][&#39;col_1&#39;, &#45;0.03866666666666685, 0, 1]&#45;&gt;[&#39;col_0&#39;, &#45;0.02800000000000047, 0, 1][&#39;col_3&#39;, 1.5266666666666664, 0, 1][&#39;col_1&#39;, &#45;0.03866666666666685, 0, 1][&#39;col_2&#39;, &#45;0.258, 0, 1]</title>\n<path fill=\"none\" stroke=\"black\" d=\"M173.21,-216.05C165.23,-207.46 155.39,-196.86 146.6,-187.4\"/>\n<polygon fill=\"black\" stroke=\"black\" points=\"148.91,-184.74 139.54,-179.79 143.78,-189.5 148.91,-184.74\"/>\n</g>\n<!-- [&#39;col_0&#39;, &#45;0.02800000000000047, 0, 1][&#39;col_3&#39;, 1.5266666666666664, 0, 1][&#39;col_1&#39;, &#45;0.03866666666666685, 0, 1][1.0] -->\n<g id=\"node7\" class=\"node\">\n<title>[&#39;col_0&#39;, &#45;0.02800000000000047, 0, 1][&#39;col_3&#39;, 1.5266666666666664, 0, 1][&#39;col_1&#39;, &#45;0.03866666666666685, 0, 1][1.0]</title>\n<ellipse fill=\"none\" stroke=\"black\" cx=\"254.95\" cy=\"-162\" rx=\"27.9\" ry=\"18\"/>\n<text text-anchor=\"middle\" x=\"254.95\" y=\"-158.3\" font-family=\"Times,serif\" font-size=\"14.00\">[1.0]</text>\n</g>\n<!-- [&#39;col_0&#39;, &#45;0.02800000000000047, 0, 1][&#39;col_3&#39;, 1.5266666666666664, 0, 1][&#39;col_1&#39;, &#45;0.03866666666666685, 0, 1]&#45;&gt;[&#39;col_0&#39;, &#45;0.02800000000000047, 0, 1][&#39;col_3&#39;, 1.5266666666666664, 0, 1][&#39;col_1&#39;, &#45;0.03866666666666685, 0, 1][1.0] -->\n<g id=\"edge6\" class=\"edge\">\n<title>[&#39;col_0&#39;, &#45;0.02800000000000047, 0, 1][&#39;col_3&#39;, 1.5266666666666664, 0, 1][&#39;col_1&#39;, &#45;0.03866666666666685, 0, 1]&#45;&gt;[&#39;col_0&#39;, &#45;0.02800000000000047, 0, 1][&#39;col_3&#39;, 1.5266666666666664, 0, 1][&#39;col_1&#39;, &#45;0.03866666666666685, 0, 1][1.0]</title>\n<path fill=\"none\" stroke=\"black\" d=\"M204.92,-216.05C213.59,-206.86 224.42,-195.38 233.78,-185.45\"/>\n<polygon fill=\"black\" stroke=\"black\" points=\"236.6,-187.57 240.91,-177.89 231.5,-182.76 236.6,-187.57\"/>\n</g>\n<!-- [&#39;col_0&#39;, &#45;0.02800000000000047, 0, 1][&#39;col_3&#39;, 1.5266666666666664, 0, 1][&#39;col_1&#39;, &#45;0.03866666666666685, 0, 1][&#39;col_2&#39;, &#45;0.258, 0, 1][1.0] -->\n<g id=\"node5\" class=\"node\">\n<title>[&#39;col_0&#39;, &#45;0.02800000000000047, 0, 1][&#39;col_3&#39;, 1.5266666666666664, 0, 1][&#39;col_1&#39;, &#45;0.03866666666666685, 0, 1][&#39;col_2&#39;, &#45;0.258, 0, 1][1.0]</title>\n<ellipse fill=\"none\" stroke=\"black\" cx=\"27.95\" cy=\"-90\" rx=\"27.9\" ry=\"18\"/>\n<text text-anchor=\"middle\" x=\"27.95\" y=\"-86.3\" font-family=\"Times,serif\" font-size=\"14.00\">[1.0]</text>\n</g>\n<!-- [&#39;col_0&#39;, &#45;0.02800000000000047, 0, 1][&#39;col_3&#39;, 1.5266666666666664, 0, 1][&#39;col_1&#39;, &#45;0.03866666666666685, 0, 1][&#39;col_2&#39;, &#45;0.258, 0, 1]&#45;&gt;[&#39;col_0&#39;, &#45;0.02800000000000047, 0, 1][&#39;col_3&#39;, 1.5266666666666664, 0, 1][&#39;col_1&#39;, &#45;0.03866666666666685, 0, 1][&#39;col_2&#39;, &#45;0.258, 0, 1][1.0] -->\n<g id=\"edge4\" class=\"edge\">\n<title>[&#39;col_0&#39;, &#45;0.02800000000000047, 0, 1][&#39;col_3&#39;, 1.5266666666666664, 0, 1][&#39;col_1&#39;, &#45;0.03866666666666685, 0, 1][&#39;col_2&#39;, &#45;0.258, 0, 1]&#45;&gt;[&#39;col_0&#39;, &#45;0.02800000000000047, 0, 1][&#39;col_3&#39;, 1.5266666666666664, 0, 1][&#39;col_1&#39;, &#45;0.03866666666666685, 0, 1][&#39;col_2&#39;, &#45;0.258, 0, 1][1.0]</title>\n<path fill=\"none\" stroke=\"black\" d=\"M101.2,-144.41C87.01,-134.07 68.72,-120.73 53.96,-109.97\"/>\n<polygon fill=\"black\" stroke=\"black\" points=\"55.88,-107.04 45.74,-103.97 51.76,-112.69 55.88,-107.04\"/>\n</g>\n<!-- [&#39;col_0&#39;, &#45;0.02800000000000047, 0, 1][&#39;col_3&#39;, 1.5266666666666664, 0, 1][&#39;col_1&#39;, &#45;0.03866666666666685, 0, 1][&#39;col_2&#39;, &#45;0.258, 0, 1][0.3333333333333333] -->\n<g id=\"node6\" class=\"node\">\n<title>[&#39;col_0&#39;, &#45;0.02800000000000047, 0, 1][&#39;col_3&#39;, 1.5266666666666664, 0, 1][&#39;col_1&#39;, &#45;0.03866666666666685, 0, 1][&#39;col_2&#39;, &#45;0.258, 0, 1][0.3333333333333333]</title>\n<ellipse fill=\"none\" stroke=\"black\" cx=\"167.95\" cy=\"-90\" rx=\"93.68\" ry=\"18\"/>\n<text text-anchor=\"middle\" x=\"167.95\" y=\"-86.3\" font-family=\"Times,serif\" font-size=\"14.00\">[0.3333333333333333]</text>\n</g>\n<!-- [&#39;col_0&#39;, &#45;0.02800000000000047, 0, 1][&#39;col_3&#39;, 1.5266666666666664, 0, 1][&#39;col_1&#39;, &#45;0.03866666666666685, 0, 1][&#39;col_2&#39;, &#45;0.258, 0, 1]&#45;&gt;[&#39;col_0&#39;, &#45;0.02800000000000047, 0, 1][&#39;col_3&#39;, 1.5266666666666664, 0, 1][&#39;col_1&#39;, &#45;0.03866666666666685, 0, 1][&#39;col_2&#39;, &#45;0.258, 0, 1][0.3333333333333333] -->\n<g id=\"edge5\" class=\"edge\">\n<title>[&#39;col_0&#39;, &#45;0.02800000000000047, 0, 1][&#39;col_3&#39;, 1.5266666666666664, 0, 1][&#39;col_1&#39;, &#45;0.03866666666666685, 0, 1][&#39;col_2&#39;, &#45;0.258, 0, 1]&#45;&gt;[&#39;col_0&#39;, &#45;0.02800000000000047, 0, 1][&#39;col_3&#39;, 1.5266666666666664, 0, 1][&#39;col_1&#39;, &#45;0.03866666666666685, 0, 1][&#39;col_2&#39;, &#45;0.258, 0, 1][0.3333333333333333]</title>\n<path fill=\"none\" stroke=\"black\" d=\"M134.6,-144.05C139.71,-135.92 145.95,-126 151.64,-116.94\"/>\n<polygon fill=\"black\" stroke=\"black\" points=\"154.73,-118.6 157.09,-108.28 148.8,-114.88 154.73,-118.6\"/>\n</g>\n<!-- [&#39;col_0&#39;, &#45;0.02800000000000047, 0, 1][&#39;col_3&#39;, 1.5266666666666664, 0, 1][&#39;col_1&#39;, 0.8559999999999999, 2, 3][&#39;col_2&#39;, &#45;0.79, 2, 3] -->\n<g id=\"node9\" class=\"node\">\n<title>[&#39;col_0&#39;, &#45;0.02800000000000047, 0, 1][&#39;col_3&#39;, 1.5266666666666664, 0, 1][&#39;col_1&#39;, 0.8559999999999999, 2, 3][&#39;col_2&#39;, &#45;0.79, 2, 3]</title>\n<ellipse fill=\"none\" stroke=\"black\" cx=\"437.95\" cy=\"-162\" rx=\"81.49\" ry=\"18\"/>\n<text text-anchor=\"middle\" x=\"437.95\" y=\"-158.3\" font-family=\"Times,serif\" font-size=\"14.00\">[&#39;col_2&#39;, &#45;0.79, 2, 3]</text>\n</g>\n<!-- [&#39;col_0&#39;, &#45;0.02800000000000047, 0, 1][&#39;col_3&#39;, 1.5266666666666664, 0, 1][&#39;col_1&#39;, 0.8559999999999999, 2, 3]&#45;&gt;[&#39;col_0&#39;, &#45;0.02800000000000047, 0, 1][&#39;col_3&#39;, 1.5266666666666664, 0, 1][&#39;col_1&#39;, 0.8559999999999999, 2, 3][&#39;col_2&#39;, &#45;0.79, 2, 3] -->\n<g id=\"edge8\" class=\"edge\">\n<title>[&#39;col_0&#39;, &#45;0.02800000000000047, 0, 1][&#39;col_3&#39;, 1.5266666666666664, 0, 1][&#39;col_1&#39;, 0.8559999999999999, 2, 3]&#45;&gt;[&#39;col_0&#39;, &#45;0.02800000000000047, 0, 1][&#39;col_3&#39;, 1.5266666666666664, 0, 1][&#39;col_1&#39;, 0.8559999999999999, 2, 3][&#39;col_2&#39;, &#45;0.79, 2, 3]</title>\n<path fill=\"none\" stroke=\"black\" d=\"M480.39,-216.05C473.58,-207.54 465.2,-197.07 457.69,-187.68\"/>\n<polygon fill=\"black\" stroke=\"black\" points=\"460.36,-185.41 451.38,-179.79 454.89,-189.78 460.36,-185.41\"/>\n</g>\n<!-- [&#39;col_0&#39;, &#45;0.02800000000000047, 0, 1][&#39;col_3&#39;, 1.5266666666666664, 0, 1][&#39;col_1&#39;, 0.8559999999999999, 2, 3][&#39;col_0&#39;, &#45;2.7053333333333334, 4, 5] -->\n<g id=\"node14\" class=\"node\">\n<title>[&#39;col_0&#39;, &#45;0.02800000000000047, 0, 1][&#39;col_3&#39;, 1.5266666666666664, 0, 1][&#39;col_1&#39;, 0.8559999999999999, 2, 3][&#39;col_0&#39;, &#45;2.7053333333333334, 4, 5]</title>\n<ellipse fill=\"none\" stroke=\"black\" cx=\"679.95\" cy=\"-162\" rx=\"142.17\" ry=\"18\"/>\n<text text-anchor=\"middle\" x=\"679.95\" y=\"-158.3\" font-family=\"Times,serif\" font-size=\"14.00\">[&#39;col_0&#39;, &#45;2.7053333333333334, 4, 5]</text>\n</g>\n<!-- [&#39;col_0&#39;, &#45;0.02800000000000047, 0, 1][&#39;col_3&#39;, 1.5266666666666664, 0, 1][&#39;col_1&#39;, 0.8559999999999999, 2, 3]&#45;&gt;[&#39;col_0&#39;, &#45;0.02800000000000047, 0, 1][&#39;col_3&#39;, 1.5266666666666664, 0, 1][&#39;col_1&#39;, 0.8559999999999999, 2, 3][&#39;col_0&#39;, &#45;2.7053333333333334, 4, 5] -->\n<g id=\"edge13\" class=\"edge\">\n<title>[&#39;col_0&#39;, &#45;0.02800000000000047, 0, 1][&#39;col_3&#39;, 1.5266666666666664, 0, 1][&#39;col_1&#39;, 0.8559999999999999, 2, 3]&#45;&gt;[&#39;col_0&#39;, &#45;0.02800000000000047, 0, 1][&#39;col_3&#39;, 1.5266666666666664, 0, 1][&#39;col_1&#39;, 0.8559999999999999, 2, 3][&#39;col_0&#39;, &#45;2.7053333333333334, 4, 5]</title>\n<path fill=\"none\" stroke=\"black\" d=\"M537.09,-216.76C563.99,-206.64 598.79,-193.54 627.31,-182.81\"/>\n<polygon fill=\"black\" stroke=\"black\" points=\"628.59,-186.07 636.72,-179.27 626.13,-179.52 628.59,-186.07\"/>\n</g>\n<!-- [&#39;col_0&#39;, &#45;0.02800000000000047, 0, 1][&#39;col_3&#39;, 1.5266666666666664, 0, 1][&#39;col_1&#39;, 0.8559999999999999, 2, 3][&#39;col_2&#39;, &#45;0.79, 2, 3][0.0] -->\n<g id=\"node10\" class=\"node\">\n<title>[&#39;col_0&#39;, &#45;0.02800000000000047, 0, 1][&#39;col_3&#39;, 1.5266666666666664, 0, 1][&#39;col_1&#39;, 0.8559999999999999, 2, 3][&#39;col_2&#39;, &#45;0.79, 2, 3][0.0]</title>\n<ellipse fill=\"none\" stroke=\"black\" cx=\"356.95\" cy=\"-90\" rx=\"27.9\" ry=\"18\"/>\n<text text-anchor=\"middle\" x=\"356.95\" y=\"-86.3\" font-family=\"Times,serif\" font-size=\"14.00\">[0.0]</text>\n</g>\n<!-- [&#39;col_0&#39;, &#45;0.02800000000000047, 0, 1][&#39;col_3&#39;, 1.5266666666666664, 0, 1][&#39;col_1&#39;, 0.8559999999999999, 2, 3][&#39;col_2&#39;, &#45;0.79, 2, 3]&#45;&gt;[&#39;col_0&#39;, &#45;0.02800000000000047, 0, 1][&#39;col_3&#39;, 1.5266666666666664, 0, 1][&#39;col_1&#39;, 0.8559999999999999, 2, 3][&#39;col_2&#39;, &#45;0.79, 2, 3][0.0] -->\n<g id=\"edge9\" class=\"edge\">\n<title>[&#39;col_0&#39;, &#45;0.02800000000000047, 0, 1][&#39;col_3&#39;, 1.5266666666666664, 0, 1][&#39;col_1&#39;, 0.8559999999999999, 2, 3][&#39;col_2&#39;, &#45;0.79, 2, 3]&#45;&gt;[&#39;col_0&#39;, &#45;0.02800000000000047, 0, 1][&#39;col_3&#39;, 1.5266666666666664, 0, 1][&#39;col_1&#39;, 0.8559999999999999, 2, 3][&#39;col_2&#39;, &#45;0.79, 2, 3][0.0]</title>\n<path fill=\"none\" stroke=\"black\" d=\"M418.75,-144.41C407.42,-134.62 392.99,-122.15 380.92,-111.72\"/>\n<polygon fill=\"black\" stroke=\"black\" points=\"382.86,-108.77 373.01,-104.88 378.28,-114.06 382.86,-108.77\"/>\n</g>\n<!-- [&#39;col_0&#39;, &#45;0.02800000000000047, 0, 1][&#39;col_3&#39;, 1.5266666666666664, 0, 1][&#39;col_1&#39;, 0.8559999999999999, 2, 3][&#39;col_2&#39;, &#45;0.79, 2, 3][&#39;col_2&#39;, &#45;0.258, 0, 1] -->\n<g id=\"node11\" class=\"node\">\n<title>[&#39;col_0&#39;, &#45;0.02800000000000047, 0, 1][&#39;col_3&#39;, 1.5266666666666664, 0, 1][&#39;col_1&#39;, 0.8559999999999999, 2, 3][&#39;col_2&#39;, &#45;0.79, 2, 3][&#39;col_2&#39;, &#45;0.258, 0, 1]</title>\n<ellipse fill=\"none\" stroke=\"black\" cx=\"487.95\" cy=\"-90\" rx=\"85.29\" ry=\"18\"/>\n<text text-anchor=\"middle\" x=\"487.95\" y=\"-86.3\" font-family=\"Times,serif\" font-size=\"14.00\">[&#39;col_2&#39;, &#45;0.258, 0, 1]</text>\n</g>\n<!-- [&#39;col_0&#39;, &#45;0.02800000000000047, 0, 1][&#39;col_3&#39;, 1.5266666666666664, 0, 1][&#39;col_1&#39;, 0.8559999999999999, 2, 3][&#39;col_2&#39;, &#45;0.79, 2, 3]&#45;&gt;[&#39;col_0&#39;, &#45;0.02800000000000047, 0, 1][&#39;col_3&#39;, 1.5266666666666664, 0, 1][&#39;col_1&#39;, 0.8559999999999999, 2, 3][&#39;col_2&#39;, &#45;0.79, 2, 3][&#39;col_2&#39;, &#45;0.258, 0, 1] -->\n<g id=\"edge10\" class=\"edge\">\n<title>[&#39;col_0&#39;, &#45;0.02800000000000047, 0, 1][&#39;col_3&#39;, 1.5266666666666664, 0, 1][&#39;col_1&#39;, 0.8559999999999999, 2, 3][&#39;col_2&#39;, &#45;0.79, 2, 3]&#45;&gt;[&#39;col_0&#39;, &#45;0.02800000000000047, 0, 1][&#39;col_3&#39;, 1.5266666666666664, 0, 1][&#39;col_1&#39;, 0.8559999999999999, 2, 3][&#39;col_2&#39;, &#45;0.79, 2, 3][&#39;col_2&#39;, &#45;0.258, 0, 1]</title>\n<path fill=\"none\" stroke=\"black\" d=\"M450.05,-144.05C455.92,-135.84 463.1,-125.79 469.62,-116.66\"/>\n<polygon fill=\"black\" stroke=\"black\" points=\"472.64,-118.45 475.61,-108.28 466.95,-114.38 472.64,-118.45\"/>\n</g>\n<!-- [&#39;col_0&#39;, &#45;0.02800000000000047, 0, 1][&#39;col_3&#39;, 1.5266666666666664, 0, 1][&#39;col_1&#39;, 0.8559999999999999, 2, 3][&#39;col_2&#39;, &#45;0.79, 2, 3][&#39;col_2&#39;, &#45;0.258, 0, 1][0.6] -->\n<g id=\"node12\" class=\"node\">\n<title>[&#39;col_0&#39;, &#45;0.02800000000000047, 0, 1][&#39;col_3&#39;, 1.5266666666666664, 0, 1][&#39;col_1&#39;, 0.8559999999999999, 2, 3][&#39;col_2&#39;, &#45;0.79, 2, 3][&#39;col_2&#39;, &#45;0.258, 0, 1][0.6]</title>\n<ellipse fill=\"none\" stroke=\"black\" cx=\"450.95\" cy=\"-18\" rx=\"27.9\" ry=\"18\"/>\n<text text-anchor=\"middle\" x=\"450.95\" y=\"-14.3\" font-family=\"Times,serif\" font-size=\"14.00\">[0.6]</text>\n</g>\n<!-- [&#39;col_0&#39;, &#45;0.02800000000000047, 0, 1][&#39;col_3&#39;, 1.5266666666666664, 0, 1][&#39;col_1&#39;, 0.8559999999999999, 2, 3][&#39;col_2&#39;, &#45;0.79, 2, 3][&#39;col_2&#39;, &#45;0.258, 0, 1]&#45;&gt;[&#39;col_0&#39;, &#45;0.02800000000000047, 0, 1][&#39;col_3&#39;, 1.5266666666666664, 0, 1][&#39;col_1&#39;, 0.8559999999999999, 2, 3][&#39;col_2&#39;, &#45;0.79, 2, 3][&#39;col_2&#39;, &#45;0.258, 0, 1][0.6] -->\n<g id=\"edge11\" class=\"edge\">\n<title>[&#39;col_0&#39;, &#45;0.02800000000000047, 0, 1][&#39;col_3&#39;, 1.5266666666666664, 0, 1][&#39;col_1&#39;, 0.8559999999999999, 2, 3][&#39;col_2&#39;, &#45;0.79, 2, 3][&#39;col_2&#39;, &#45;0.258, 0, 1]&#45;&gt;[&#39;col_0&#39;, &#45;0.02800000000000047, 0, 1][&#39;col_3&#39;, 1.5266666666666664, 0, 1][&#39;col_1&#39;, 0.8559999999999999, 2, 3][&#39;col_2&#39;, &#45;0.79, 2, 3][&#39;col_2&#39;, &#45;0.258, 0, 1][0.6]</title>\n<path fill=\"none\" stroke=\"black\" d=\"M478.99,-72.05C474.61,-63.77 469.25,-53.62 464.39,-44.42\"/>\n<polygon fill=\"black\" stroke=\"black\" points=\"467.33,-42.51 459.57,-35.31 461.15,-45.78 467.33,-42.51\"/>\n</g>\n<!-- [&#39;col_0&#39;, &#45;0.02800000000000047, 0, 1][&#39;col_3&#39;, 1.5266666666666664, 0, 1][&#39;col_1&#39;, 0.8559999999999999, 2, 3][&#39;col_2&#39;, &#45;0.79, 2, 3][&#39;col_2&#39;, &#45;0.258, 0, 1][0.0] -->\n<g id=\"node13\" class=\"node\">\n<title>[&#39;col_0&#39;, &#45;0.02800000000000047, 0, 1][&#39;col_3&#39;, 1.5266666666666664, 0, 1][&#39;col_1&#39;, 0.8559999999999999, 2, 3][&#39;col_2&#39;, &#45;0.79, 2, 3][&#39;col_2&#39;, &#45;0.258, 0, 1][0.0]</title>\n<ellipse fill=\"none\" stroke=\"black\" cx=\"524.95\" cy=\"-18\" rx=\"27.9\" ry=\"18\"/>\n<text text-anchor=\"middle\" x=\"524.95\" y=\"-14.3\" font-family=\"Times,serif\" font-size=\"14.00\">[0.0]</text>\n</g>\n<!-- [&#39;col_0&#39;, &#45;0.02800000000000047, 0, 1][&#39;col_3&#39;, 1.5266666666666664, 0, 1][&#39;col_1&#39;, 0.8559999999999999, 2, 3][&#39;col_2&#39;, &#45;0.79, 2, 3][&#39;col_2&#39;, &#45;0.258, 0, 1]&#45;&gt;[&#39;col_0&#39;, &#45;0.02800000000000047, 0, 1][&#39;col_3&#39;, 1.5266666666666664, 0, 1][&#39;col_1&#39;, 0.8559999999999999, 2, 3][&#39;col_2&#39;, &#45;0.79, 2, 3][&#39;col_2&#39;, &#45;0.258, 0, 1][0.0] -->\n<g id=\"edge12\" class=\"edge\">\n<title>[&#39;col_0&#39;, &#45;0.02800000000000047, 0, 1][&#39;col_3&#39;, 1.5266666666666664, 0, 1][&#39;col_1&#39;, 0.8559999999999999, 2, 3][&#39;col_2&#39;, &#45;0.79, 2, 3][&#39;col_2&#39;, &#45;0.258, 0, 1]&#45;&gt;[&#39;col_0&#39;, &#45;0.02800000000000047, 0, 1][&#39;col_3&#39;, 1.5266666666666664, 0, 1][&#39;col_1&#39;, 0.8559999999999999, 2, 3][&#39;col_2&#39;, &#45;0.79, 2, 3][&#39;col_2&#39;, &#45;0.258, 0, 1][0.0]</title>\n<path fill=\"none\" stroke=\"black\" d=\"M496.9,-72.05C501.29,-63.77 506.65,-53.62 511.51,-44.42\"/>\n<polygon fill=\"black\" stroke=\"black\" points=\"514.75,-45.78 516.33,-35.31 508.56,-42.51 514.75,-45.78\"/>\n</g>\n<!-- [&#39;col_0&#39;, &#45;0.02800000000000047, 0, 1][&#39;col_3&#39;, 1.5266666666666664, 0, 1][&#39;col_1&#39;, 0.8559999999999999, 2, 3][&#39;col_0&#39;, &#45;2.7053333333333334, 4, 5][0.0] -->\n<g id=\"node15\" class=\"node\">\n<title>[&#39;col_0&#39;, &#45;0.02800000000000047, 0, 1][&#39;col_3&#39;, 1.5266666666666664, 0, 1][&#39;col_1&#39;, 0.8559999999999999, 2, 3][&#39;col_0&#39;, &#45;2.7053333333333334, 4, 5][0.0]</title>\n<ellipse fill=\"none\" stroke=\"black\" cx=\"642.95\" cy=\"-90\" rx=\"27.9\" ry=\"18\"/>\n<text text-anchor=\"middle\" x=\"642.95\" y=\"-86.3\" font-family=\"Times,serif\" font-size=\"14.00\">[0.0]</text>\n</g>\n<!-- [&#39;col_0&#39;, &#45;0.02800000000000047, 0, 1][&#39;col_3&#39;, 1.5266666666666664, 0, 1][&#39;col_1&#39;, 0.8559999999999999, 2, 3][&#39;col_0&#39;, &#45;2.7053333333333334, 4, 5]&#45;&gt;[&#39;col_0&#39;, &#45;0.02800000000000047, 0, 1][&#39;col_3&#39;, 1.5266666666666664, 0, 1][&#39;col_1&#39;, 0.8559999999999999, 2, 3][&#39;col_0&#39;, &#45;2.7053333333333334, 4, 5][0.0] -->\n<g id=\"edge14\" class=\"edge\">\n<title>[&#39;col_0&#39;, &#45;0.02800000000000047, 0, 1][&#39;col_3&#39;, 1.5266666666666664, 0, 1][&#39;col_1&#39;, 0.8559999999999999, 2, 3][&#39;col_0&#39;, &#45;2.7053333333333334, 4, 5]&#45;&gt;[&#39;col_0&#39;, &#45;0.02800000000000047, 0, 1][&#39;col_3&#39;, 1.5266666666666664, 0, 1][&#39;col_1&#39;, 0.8559999999999999, 2, 3][&#39;col_0&#39;, &#45;2.7053333333333334, 4, 5][0.0]</title>\n<path fill=\"none\" stroke=\"black\" d=\"M670.8,-143.7C666.42,-135.4 661.08,-125.31 656.26,-116.19\"/>\n<polygon fill=\"black\" stroke=\"black\" points=\"659.25,-114.35 651.48,-107.14 653.06,-117.62 659.25,-114.35\"/>\n</g>\n<!-- [&#39;col_0&#39;, &#45;0.02800000000000047, 0, 1][&#39;col_3&#39;, 1.5266666666666664, 0, 1][&#39;col_1&#39;, 0.8559999999999999, 2, 3][&#39;col_0&#39;, &#45;2.7053333333333334, 4, 5][1.0] -->\n<g id=\"node16\" class=\"node\">\n<title>[&#39;col_0&#39;, &#45;0.02800000000000047, 0, 1][&#39;col_3&#39;, 1.5266666666666664, 0, 1][&#39;col_1&#39;, 0.8559999999999999, 2, 3][&#39;col_0&#39;, &#45;2.7053333333333334, 4, 5][1.0]</title>\n<ellipse fill=\"none\" stroke=\"black\" cx=\"716.95\" cy=\"-90\" rx=\"27.9\" ry=\"18\"/>\n<text text-anchor=\"middle\" x=\"716.95\" y=\"-86.3\" font-family=\"Times,serif\" font-size=\"14.00\">[1.0]</text>\n</g>\n<!-- [&#39;col_0&#39;, &#45;0.02800000000000047, 0, 1][&#39;col_3&#39;, 1.5266666666666664, 0, 1][&#39;col_1&#39;, 0.8559999999999999, 2, 3][&#39;col_0&#39;, &#45;2.7053333333333334, 4, 5]&#45;&gt;[&#39;col_0&#39;, &#45;0.02800000000000047, 0, 1][&#39;col_3&#39;, 1.5266666666666664, 0, 1][&#39;col_1&#39;, 0.8559999999999999, 2, 3][&#39;col_0&#39;, &#45;2.7053333333333334, 4, 5][1.0] -->\n<g id=\"edge15\" class=\"edge\">\n<title>[&#39;col_0&#39;, &#45;0.02800000000000047, 0, 1][&#39;col_3&#39;, 1.5266666666666664, 0, 1][&#39;col_1&#39;, 0.8559999999999999, 2, 3][&#39;col_0&#39;, &#45;2.7053333333333334, 4, 5]&#45;&gt;[&#39;col_0&#39;, &#45;0.02800000000000047, 0, 1][&#39;col_3&#39;, 1.5266666666666664, 0, 1][&#39;col_1&#39;, 0.8559999999999999, 2, 3][&#39;col_0&#39;, &#45;2.7053333333333334, 4, 5][1.0]</title>\n<path fill=\"none\" stroke=\"black\" d=\"M689.09,-143.7C693.48,-135.4 698.81,-125.31 703.63,-116.19\"/>\n<polygon fill=\"black\" stroke=\"black\" points=\"706.84,-117.62 708.41,-107.14 700.65,-114.35 706.84,-117.62\"/>\n</g>\n<!-- [&#39;col_0&#39;, &#45;0.02800000000000047, 0, 1][&#39;col_2&#39;, &#45;0.258, 2, 3][1.0] -->\n<g id=\"node18\" class=\"node\">\n<title>[&#39;col_0&#39;, &#45;0.02800000000000047, 0, 1][&#39;col_2&#39;, &#45;0.258, 2, 3][1.0]</title>\n<ellipse fill=\"none\" stroke=\"black\" cx=\"707.95\" cy=\"-234\" rx=\"27.9\" ry=\"18\"/>\n<text text-anchor=\"middle\" x=\"707.95\" y=\"-230.3\" font-family=\"Times,serif\" font-size=\"14.00\">[1.0]</text>\n</g>\n<!-- [&#39;col_0&#39;, &#45;0.02800000000000047, 0, 1][&#39;col_2&#39;, &#45;0.258, 2, 3]&#45;&gt;[&#39;col_0&#39;, &#45;0.02800000000000047, 0, 1][&#39;col_2&#39;, &#45;0.258, 2, 3][1.0] -->\n<g id=\"edge17\" class=\"edge\">\n<title>[&#39;col_0&#39;, &#45;0.02800000000000047, 0, 1][&#39;col_2&#39;, &#45;0.258, 2, 3]&#45;&gt;[&#39;col_0&#39;, &#45;0.02800000000000047, 0, 1][&#39;col_2&#39;, &#45;0.258, 2, 3][1.0]</title>\n<path fill=\"none\" stroke=\"black\" d=\"M718.49,-287.7C716.94,-279.98 715.09,-270.71 713.37,-262.11\"/>\n<polygon fill=\"black\" stroke=\"black\" points=\"716.76,-261.22 711.37,-252.1 709.9,-262.6 716.76,-261.22\"/>\n</g>\n<!-- [&#39;col_0&#39;, &#45;0.02800000000000047, 0, 1][&#39;col_2&#39;, &#45;0.258, 2, 3][0.0] -->\n<g id=\"node19\" class=\"node\">\n<title>[&#39;col_0&#39;, &#45;0.02800000000000047, 0, 1][&#39;col_2&#39;, &#45;0.258, 2, 3][0.0]</title>\n<ellipse fill=\"none\" stroke=\"black\" cx=\"781.95\" cy=\"-234\" rx=\"27.9\" ry=\"18\"/>\n<text text-anchor=\"middle\" x=\"781.95\" y=\"-230.3\" font-family=\"Times,serif\" font-size=\"14.00\">[0.0]</text>\n</g>\n<!-- [&#39;col_0&#39;, &#45;0.02800000000000047, 0, 1][&#39;col_2&#39;, &#45;0.258, 2, 3]&#45;&gt;[&#39;col_0&#39;, &#45;0.02800000000000047, 0, 1][&#39;col_2&#39;, &#45;0.258, 2, 3][0.0] -->\n<g id=\"edge18\" class=\"edge\">\n<title>[&#39;col_0&#39;, &#45;0.02800000000000047, 0, 1][&#39;col_2&#39;, &#45;0.258, 2, 3]&#45;&gt;[&#39;col_0&#39;, &#45;0.02800000000000047, 0, 1][&#39;col_2&#39;, &#45;0.258, 2, 3][0.0]</title>\n<path fill=\"none\" stroke=\"black\" d=\"M736.47,-288.05C744.17,-279.08 753.73,-267.92 762.1,-258.15\"/>\n<polygon fill=\"black\" stroke=\"black\" points=\"764.93,-260.23 768.78,-250.36 759.62,-255.67 764.93,-260.23\"/>\n</g>\n</g>\n</svg>\n",
            "text/plain": [
              "<graphviz.graphs.Digraph at 0x7f66a3304880>"
            ]
          },
          "metadata": {},
          "execution_count": 30
        }
      ]
    },
    {
      "cell_type": "code",
      "source": [],
      "metadata": {
        "id": "IKUDKzr36Sd7"
      },
      "execution_count": null,
      "outputs": []
    }
  ]
}