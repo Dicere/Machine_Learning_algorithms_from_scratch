{
  "nbformat": 4,
  "nbformat_minor": 0,
  "metadata": {
    "colab": {
      "provenance": [],
      "authorship_tag": "ABX9TyM7o7xZKcAIhap0UzWqj/2s",
      "include_colab_link": true
    },
    "kernelspec": {
      "name": "python3",
      "display_name": "Python 3"
    },
    "language_info": {
      "name": "python"
    }
  },
  "cells": [
    {
      "cell_type": "markdown",
      "metadata": {
        "id": "view-in-github",
        "colab_type": "text"
      },
      "source": [
        "<a href=\"https://colab.research.google.com/github/Dicere/Machine_Learning_algorithms_from_scratch/blob/main/Logistic_regression.ipynb\" target=\"_parent\"><img src=\"https://colab.research.google.com/assets/colab-badge.svg\" alt=\"Open In Colab\"/></a>"
      ]
    },
    {
      "cell_type": "code",
      "source": [
        "import numpy as np\n",
        "import pandas as pd\n",
        "import random"
      ],
      "metadata": {
        "id": "353nMPq58F53"
      },
      "execution_count": 2,
      "outputs": []
    },
    {
      "cell_type": "code",
      "source": [
        "url = 'https://archive.ics.uci.edu/ml/machine-learning-databases/00267/data_banknote_authentication.txt'\n",
        "df = pd.read_csv(url, header=None)\n",
        "df.columns = ['variance', 'skewness', 'curtosis', 'entropy', 'target']\n",
        "X, y = df.iloc[:,:4], df['target']"
      ],
      "metadata": {
        "id": "JJE1Un3ssFnL"
      },
      "execution_count": 5,
      "outputs": []
    },
    {
      "cell_type": "code",
      "source": [
        "class MyLogReg():\n",
        "    def __init__(self, n_iter=100, learning_rate=0.1, weights=None, metric=None, verbose=1, score=0, reg=None, l1_coef=0, l2_coef=0,sgd_sample=None,random_state=42):\n",
        "        self.n_iter = n_iter\n",
        "        self.learning_rate = learning_rate\n",
        "        self.weights = weights\n",
        "        self.verbose = verbose\n",
        "        self.metric = metric\n",
        "        self.score = score\n",
        "        self.reg = reg\n",
        "        self.l1_coef = l1_coef\n",
        "        self.l2_coef = l2_coef\n",
        "        self.sgd_sample  = sgd_sample\n",
        "        self.random_state  = random_state\n",
        "    def __str__(self):\n",
        "        attributes = ', '.join(f\"{key}={value}\" for key, value in vars(self).items())\n",
        "        return f\"MyLogReg class: {attributes}\"\n",
        "    def __repr__(self):\n",
        "        attributes = ', '.join(f\"{key}={value}\" for key, value in vars(self).items())\n",
        "        return f\"MyLogReg class: {attributes}\"\n",
        "\n",
        "    def fit(self, X_fit: pd.DataFrame, y_fit: pd.Series, n_iter=None, lr=None, verbose=None):\n",
        "      X = X_fit.copy()\n",
        "      y = y_fit.copy()\n",
        "      X.insert(0, \"One\", 1)\n",
        "      n = X.shape[0]\n",
        "      self.weights =  np.ones(X.shape[1])\n",
        "\n",
        "      if n_iter is not None:\n",
        "          self.n_iter = n_iter\n",
        "      if lr is not None:\n",
        "          self.learning_rate = lr\n",
        "      if verbose is not None:\n",
        "          self.verbose = verbose\n",
        "\n",
        "      for i in range(self.n_iter):\n",
        "        \n",
        "        y_pred_vec = 1 / (1+ np.exp(-1*(X.to_numpy() @ self.weights)))\n",
        "        \n",
        "        y_without_null = np.clip(y_pred_vec, 1e-15, 1 - 1e-15)\n",
        "        LogLoss = -1/n*sum(y*np.log(y_without_null)+(1-y)*np.log(1-y_without_null))\n",
        "        err=np.subtract(y_pred_vec,y)\n",
        "        grad_vec = (1 / X.shape[0]) * (err @ (X.to_numpy()))\n",
        "        self.weights -= self.learning_rate * grad_vec\n",
        "\n",
        "        if i !=0 and self.verbose != 0:\n",
        "          if i % self.verbose == 0:\n",
        "            print(f\"{i}:{LogLoss}\")\n",
        "\n",
        "    def get_coef(self):\n",
        "        return self.weights[1:]\n",
        "\n",
        "    def predict(self, X_test: pd.DataFrame):\n",
        "      X = X_test.copy()\n",
        "      X.insert(0, \"One\", 1)\n",
        "      y_pred_vec = 1 / (1+ np.exp(-1*(X.to_numpy() @ self.weights)))\n",
        "      res = np.where( y_pred_vec > 0.5, 1, 0 ) \n",
        "      return res\n",
        "      \n",
        "    def predict_proba(self, X_test: pd.DataFrame):\n",
        "      X = X_test.copy()\n",
        "      X.insert(0, \"One\", 1)\n",
        "      y_pred_vec = 1 / (1+ np.exp(-1*(X.to_numpy() @ self.weights)))\n",
        "      return y_pred_vec"
      ],
      "metadata": {
        "id": "7lIw40Wvt6gk"
      },
      "execution_count": 148,
      "outputs": []
    },
    {
      "cell_type": "code",
      "source": [
        "instance = MyLogReg()"
      ],
      "metadata": {
        "id": "5GPLfVL0wD5d"
      },
      "execution_count": 149,
      "outputs": []
    },
    {
      "cell_type": "code",
      "source": [
        "instance.fit(X,y,n_iter=100,lr=0.01,verbose=10)"
      ],
      "metadata": {
        "colab": {
          "base_uri": "https://localhost:8080/"
        },
        "id": "AtUkrQ9jwGLV",
        "outputId": "a931abff-be18-4f2c-853d-34fbee4f84cd"
      },
      "execution_count": 150,
      "outputs": [
        {
          "output_type": "stream",
          "name": "stdout",
          "text": [
            "10:3.85319982029842\n",
            "20:3.202352848896302\n",
            "30:2.68812810953371\n",
            "40:2.2756150117046396\n",
            "50:1.9250538326422728\n",
            "60:1.6175146325825533\n",
            "70:1.3471696849782449\n",
            "80:1.1140696508933912\n",
            "90:0.9199630466635381\n"
          ]
        }
      ]
    },
    {
      "cell_type": "code",
      "source": [
        "instance.predict_proba(X)"
      ],
      "metadata": {
        "colab": {
          "base_uri": "https://localhost:8080/"
        },
        "id": "8jGsCAc-40aP",
        "outputId": "2aab6467-ae9f-4019-c781-24924527e1c1"
      },
      "execution_count": 153,
      "outputs": [
        {
          "output_type": "execute_result",
          "data": {
            "text/plain": [
              "array([0.3590127 , 0.16658887, 0.44660179, ..., 0.92578526, 0.94827984,\n",
              "       0.95349749])"
            ]
          },
          "metadata": {},
          "execution_count": 153
        }
      ]
    },
    {
      "cell_type": "code",
      "source": [],
      "metadata": {
        "id": "lDJBHycBnSbI"
      },
      "execution_count": null,
      "outputs": []
    }
  ]
}