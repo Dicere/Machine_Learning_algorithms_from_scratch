{
  "nbformat": 4,
  "nbformat_minor": 0,
  "metadata": {
    "colab": {
      "provenance": [],
      "authorship_tag": "ABX9TyPgEhaqVVdpIJm5HZvTyV5K",
      "include_colab_link": true
    },
    "kernelspec": {
      "name": "python3",
      "display_name": "Python 3"
    },
    "language_info": {
      "name": "python"
    }
  },
  "cells": [
    {
      "cell_type": "markdown",
      "metadata": {
        "id": "view-in-github",
        "colab_type": "text"
      },
      "source": [
        "<a href=\"https://colab.research.google.com/github/Dicere/Machine_Learning_algorithms_from_scratch/blob/main/Logistic_regression.ipynb\" target=\"_parent\"><img src=\"https://colab.research.google.com/assets/colab-badge.svg\" alt=\"Open In Colab\"/></a>"
      ]
    },
    {
      "cell_type": "code",
      "source": [
        "import numpy as np\n",
        "import pandas as pd\n",
        "import random"
      ],
      "metadata": {
        "id": "353nMPq58F53"
      },
      "execution_count": null,
      "outputs": []
    },
    {
      "cell_type": "code",
      "source": [
        "url = 'https://archive.ics.uci.edu/ml/machine-learning-databases/00267/data_banknote_authentication.txt'\n",
        "df = pd.read_csv(url, header=None)\n",
        "df.columns = ['variance', 'skewness', 'curtosis', 'entropy', 'target']\n",
        "X, y = df.iloc[:,:4], df['target']"
      ],
      "metadata": {
        "id": "JJE1Un3ssFnL"
      },
      "execution_count": null,
      "outputs": []
    },
    {
      "cell_type": "code",
      "source": [
        "class MyLogReg():\n",
        "    def __init__(self, n_iter=100, learning_rate=0.1, weights=None, metric=None, verbose=1, score=0, reg=None, l1_coef=0, l2_coef=0,sgd_sample=None,random_state=42):\n",
        "        self.n_iter = n_iter\n",
        "        self.learning_rate = learning_rate\n",
        "        self.weights = weights\n",
        "        self.verbose = verbose\n",
        "        self.metric = metric\n",
        "        self.score = score\n",
        "        self.reg = reg\n",
        "        self.l1_coef = l1_coef\n",
        "        self.l2_coef = l2_coef\n",
        "        self.sgd_sample  = sgd_sample\n",
        "        self.random_state  = random_state\n",
        "    def __str__(self):\n",
        "        attributes = ', '.join(f\"{key}={value}\" for key, value in vars(self).items())\n",
        "        return f\"MyLogReg class: {attributes}\"\n",
        "\n",
        "    def __repr__(self):\n",
        "        attributes = ', '.join(f\"{key}={value}\" for key, value in vars(self).items())\n",
        "        return f\"MyLogReg class: {attributes}\"\n",
        "\n",
        "    @staticmethod\n",
        "    def confusion_matrix_np(y_true, y_pred):\n",
        "        K = len(np.unique(y_true)) \n",
        "        conf_matrix = np.zeros((K, K))\n",
        "        for i in range(len(y_true)):\n",
        "            conf_matrix[y_true[i]][y_pred[i]] += 1\n",
        "        return conf_matrix\n",
        "        \n",
        "    @staticmethod\n",
        "    def metrics(conf_matrix,metrics,y,y_pred_vec):\n",
        "      if metrics == \"accuracy\":\n",
        "        res = (conf_matrix[1,1]+conf_matrix[0,0])/np.sum(conf_matrix)\n",
        "        return res\n",
        "      if metrics == \"precision\":\n",
        "        res = conf_matrix[1,1]/(conf_matrix[1,1]+conf_matrix[0,1])\n",
        "        return res\n",
        "      if metrics == \"recall\":\n",
        "        res = conf_matrix[1,1]/(conf_matrix[1,1]+conf_matrix[1,0])\n",
        "        return res\n",
        "      if metrics == \"f1\":\n",
        "        prec = conf_matrix[1,1]/(conf_matrix[1,1]+conf_matrix[0,1])\n",
        "        rec = conf_matrix[1,1]/(conf_matrix[1,1]+conf_matrix[1,0])\n",
        "        res = 2*(prec*rec)/(prec+rec)\n",
        "        return res\n",
        "      if metrics == \"roc_auc\":\n",
        "        concat = np.transpose(np.vstack((y,np.round(y_pred_vec,10))))\n",
        "        concat = concat[np.argsort(concat[:, 1])[::-1]]\n",
        "        zero_indices = np.where(concat[:, 0] == 0)[0]\n",
        "        arr_res=[]\n",
        "\n",
        "        for i in zero_indices:\n",
        "            ones_indices = np.where(concat[:i, 0] == 1)[0]\n",
        "            unique_ones_indices = np.unique(concat[ones_indices, 1])\n",
        "            c = np.count_nonzero(concat[i, 1] != unique_ones_indices) + 0.5 * np.count_nonzero(concat[i, 1] == unique_ones_indices)\n",
        "            arr_res.append(c)\n",
        "\n",
        "        auc_roc=sum(arr_res)/(len(zero_indices)*len(ones_indices))\n",
        "        return auc_roc\n",
        "\n",
        "    def fit(self, X_fit: pd.DataFrame, y_fit: pd.Series, n_iter=None, lr=None, verbose=None):\n",
        "      random.seed(self.random_state)\n",
        "      X = X_fit.copy()\n",
        "      y = y_fit.copy()\n",
        "      X.insert(0, \"One\", 1)\n",
        "      n = X.shape[0]\n",
        "      self.weights =  np.ones(X.shape[1])\n",
        "\n",
        "      def regularization(self):\n",
        "          if self.reg == \"l1\":\n",
        "              return self.l1_coef * np.sign(self.weights)\n",
        "          elif self.reg == \"l2\":\n",
        "              return self.l2_coef * 2 * self.weights\n",
        "          elif self.reg == \"elasticnet\":\n",
        "              return self.l1_coef * np.sign(self.weights) + self.l2_coef * 2 * self.weights\n",
        "          else:\n",
        "              return 0\n",
        "\n",
        "      if n_iter is not None:\n",
        "          self.n_iter = n_iter\n",
        "      if lr is not None:\n",
        "          self.learning_rate = lr\n",
        "      if verbose is not None:\n",
        "          self.verbose = verbose\n",
        "      if self.sgd_sample is None:\n",
        "          self.sgd_sample = X.shape[0]\n",
        "\n",
        "      if type(self.sgd_sample) == float:\n",
        "              self.sgd_sample = int(len(X)*self.sgd_sample)  \n",
        "\n",
        "      for i in range(1, self.n_iter + 1):\n",
        "\n",
        "        if callable(self.learning_rate):\n",
        "            lr = self.learning_rate(i)\n",
        "        else:\n",
        "            lr = self.learning_rate     \n",
        "\n",
        "        sample_rows_idx = random.sample(range(X.shape[0]), self.sgd_sample)\n",
        "\n",
        "        X_sgd = X.iloc[sample_rows_idx]\n",
        "        y_sgd = y.iloc[sample_rows_idx] \n",
        "\n",
        "        ### pred vec on sample\n",
        "        y_pred_vec_sgd = 1 / (1+ np.exp(-1*(X_sgd.to_numpy() @ self.weights)))\n",
        "        \n",
        "        ### LogLoss on all data\n",
        "        y_pred_vec = 1 / (1+ np.exp(-1*(X.to_numpy() @ self.weights)))\n",
        "        y_without_null = np.clip(y_pred_vec, 1e-15, 1 - 1e-15)\n",
        "        LogLoss = -1/n*sum(y*np.log(y_without_null)+(1-y)*np.log(1-y_without_null))\n",
        "\n",
        "        err=np.subtract(y_pred_vec_sgd,y_sgd)\n",
        "        grad_vec = (1 / X_sgd.shape[0]) * (err @ (X_sgd.to_numpy())) + regularization(self)\n",
        "\n",
        "        # calculate metrics\n",
        "        predict_bin = np.where( y_pred_vec > 0.5, 1, 0 )\n",
        "        conf_matrix = self.confusion_matrix_np(y,predict_bin)\n",
        "\n",
        "        self.weights -= lr * grad_vec\n",
        "        self.score = self.metrics(conf_matrix,self.metric,y,y_pred_vec)\n",
        "\n",
        "        if i !=0 and self.verbose != 0:\n",
        "          if i % self.verbose == 0 and self.metric != None:\n",
        "            print(f\"{i}:{LogLoss}|{self.metric}:{self.metrics(conf_matrix,self.metric,y,y_pred_vec)}\")\n",
        "          elif i % self.verbose == 0 and self.metric == None:\n",
        "            print(f\"{i}:{LogLoss}\")\n",
        "\n",
        "    def get_coef(self):\n",
        "        return self.weights[1:]\n",
        "\n",
        "    def predict(self, X_test: pd.DataFrame):\n",
        "      X = X_test.copy()\n",
        "      X.insert(0, \"One\", 1)\n",
        "      y_pred_vec = 1 / (1+ np.exp(-1*(X.to_numpy() @ self.weights)))\n",
        "      res = np.where( y_pred_vec > 0.5, 1, 0 ) \n",
        "      return res\n",
        "      \n",
        "    def predict_proba(self, X_test: pd.DataFrame):\n",
        "      X = X_test.copy()\n",
        "      X.insert(0, \"One\", 1)\n",
        "      y_pred_vec = 1 / (1+ np.exp(-1*(X.to_numpy() @ self.weights)))\n",
        "      return y_pred_vec\n",
        "    \n",
        "    def get_best_score(self):\n",
        "        if self.score is not None:\n",
        "              return float(self.score)\n",
        "        else:\n",
        "              return 0\n",
        "\n"
      ],
      "metadata": {
        "id": "7lIw40Wvt6gk"
      },
      "execution_count": null,
      "outputs": []
    },
    {
      "cell_type": "code",
      "source": [
        "instance = MyLogReg(sgd_sample=0.5)"
      ],
      "metadata": {
        "id": "5GPLfVL0wD5d"
      },
      "execution_count": null,
      "outputs": []
    },
    {
      "cell_type": "code",
      "source": [
        "instance.fit(X,y,n_iter=100,lr=0.01,verbose=10)"
      ],
      "metadata": {
        "colab": {
          "base_uri": "https://localhost:8080/"
        },
        "id": "AtUkrQ9jwGLV",
        "outputId": "934226b0-eaf0-4aeb-efc2-2b4c1d4650d5"
      },
      "execution_count": null,
      "outputs": [
        {
          "output_type": "stream",
          "name": "stdout",
          "text": [
            "10:3.9226801851450745\n",
            "20:3.249769578697893\n",
            "30:2.7347773856827233\n",
            "40:2.3162674920142963\n",
            "50:1.9611541781665665\n",
            "60:1.6535217224023517\n",
            "70:1.3777308382779967\n",
            "80:1.1411439045636693\n",
            "90:0.9440954165033674\n",
            "100:0.7832299073955988\n"
          ]
        }
      ]
    },
    {
      "cell_type": "code",
      "source": [
        "instance.predict_proba(X)"
      ],
      "metadata": {
        "colab": {
          "base_uri": "https://localhost:8080/"
        },
        "id": "8jGsCAc-40aP",
        "outputId": "16c26ac0-d189-4f14-a12a-9f8344363f24"
      },
      "execution_count": null,
      "outputs": [
        {
          "output_type": "execute_result",
          "data": {
            "text/plain": [
              "array([0.36283858, 0.17037354, 0.45298257, ..., 0.92835596, 0.94922913,\n",
              "       0.95304321])"
            ]
          },
          "metadata": {},
          "execution_count": 34
        }
      ]
    },
    {
      "cell_type": "code",
      "source": [],
      "metadata": {
        "id": "4Rs_lcC_RFtY"
      },
      "execution_count": null,
      "outputs": []
    }
  ]
}