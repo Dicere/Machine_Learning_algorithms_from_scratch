{
  "nbformat": 4,
  "nbformat_minor": 0,
  "metadata": {
    "colab": {
      "provenance": [],
      "authorship_tag": "ABX9TyPcjVlj1WMARYoHAO0Uu4Ws",
      "include_colab_link": true
    },
    "kernelspec": {
      "name": "python3",
      "display_name": "Python 3"
    },
    "language_info": {
      "name": "python"
    }
  },
  "cells": [
    {
      "cell_type": "markdown",
      "metadata": {
        "id": "view-in-github",
        "colab_type": "text"
      },
      "source": [
        "<a href=\"https://colab.research.google.com/github/Dicere/Machine_Learning_algorithms_from_scratch/blob/main/Tree_reg.ipynb\" target=\"_parent\"><img src=\"https://colab.research.google.com/assets/colab-badge.svg\" alt=\"Open In Colab\"/></a>"
      ]
    },
    {
      "cell_type": "code",
      "execution_count": 8,
      "metadata": {
        "id": "dUCwvk4c-QNI"
      },
      "outputs": [],
      "source": [
        "import numpy as np\n",
        "import pandas as pd\n",
        "import random"
      ]
    },
    {
      "cell_type": "code",
      "source": [
        "from sklearn.datasets import load_diabetes\n",
        "data = load_diabetes(as_frame=True)\n",
        "X, y = data['data'], data['target']"
      ],
      "metadata": {
        "id": "6EHaw8CG-ZTg"
      },
      "execution_count": 9,
      "outputs": []
    },
    {
      "cell_type": "code",
      "source": [
        "class MyTreeReg():\n",
        "    def __init__(self, max_depth=5, min_samples_split=2,max_leafs=2,bins=None):\n",
        "        self.max_depth = max_depth\n",
        "        self.min_samples_split = min_samples_split\n",
        "        self.max_leafs = max_leafs\n",
        "        self.bins = bins\n",
        "        self.leafs_cnt = 0\n",
        "        self.tree_dict = {}\n",
        "        self.depths_numb={}\n",
        "        self.node_count = 0\n",
        "    def __str__(self):\n",
        "        attributes = ', '.join(f\"{key}={value}\" for key, value in vars(self).items())\n",
        "        return f\"MyTreeClf class: {attributes}\"\n",
        "    def __repr__(self):\n",
        "        attributes = ', '.join(f\"{key}={value}\" for key, value in vars(self).items())\n",
        "        return f\"MyTreeClf class: {attributes}\"\n",
        "\n",
        "    def evristic(self,y):\n",
        "      n = y.shape[0]\n",
        "      one_count = np.count_nonzero(y == 1)\n",
        "      zero_count =  np.count_nonzero(y == 0)\n",
        "      s = 1/n*(np.sum((y-np.mean(y))**2))\n",
        "      return s\n",
        "\n",
        "\n",
        "    def get_best_split(self,X,y):\n",
        "      n_cols = X.shape[1]\n",
        "      s0 = self.evristic(y)\n",
        "      ig_max=0\n",
        "      col_name=\"\"\n",
        "      split_value=np.float()\n",
        "\n",
        "      for i in range(n_cols):\n",
        "          # if self.bins is not None:\n",
        "          #   splits_feature =  self.splits_list[i]\n",
        "          # else:\n",
        "        feature_values = np.sort(X.iloc[:,i].unique())\n",
        "        splits_feature = [(feature_values[idx]+feature_values[idx+1])/2 for idx in range(len(feature_values)-1)]\n",
        "\n",
        "        ig = 0\n",
        "        for split_val in splits_feature:\n",
        "\n",
        "            idx_right = X[np.all([X.iloc[:,i] > split_val], axis=0)].index\n",
        "            idx_left = X[np.all([X.iloc[:,i] <= split_val], axis=0)].index\n",
        "            ig = s0 - ((len(idx_left)/len(y))*self.evristic(y.loc[idx_left])) - ((len(idx_right)/len(y))*self.evristic(y.loc[idx_right]))\n",
        "\n",
        "            if ig > ig_max:\n",
        "                ig_max=ig\n",
        "                col_name=X.iloc[:,i].name\n",
        "                split_value = split_val\n",
        "      return col_name, split_value, ig_max\n",
        "\n",
        "    def node_or_list(self, y,curr_depth):\n",
        "      if y.shape[0] == 1:\n",
        "        # print('1 семпл')\n",
        "        return False\n",
        "      elif self.max_depth ==curr_depth:\n",
        "        # print('Макс глубина')\n",
        "        return False\n",
        "      elif self.max_leafs <=2:\n",
        "        # print('Меньше 1 листа быть не может')\n",
        "        return False\n",
        "      elif self.min_samples_split >y.shape[0]:\n",
        "        # print('Минимальное возможное количетсво элементов для разбиения')\n",
        "        return False\n",
        "      else:\n",
        "        if self.node_count!=0:\n",
        "          return True\n",
        "\n",
        "    def calc_bins_and_splits(self,X):\n",
        "        n_cols = X.shape[1]\n",
        "        self.splits_list=[]\n",
        "        for i in range(n_cols):\n",
        "          feature_values = np.sort(X.iloc[:,i].unique())\n",
        "          if len(feature_values)-1 <= self.bins-1:\n",
        "            splits_feature = [(feature_values[idx]+feature_values[idx+1])/2 for idx in range(len(feature_values)-1)]\n",
        "          else:\n",
        "             splits_feature = np.histogram(feature_values, bins=self.bins)[1][1:-1]\n",
        "          self.splits_list.append(splits_feature)\n",
        "\n",
        "    def add_leaf(self,curr_depth,leaf_name,leaf):\n",
        "          print(leaf)\n",
        "          print(np.mean(leaf))\n",
        "          if curr_depth in self.tree_dict.keys():\n",
        "            pred = np.mean(leaf)\n",
        "            self.tree_dict[curr_depth].append([pred])\n",
        "          else:\n",
        "            pred = np.mean(leaf)\n",
        "            self.tree_dict[curr_depth] = []\n",
        "            self.tree_dict[curr_depth].append([pred])\n",
        "          self.leafs_cnt += 1\n",
        "\n",
        "    def iter_for_feature(self,X,y,curr_depth=0):\n",
        "        col_name, split_val, ig = self.get_best_split(X,y)\n",
        "        leaf_left = X[np.all([X.loc[:,col_name] <= split_val], axis=0)].index\n",
        "        leaf_right = X[np.all([X.loc[:,col_name] > split_val], axis=0)].index\n",
        "        self.fi[col_name]+=(X.shape[0]/self.number_rows)*ig\n",
        "\n",
        "        if curr_depth in self.tree_dict.keys():\n",
        "          if curr_depth in self.depths_numb.keys():\n",
        "            self.tree_dict[curr_depth].append([col_name, split_val,self.depths_numb[curr_depth],self.depths_numb[curr_depth]+1])\n",
        "            self.depths_numb[curr_depth] +=2\n",
        "          else:\n",
        "            self.depths_numb[curr_depth] = 0\n",
        "            self.tree_dict[curr_depth].append([col_name, split_val,self.depths_numb[curr_depth],self.depths_numb[curr_depth]+1])\n",
        "            self.depths_numb[curr_depth] +=2\n",
        "        else:\n",
        "          self.depths_numb[curr_depth] = 0\n",
        "          self.tree_dict[curr_depth] = []\n",
        "          self.tree_dict[curr_depth].append([col_name, split_val,self.depths_numb[curr_depth],self.depths_numb[curr_depth]+1])\n",
        "          self.depths_numb[curr_depth] +=2\n",
        "\n",
        "        curr_depth +=1\n",
        "        if self.node_or_list(y.loc[leaf_left],curr_depth):\n",
        "          self.node_count-=1\n",
        "          self.iter_for_feature(X.loc[leaf_left],y.loc[leaf_left],curr_depth)\n",
        "        else:\n",
        "          self.add_leaf(curr_depth,\"leaf_left\",leaf_left)\n",
        "        if self.node_or_list(y.loc[leaf_right],curr_depth):\n",
        "          self.node_count-=1\n",
        "          self.iter_for_feature(X.loc[leaf_right],y.loc[leaf_right],curr_depth)\n",
        "        else:\n",
        "          self.add_leaf(curr_depth,\"leaf_right\",leaf_right)\n",
        "\n",
        "    def fit(self, X_fit: pd.DataFrame, y_fit: pd.Series):\n",
        "      X = X_fit.copy()\n",
        "      y = y_fit.copy()\n",
        "      if self.bins is not None:\n",
        "          self.calc_bins_and_splits(X)\n",
        "      self.fi=dict.fromkeys(X.columns,0)\n",
        "      self.number_rows=X.shape[0]\n",
        "      self.node_count = self.max_leafs-2\n",
        "      self.iter_for_feature(X,y)\n",
        "      return self.tree_dict\n",
        "\n",
        "    def pred(self,x,i,c):\n",
        "      if len(self.tree_dict[i][c]) != 1:\n",
        "        uslovie = self.tree_dict[i][c][1]\n",
        "        column = self.tree_dict[i][c][0]\n",
        "        idx_left_leaf=self.tree_dict[i][c][2]\n",
        "        idx_right_leaf= self.tree_dict[i][c][3]\n",
        "        if x[column] <= uslovie:\n",
        "          i+=1\n",
        "          return self.pred(x,i,idx_left_leaf)\n",
        "        else:\n",
        "          i+=1\n",
        "          return self.pred(x,i,idx_right_leaf)\n",
        "      else:\n",
        "        return self.tree_dict[i][c][-1]\n",
        "\n",
        "    def predict(self, X_test: pd.DataFrame):\n",
        "        X = X_test.copy()\n",
        "        y_pred_vec = X.apply(lambda x: self.pred(x,0,0),axis=1)\n",
        "        return y_pred_vec\n",
        "\n",
        "\n"
      ],
      "metadata": {
        "id": "1CJSTzcA-fwv"
      },
      "execution_count": 10,
      "outputs": []
    },
    {
      "cell_type": "code",
      "source": [
        "instance = MyTreeReg(max_depth=5, min_samples_split=5, max_leafs=10)"
      ],
      "metadata": {
        "id": "xYLyTC60SBfU"
      },
      "execution_count": 11,
      "outputs": []
    },
    {
      "cell_type": "code",
      "source": [
        "tree_dict = instance.fit(X,y)"
      ],
      "metadata": {
        "colab": {
          "base_uri": "https://localhost:8080/"
        },
        "id": "jtq6K8HrSUf2",
        "outputId": "883b05da-fc5c-409c-c862-c930fffc7efb"
      },
      "execution_count": 12,
      "outputs": [
        {
          "output_type": "stream",
          "name": "stderr",
          "text": [
            "<ipython-input-10-fe0478187489>:31: DeprecationWarning: `np.float` is a deprecated alias for the builtin `float`. To silence this warning, use `float` by itself. Doing this will not modify any behavior and is safe. If you specifically wanted the numpy scalar type, use `np.float64` here.\n",
            "Deprecated in NumPy 1.20; for more details and guidance: https://numpy.org/devdocs/release/1.20.0-notes.html#deprecations\n",
            "  split_value=np.float()\n"
          ]
        },
        {
          "output_type": "stream",
          "name": "stdout",
          "text": [
            "Int64Index([  4,  10,  18,  20,  34,  41,  46,  47,  50,  53,  63,  69,  77,\n",
            "             79, 106, 120, 131, 156, 158, 160, 171, 175, 189, 223, 224, 228,\n",
            "            259, 283, 297, 312, 338, 340, 373, 391, 393, 419, 420, 430, 435],\n",
            "           dtype='int64')\n",
            "188.25641025641025\n",
            "Int64Index([  6,  21,  42,  45,  64,  67,  68,  73,  81,  86,  98, 105, 109,\n",
            "            132, 133, 153, 166, 173, 209, 220, 235, 241, 242, 243, 258, 263,\n",
            "            279, 294, 298, 299, 306, 329, 331, 334, 349, 351, 355, 356, 381,\n",
            "            383, 385, 392, 396, 427, 438, 439],\n",
            "           dtype='int64')\n",
            "231.6304347826087\n",
            "Int64Index([282, 304], dtype='int64')\n",
            "293.0\n",
            "Int64Index([26, 31, 57, 70, 93, 136, 165, 213, 237, 247, 358, 406, 436, 441], dtype='int64')\n",
            "208.28571428571428\n",
            "Int64Index([  1,   5,  12,  14,  19,  22,  33,  43,  52,  55,  60,  82,  84,\n",
            "             89,  90,  94, 111, 126, 128, 143, 151, 178, 181, 187, 196, 200,\n",
            "            214, 245, 260, 261, 269, 277, 286, 292, 296, 308, 315, 335, 348,\n",
            "            361, 370, 379, 386, 401, 413, 418, 425, 429, 433, 434],\n",
            "           dtype='int64')\n",
            "210.22\n",
            "Int64Index([62, 88, 201, 226, 229, 257, 266, 301, 372, 389], dtype='int64')\n",
            "239.1\n",
            "Int64Index([7, 48, 101, 110, 170, 192, 227, 288, 352, 431], dtype='int64')\n",
            "192.6\n",
            "Int64Index([102, 112], dtype='int64')\n",
            "107.0\n",
            "Int64Index([  8,  11,  24,  27,  30,  54,  76,  83,  85, 103, 104, 107, 124,\n",
            "            134, 140, 145, 148, 150, 162, 163, 198, 210, 211, 233, 244, 252,\n",
            "            264, 271, 272, 293, 310, 314, 330, 341, 342, 343, 369, 380, 387,\n",
            "            400, 404, 407, 411, 416, 417],\n",
            "           dtype='int64')\n",
            "219.93333333333334\n",
            "Int64Index([  0,   2,   3,   9,  13,  15,  16,  17,  23,  25,\n",
            "            ...\n",
            "            415, 421, 422, 423, 424, 426, 428, 432, 437, 440],\n",
            "           dtype='int64', length=224)\n",
            "227.78125\n"
          ]
        }
      ]
    },
    {
      "cell_type": "code",
      "source": [
        "tree_dict"
      ],
      "metadata": {
        "colab": {
          "base_uri": "https://localhost:8080/"
        },
        "id": "wJKxAPFRW5Ze",
        "outputId": "2523760a-24b9-4127-a686-2d8b55403def"
      },
      "execution_count": 13,
      "outputs": [
        {
          "output_type": "execute_result",
          "data": {
            "text/plain": [
              "{0: [['s5', -0.0037611760063045703, 0, 1]],\n",
              " 1: [['bmi', 0.0061888847138220964, 0, 1], [227.78125]],\n",
              " 2: [['s3', 0.02102781591949656, 0, 1], ['age', -0.07998159322470814, 2, 3]],\n",
              " 3: [['s1', 0.06310082451524143, 0, 1],\n",
              "  ['sex', 0.003019241116414738, 2, 3],\n",
              "  [107.0],\n",
              "  [219.93333333333334]],\n",
              " 4: [['sex', 0.003019241116414738, 0, 1],\n",
              "  [293.0],\n",
              "  ['bmi', -0.06279108801454907, 2, 3],\n",
              "  ['age', 0.005383060374248236, 4, 5]],\n",
              " 5: [[188.25641025641025],\n",
              "  [231.6304347826087],\n",
              "  [208.28571428571428],\n",
              "  [210.22],\n",
              "  [239.1],\n",
              "  [192.6]]}"
            ]
          },
          "metadata": {},
          "execution_count": 13
        }
      ]
    },
    {
      "cell_type": "code",
      "source": [
        "instance.predict(X)"
      ],
      "metadata": {
        "colab": {
          "base_uri": "https://localhost:8080/"
        },
        "id": "U_rWmkweSqEN",
        "outputId": "7c4ce383-8d73-4d77-844c-eb7de0800790"
      },
      "execution_count": 7,
      "outputs": [
        {
          "output_type": "execute_result",
          "data": {
            "text/plain": [
              "0      227.781250\n",
              "1      210.220000\n",
              "2      227.781250\n",
              "3      227.781250\n",
              "4      188.256410\n",
              "          ...    \n",
              "437    227.781250\n",
              "438    231.630435\n",
              "439    231.630435\n",
              "440    227.781250\n",
              "441    208.285714\n",
              "Length: 442, dtype: float64"
            ]
          },
          "metadata": {},
          "execution_count": 7
        }
      ]
    },
    {
      "cell_type": "code",
      "source": [
        "import graphviz\n",
        "class TreeNode:\n",
        "    def __init__(self, value, left=None, right=None):\n",
        "        self.is_leaf = len(value) == 1  # Лист содержит только один элемент\n",
        "        self.value = value\n",
        "        self.left = left\n",
        "        self.right = right\n",
        "\n",
        "\n",
        "def build_tree(tree_dict):\n",
        "    nodes = {0: [TreeNode(tree_dict[0][0])]}\n",
        "\n",
        "    for depth in range(1, max(tree_dict.keys())+1):\n",
        "        nodes[depth] = []\n",
        "        i = 0\n",
        "        while i < len(tree_dict[depth]):\n",
        "            for parent_node in nodes[depth-1]:\n",
        "                if parent_node.is_leaf:\n",
        "                    # Если родитель является листом, он не может иметь детей, поэтому пропускаем его.\n",
        "                    continue\n",
        "                left = TreeNode(tree_dict[depth][i])\n",
        "                right = TreeNode(tree_dict[depth][i+1]) if i+1 < len(tree_dict[depth]) else None\n",
        "                parent_node.left = left\n",
        "                parent_node.right = right\n",
        "                nodes[depth].extend([left, right])\n",
        "                i += 2  # Переходим к следующей паре узлов на текущей глубине.\n",
        "                if i >= len(tree_dict[depth]):  # Прерываем цикл, если больше нет узлов.\n",
        "                    break\n",
        "    return nodes[0][0]  # Возвращаем корень дерева\n",
        "\n",
        "def add_edges(graph, node, parent_name=\"\"):\n",
        "    if node is not None:\n",
        "        node_name = parent_name + str(node.value)\n",
        "        graph.node(node_name, label=str(node.value))\n",
        "        if parent_name:\n",
        "            graph.edge(parent_name, node_name)\n",
        "        add_edges(graph, node.left, node_name)\n",
        "        add_edges(graph, node.right, node_name)\n",
        "\n",
        "def visualize_tree(root):\n",
        "    dot = graphviz.Digraph()\n",
        "    add_edges(dot, root)\n",
        "    return dot\n",
        "\n",
        "\n"
      ],
      "metadata": {
        "id": "bSLd77bTSdwo"
      },
      "execution_count": null,
      "outputs": []
    },
    {
      "cell_type": "code",
      "source": [
        "def print_tree(node, indent=\"\", side=\"root\"):\n",
        "    if node.is_leaf:\n",
        "        if side == \"left\":\n",
        "            print(f\"{indent}leaf_left = {node.value[0]}\")\n",
        "        elif side == \"right\":\n",
        "            print(f\"{indent}leaf_right = {node.value[0]}\")\n",
        "    else:\n",
        "        print(f\"{indent}{node.value[0]} > {node.value[1]}\")\n",
        "        print_tree(node.left, indent + \"  \", \"left\")\n",
        "        if node.right is not None:\n",
        "            print_tree(node.right, indent + \"  \", \"right\")"
      ],
      "metadata": {
        "id": "kj0v0wGhSfQv"
      },
      "execution_count": null,
      "outputs": []
    },
    {
      "cell_type": "code",
      "source": [
        "root = build_tree(tree_dict)\n",
        "print_tree(root)"
      ],
      "metadata": {
        "colab": {
          "base_uri": "https://localhost:8080/"
        },
        "id": "5UOj9M3VShKk",
        "outputId": "ce71794b-bf6a-445f-ed93-fa2676edca10"
      },
      "execution_count": null,
      "outputs": [
        {
          "output_type": "stream",
          "name": "stdout",
          "text": [
            "s5 > -0.0037611760063045703\n",
            "  bmi > 0.0061888847138220964\n",
            "    s3 > 0.02102781591949656\n",
            "      s1 > 0.06310082451524143\n",
            "        sex > 0.003019241116414738\n",
            "          leaf_left = 188.25641025641025\n",
            "          leaf_right = 231.6304347826087\n",
            "        leaf_right = 293.0\n",
            "      sex > 0.003019241116414738\n",
            "        bmi > -0.06279108801454907\n",
            "          leaf_left = 208.28571428571428\n",
            "          leaf_right = 210.22\n",
            "        age > 0.005383060374248236\n",
            "          leaf_left = 239.1\n",
            "          leaf_right = 192.6\n",
            "    age > -0.07998159322470814\n",
            "      leaf_left = 107.0\n",
            "      leaf_right = 219.93333333333334\n",
            "  leaf_right = 227.78125\n"
          ]
        }
      ]
    }
  ]
}