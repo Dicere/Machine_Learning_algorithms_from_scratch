{
  "nbformat": 4,
  "nbformat_minor": 0,
  "metadata": {
    "colab": {
      "provenance": [],
      "authorship_tag": "ABX9TyOiKtz0Nta5cnqzpfjgXRiG",
      "include_colab_link": true
    },
    "kernelspec": {
      "name": "python3",
      "display_name": "Python 3"
    },
    "language_info": {
      "name": "python"
    }
  },
  "cells": [
    {
      "cell_type": "markdown",
      "metadata": {
        "id": "view-in-github",
        "colab_type": "text"
      },
      "source": [
        "<a href=\"https://colab.research.google.com/github/Dicere/Machine_Learning_algorithms_from_scratch/blob/main/Tree_reg.ipynb\" target=\"_parent\"><img src=\"https://colab.research.google.com/assets/colab-badge.svg\" alt=\"Open In Colab\"/></a>"
      ]
    },
    {
      "cell_type": "code",
      "execution_count": 1,
      "metadata": {
        "id": "dUCwvk4c-QNI"
      },
      "outputs": [],
      "source": [
        "import numpy as np\n",
        "import pandas as pd\n",
        "import random"
      ]
    },
    {
      "cell_type": "code",
      "source": [
        "from sklearn.datasets import load_diabetes\n",
        "data = load_diabetes(as_frame=True)\n",
        "X, y = data['data'], data['target']"
      ],
      "metadata": {
        "id": "6EHaw8CG-ZTg"
      },
      "execution_count": 2,
      "outputs": []
    },
    {
      "cell_type": "code",
      "source": [
        "class MyTreeReg():\n",
        "    def __init__(self, max_depth=5, min_samples_split=2,max_leafs=2,bins=None):\n",
        "        self.max_depth = max_depth\n",
        "        self.min_samples_split = min_samples_split\n",
        "        self.max_leafs = max_leafs\n",
        "        self.bins = bins\n",
        "        self.leafs_cnt = 0\n",
        "        self.tree_dict = {}\n",
        "        self.depths_numb={}\n",
        "        self.node_count = 0\n",
        "        self.fi={}\n",
        "    def __str__(self):\n",
        "        attributes = ', '.join(f\"{key}={value}\" for key, value in vars(self).items())\n",
        "        return f\"MyTreeClf class: {attributes}\"\n",
        "    def __repr__(self):\n",
        "        attributes = ', '.join(f\"{key}={value}\" for key, value in vars(self).items())\n",
        "        return f\"MyTreeClf class: {attributes}\"\n",
        "\n",
        "    def evristic(self,y):\n",
        "      n = y.shape[0]\n",
        "      if n == 0:\n",
        "        return 0\n",
        "      s = 1/n*(np.sum((y-np.mean(y))**2))\n",
        "      return s\n",
        "\n",
        "\n",
        "    def get_best_split(self,X,y):\n",
        "      n_cols = X.shape[1]\n",
        "      s0 = self.evristic(y)\n",
        "      ig_max=0\n",
        "      col_name=\"\"\n",
        "      split_value=np.float()\n",
        "\n",
        "      for i in range(n_cols):\n",
        "        if self.bins is not None:\n",
        "          splits_feature =  self.splits_list[i]\n",
        "        else:\n",
        "          feature_values = np.sort(X.iloc[:,i].unique())\n",
        "          splits_feature = [(feature_values[idx]+feature_values[idx+1])/2 for idx in range(len(feature_values)-1)]\n",
        "\n",
        "        ig = 0\n",
        "        for split_val in splits_feature:\n",
        "\n",
        "            idx_right = X[np.all([X.iloc[:,i] > split_val], axis=0)].index\n",
        "            idx_left = X[np.all([X.iloc[:,i] <= split_val], axis=0)].index\n",
        "            ig = s0 - ((len(idx_left)/len(y))*self.evristic(y.loc[idx_left])) - ((len(idx_right)/len(y))*self.evristic(y.loc[idx_right]))\n",
        "\n",
        "            if ig > ig_max:\n",
        "                ig_max=ig\n",
        "                col_name=X.iloc[:,i].name\n",
        "                split_value = split_val\n",
        "      return col_name, split_value, ig_max\n",
        "\n",
        "    def node_or_list(self, y,curr_depth):\n",
        "      if y.shape[0] <= 1:\n",
        "        # print('1 семпл')\n",
        "        return False\n",
        "      elif self.max_depth ==curr_depth:\n",
        "        # print('Макс глубина')\n",
        "        return False\n",
        "      elif self.max_leafs <=2:\n",
        "        # print('Меньше 1 листа быть не может')\n",
        "        return False\n",
        "      elif self.min_samples_split >y.shape[0]:\n",
        "        # print('Минимальное возможное количетсво элементов для разбиения')\n",
        "        return False\n",
        "      else:\n",
        "        if self.node_count!=0:\n",
        "          return True\n",
        "\n",
        "    def calc_bins_and_splits(self,X):\n",
        "        n_cols = X.shape[1]\n",
        "        self.splits_list=[]\n",
        "        for i in range(n_cols):\n",
        "          feature_values = np.sort(X.iloc[:,i].unique())\n",
        "          if len(feature_values)-1 <= self.bins-1:\n",
        "            splits_feature = [(feature_values[idx]+feature_values[idx+1])/2 for idx in range(len(feature_values)-1)]\n",
        "          else:\n",
        "             splits_feature = np.histogram(feature_values, bins=self.bins)[1][1:-1]\n",
        "          self.splits_list.append(splits_feature)\n",
        "\n",
        "    def add_leaf(self,curr_depth,leaf_name,leaf):\n",
        "\n",
        "          if curr_depth in self.tree_dict.keys():\n",
        "            pred = np.mean(y.loc[leaf])\n",
        "            self.tree_dict[curr_depth].append([pred])\n",
        "          else:\n",
        "            pred = np.mean(y.loc[leaf])\n",
        "            self.tree_dict[curr_depth] = []\n",
        "            self.tree_dict[curr_depth].append([pred])\n",
        "          self.leafs_cnt += 1\n",
        "\n",
        "    def iter_for_feature(self,X,y,curr_depth=0):\n",
        "        col_name, split_val, ig = self.get_best_split(X,y)\n",
        "        leaf_left = X[np.all([X.loc[:,col_name] <= split_val], axis=0)].index\n",
        "        leaf_right = X[np.all([X.loc[:,col_name] > split_val], axis=0)].index\n",
        "        self.fi[col_name]+=(X.shape[0]/self.number_rows)*ig\n",
        "\n",
        "        if curr_depth in self.tree_dict.keys():\n",
        "          if curr_depth in self.depths_numb.keys():\n",
        "            self.tree_dict[curr_depth].append([col_name, split_val,self.depths_numb[curr_depth],self.depths_numb[curr_depth]+1])\n",
        "            self.depths_numb[curr_depth] +=2\n",
        "          else:\n",
        "            self.depths_numb[curr_depth] = 0\n",
        "            self.tree_dict[curr_depth].append([col_name, split_val,self.depths_numb[curr_depth],self.depths_numb[curr_depth]+1])\n",
        "            self.depths_numb[curr_depth] +=2\n",
        "        else:\n",
        "          self.depths_numb[curr_depth] = 0\n",
        "          self.tree_dict[curr_depth] = []\n",
        "          self.tree_dict[curr_depth].append([col_name, split_val,self.depths_numb[curr_depth],self.depths_numb[curr_depth]+1])\n",
        "          self.depths_numb[curr_depth] +=2\n",
        "\n",
        "        curr_depth +=1\n",
        "        if self.node_or_list(y.loc[leaf_left],curr_depth):\n",
        "          self.node_count-=1\n",
        "          self.iter_for_feature(X.loc[leaf_left],y.loc[leaf_left],curr_depth)\n",
        "        else:\n",
        "          self.add_leaf(curr_depth,\"leaf_left\",leaf_left)\n",
        "        if self.node_or_list(y.loc[leaf_right],curr_depth):\n",
        "          self.node_count-=1\n",
        "          self.iter_for_feature(X.loc[leaf_right],y.loc[leaf_right],curr_depth)\n",
        "        else:\n",
        "          self.add_leaf(curr_depth,\"leaf_right\",leaf_right)\n",
        "\n",
        "    def fit(self, X_fit: pd.DataFrame, y_fit: pd.Series):\n",
        "      X = X_fit.copy()\n",
        "      y = y_fit.copy()\n",
        "      if self.bins is not None:\n",
        "          self.calc_bins_and_splits(X)\n",
        "      self.fi=dict.fromkeys(X.columns,0)\n",
        "      self.number_rows=X.shape[0]\n",
        "      self.node_count = self.max_leafs-2\n",
        "      self.iter_for_feature(X,y)\n",
        "      return self.tree_dict\n",
        "\n",
        "    def pred(self,x,i,c):\n",
        "      if len(self.tree_dict[i][c]) != 1:\n",
        "        uslovie = self.tree_dict[i][c][1]\n",
        "        column = self.tree_dict[i][c][0]\n",
        "        idx_left_leaf=self.tree_dict[i][c][2]\n",
        "        idx_right_leaf= self.tree_dict[i][c][3]\n",
        "        if x[column] <= uslovie:\n",
        "          i+=1\n",
        "          return self.pred(x,i,idx_left_leaf)\n",
        "        else:\n",
        "          i+=1\n",
        "          return self.pred(x,i,idx_right_leaf)\n",
        "      else:\n",
        "        return self.tree_dict[i][c][-1]\n",
        "\n",
        "    def predict(self, X_test: pd.DataFrame):\n",
        "        X = X_test.copy()\n",
        "        y_pred_vec = X.apply(lambda x: self.pred(x,0,0),axis=1)\n",
        "        return y_pred_vec\n",
        "\n",
        "\n"
      ],
      "metadata": {
        "id": "1CJSTzcA-fwv"
      },
      "execution_count": 19,
      "outputs": []
    },
    {
      "cell_type": "code",
      "source": [
        "params = {\"max_depth\": 3, \"min_samples_split\": 2, \"max_leafs\": 1, \"bins\": 10}"
      ],
      "metadata": {
        "id": "ol8RoJepI_aM"
      },
      "execution_count": 16,
      "outputs": []
    },
    {
      "cell_type": "code",
      "source": [
        "instance = MyTreeReg(**params)"
      ],
      "metadata": {
        "id": "xYLyTC60SBfU"
      },
      "execution_count": 17,
      "outputs": []
    },
    {
      "cell_type": "code",
      "source": [
        "tree_dict = instance.fit(X,y)"
      ],
      "metadata": {
        "colab": {
          "base_uri": "https://localhost:8080/"
        },
        "id": "jtq6K8HrSUf2",
        "outputId": "c9e1a234-60b4-4a99-c8b1-caf7bf6e413c"
      },
      "execution_count": 18,
      "outputs": [
        {
          "output_type": "stream",
          "name": "stderr",
          "text": [
            "<ipython-input-15-5e663e156483>:31: DeprecationWarning: `np.float` is a deprecated alias for the builtin `float`. To silence this warning, use `float` by itself. Doing this will not modify any behavior and is safe. If you specifically wanted the numpy scalar type, use `np.float64` here.\n",
            "Deprecated in NumPy 1.20; for more details and guidance: https://numpy.org/devdocs/release/1.20.0-notes.html#deprecations\n",
            "  split_value=np.float()\n"
          ]
        }
      ]
    },
    {
      "cell_type": "code",
      "source": [
        "tree_dict"
      ],
      "metadata": {
        "colab": {
          "base_uri": "https://localhost:8080/"
        },
        "id": "wJKxAPFRW5Ze",
        "outputId": "cb6c2efa-bf0c-4a0d-834d-ed7c9ac07ef3"
      },
      "execution_count": 13,
      "outputs": [
        {
          "output_type": "execute_result",
          "data": {
            "text/plain": [
              "{0: [['bmi', 0.014056912853151957, 0, 1]],\n",
              " 1: [[122.76223776223776], [205.98076923076923]]}"
            ]
          },
          "metadata": {},
          "execution_count": 13
        }
      ]
    },
    {
      "cell_type": "code",
      "source": [
        "sum(instance.predict(X))"
      ],
      "metadata": {
        "colab": {
          "base_uri": "https://localhost:8080/"
        },
        "id": "U_rWmkweSqEN",
        "outputId": "b797f68b-4cbd-4e55-fd51-ffb1e6580349"
      },
      "execution_count": 14,
      "outputs": [
        {
          "output_type": "execute_result",
          "data": {
            "text/plain": [
              "67242.99999999997"
            ]
          },
          "metadata": {},
          "execution_count": 14
        }
      ]
    },
    {
      "cell_type": "code",
      "source": [
        "import graphviz\n",
        "class TreeNode:\n",
        "    def __init__(self, value, left=None, right=None):\n",
        "        self.is_leaf = len(value) == 1  # Лист содержит только один элемент\n",
        "        self.value = value\n",
        "        self.left = left\n",
        "        self.right = right\n",
        "\n",
        "\n",
        "def build_tree(tree_dict):\n",
        "    nodes = {0: [TreeNode(tree_dict[0][0])]}\n",
        "\n",
        "    for depth in range(1, max(tree_dict.keys())+1):\n",
        "        nodes[depth] = []\n",
        "        i = 0\n",
        "        while i < len(tree_dict[depth]):\n",
        "            for parent_node in nodes[depth-1]:\n",
        "                if parent_node.is_leaf:\n",
        "                    # Если родитель является листом, он не может иметь детей, поэтому пропускаем его.\n",
        "                    continue\n",
        "                left = TreeNode(tree_dict[depth][i])\n",
        "                right = TreeNode(tree_dict[depth][i+1]) if i+1 < len(tree_dict[depth]) else None\n",
        "                parent_node.left = left\n",
        "                parent_node.right = right\n",
        "                nodes[depth].extend([left, right])\n",
        "                i += 2  # Переходим к следующей паре узлов на текущей глубине.\n",
        "                if i >= len(tree_dict[depth]):  # Прерываем цикл, если больше нет узлов.\n",
        "                    break\n",
        "    return nodes[0][0]  # Возвращаем корень дерева\n",
        "\n",
        "def add_edges(graph, node, parent_name=\"\"):\n",
        "    if node is not None:\n",
        "        node_name = parent_name + str(node.value)\n",
        "        graph.node(node_name, label=str(node.value))\n",
        "        if parent_name:\n",
        "            graph.edge(parent_name, node_name)\n",
        "        add_edges(graph, node.left, node_name)\n",
        "        add_edges(graph, node.right, node_name)\n",
        "\n",
        "def visualize_tree(root):\n",
        "    dot = graphviz.Digraph()\n",
        "    add_edges(dot, root)\n",
        "    return dot\n",
        "\n",
        "\n"
      ],
      "metadata": {
        "id": "bSLd77bTSdwo"
      },
      "execution_count": null,
      "outputs": []
    },
    {
      "cell_type": "code",
      "source": [
        "root = build_tree(tree_dict)\n",
        "visualize_tree(root)"
      ],
      "metadata": {
        "colab": {
          "base_uri": "https://localhost:8080/",
          "height": 580
        },
        "id": "jtHKYRKMFHNy",
        "outputId": "4c95447e-2b75-4eeb-8828-90ee31ba06e7"
      },
      "execution_count": null,
      "outputs": [
        {
          "output_type": "execute_result",
          "data": {
            "image/svg+xml": "<?xml version=\"1.0\" encoding=\"UTF-8\" standalone=\"no\"?>\n<!DOCTYPE svg PUBLIC \"-//W3C//DTD SVG 1.1//EN\"\n \"http://www.w3.org/Graphics/SVG/1.1/DTD/svg11.dtd\">\n<!-- Generated by graphviz version 2.43.0 (0)\n -->\n<!-- Title: %3 Pages: 1 -->\n<svg width=\"1125pt\" height=\"404pt\"\n viewBox=\"0.00 0.00 1125.18 404.00\" xmlns=\"http://www.w3.org/2000/svg\" xmlns:xlink=\"http://www.w3.org/1999/xlink\">\n<g id=\"graph0\" class=\"graph\" transform=\"scale(1 1) rotate(0) translate(4 400)\">\n<title>%3</title>\n<polygon fill=\"white\" stroke=\"transparent\" points=\"-4,4 -4,-400 1121.18,-400 1121.18,4 -4,4\"/>\n<!-- [&#39;s5&#39;, &#45;0.0037611760063045703, 0, 1] -->\n<g id=\"node1\" class=\"node\">\n<title>[&#39;s5&#39;, &#45;0.0037611760063045703, 0, 1]</title>\n<ellipse fill=\"none\" stroke=\"black\" cx=\"883.59\" cy=\"-378\" rx=\"143.77\" ry=\"18\"/>\n<text text-anchor=\"middle\" x=\"883.59\" y=\"-374.3\" font-family=\"Times,serif\" font-size=\"14.00\">[&#39;s5&#39;, &#45;0.0037611760063045703, 0, 1]</text>\n</g>\n<!-- [&#39;s5&#39;, &#45;0.0037611760063045703, 0, 1][&#39;bmi&#39;, 0.0061888847138220964, 0, 1] -->\n<g id=\"node2\" class=\"node\">\n<title>[&#39;s5&#39;, &#45;0.0037611760063045703, 0, 1][&#39;bmi&#39;, 0.0061888847138220964, 0, 1]</title>\n<ellipse fill=\"none\" stroke=\"black\" cx=\"754.59\" cy=\"-306\" rx=\"147.57\" ry=\"18\"/>\n<text text-anchor=\"middle\" x=\"754.59\" y=\"-302.3\" font-family=\"Times,serif\" font-size=\"14.00\">[&#39;bmi&#39;, 0.0061888847138220964, 0, 1]</text>\n</g>\n<!-- [&#39;s5&#39;, &#45;0.0037611760063045703, 0, 1]&#45;&gt;[&#39;s5&#39;, &#45;0.0037611760063045703, 0, 1][&#39;bmi&#39;, 0.0061888847138220964, 0, 1] -->\n<g id=\"edge1\" class=\"edge\">\n<title>[&#39;s5&#39;, &#45;0.0037611760063045703, 0, 1]&#45;&gt;[&#39;s5&#39;, &#45;0.0037611760063045703, 0, 1][&#39;bmi&#39;, 0.0061888847138220964, 0, 1]</title>\n<path fill=\"none\" stroke=\"black\" d=\"M853.02,-360.41C835.48,-350.89 813.25,-338.83 794.36,-328.58\"/>\n<polygon fill=\"black\" stroke=\"black\" points=\"795.85,-325.41 785.39,-323.71 792.51,-331.56 795.85,-325.41\"/>\n</g>\n<!-- [&#39;s5&#39;, &#45;0.0037611760063045703, 0, 1][193.15178571428572] -->\n<g id=\"node19\" class=\"node\">\n<title>[&#39;s5&#39;, &#45;0.0037611760063045703, 0, 1][193.15178571428572]</title>\n<ellipse fill=\"none\" stroke=\"black\" cx=\"1013.59\" cy=\"-306\" rx=\"93.68\" ry=\"18\"/>\n<text text-anchor=\"middle\" x=\"1013.59\" y=\"-302.3\" font-family=\"Times,serif\" font-size=\"14.00\">[193.15178571428572]</text>\n</g>\n<!-- [&#39;s5&#39;, &#45;0.0037611760063045703, 0, 1]&#45;&gt;[&#39;s5&#39;, &#45;0.0037611760063045703, 0, 1][193.15178571428572] -->\n<g id=\"edge18\" class=\"edge\">\n<title>[&#39;s5&#39;, &#45;0.0037611760063045703, 0, 1]&#45;&gt;[&#39;s5&#39;, &#45;0.0037611760063045703, 0, 1][193.15178571428572]</title>\n<path fill=\"none\" stroke=\"black\" d=\"M914.4,-360.41C932.42,-350.71 955.34,-338.37 974.61,-327.99\"/>\n<polygon fill=\"black\" stroke=\"black\" points=\"976.31,-331.05 983.45,-323.23 972.99,-324.89 976.31,-331.05\"/>\n</g>\n<!-- [&#39;s5&#39;, &#45;0.0037611760063045703, 0, 1][&#39;bmi&#39;, 0.0061888847138220964, 0, 1][&#39;s3&#39;, 0.02102781591949656, 0, 1] -->\n<g id=\"node3\" class=\"node\">\n<title>[&#39;s5&#39;, &#45;0.0037611760063045703, 0, 1][&#39;bmi&#39;, 0.0061888847138220964, 0, 1][&#39;s3&#39;, 0.02102781591949656, 0, 1]</title>\n<ellipse fill=\"none\" stroke=\"black\" cx=\"609.59\" cy=\"-234\" rx=\"131.88\" ry=\"18\"/>\n<text text-anchor=\"middle\" x=\"609.59\" y=\"-230.3\" font-family=\"Times,serif\" font-size=\"14.00\">[&#39;s3&#39;, 0.02102781591949656, 0, 1]</text>\n</g>\n<!-- [&#39;s5&#39;, &#45;0.0037611760063045703, 0, 1][&#39;bmi&#39;, 0.0061888847138220964, 0, 1]&#45;&gt;[&#39;s5&#39;, &#45;0.0037611760063045703, 0, 1][&#39;bmi&#39;, 0.0061888847138220964, 0, 1][&#39;s3&#39;, 0.02102781591949656, 0, 1] -->\n<g id=\"edge2\" class=\"edge\">\n<title>[&#39;s5&#39;, &#45;0.0037611760063045703, 0, 1][&#39;bmi&#39;, 0.0061888847138220964, 0, 1]&#45;&gt;[&#39;s5&#39;, &#45;0.0037611760063045703, 0, 1][&#39;bmi&#39;, 0.0061888847138220964, 0, 1][&#39;s3&#39;, 0.02102781591949656, 0, 1]</title>\n<path fill=\"none\" stroke=\"black\" d=\"M720.23,-288.41C700.09,-278.69 674.47,-266.32 652.96,-255.94\"/>\n<polygon fill=\"black\" stroke=\"black\" points=\"654.24,-252.67 643.71,-251.47 651.19,-258.97 654.24,-252.67\"/>\n</g>\n<!-- [&#39;s5&#39;, &#45;0.0037611760063045703, 0, 1][&#39;bmi&#39;, 0.0061888847138220964, 0, 1][&#39;age&#39;, &#45;0.07998159322470814, 2, 3] -->\n<g id=\"node16\" class=\"node\">\n<title>[&#39;s5&#39;, &#45;0.0037611760063045703, 0, 1][&#39;bmi&#39;, 0.0061888847138220964, 0, 1][&#39;age&#39;, &#45;0.07998159322470814, 2, 3]</title>\n<ellipse fill=\"none\" stroke=\"black\" cx=\"899.59\" cy=\"-234\" rx=\"139.98\" ry=\"18\"/>\n<text text-anchor=\"middle\" x=\"899.59\" y=\"-230.3\" font-family=\"Times,serif\" font-size=\"14.00\">[&#39;age&#39;, &#45;0.07998159322470814, 2, 3]</text>\n</g>\n<!-- [&#39;s5&#39;, &#45;0.0037611760063045703, 0, 1][&#39;bmi&#39;, 0.0061888847138220964, 0, 1]&#45;&gt;[&#39;s5&#39;, &#45;0.0037611760063045703, 0, 1][&#39;bmi&#39;, 0.0061888847138220964, 0, 1][&#39;age&#39;, &#45;0.07998159322470814, 2, 3] -->\n<g id=\"edge15\" class=\"edge\">\n<title>[&#39;s5&#39;, &#45;0.0037611760063045703, 0, 1][&#39;bmi&#39;, 0.0061888847138220964, 0, 1]&#45;&gt;[&#39;s5&#39;, &#45;0.0037611760063045703, 0, 1][&#39;bmi&#39;, 0.0061888847138220964, 0, 1][&#39;age&#39;, &#45;0.07998159322470814, 2, 3]</title>\n<path fill=\"none\" stroke=\"black\" d=\"M788.95,-288.41C809.09,-278.69 834.71,-266.32 856.22,-255.94\"/>\n<polygon fill=\"black\" stroke=\"black\" points=\"857.99,-258.97 865.48,-251.47 854.95,-252.67 857.99,-258.97\"/>\n</g>\n<!-- [&#39;s5&#39;, &#45;0.0037611760063045703, 0, 1][&#39;bmi&#39;, 0.0061888847138220964, 0, 1][&#39;s3&#39;, 0.02102781591949656, 0, 1][&#39;s1&#39;, 0.06310082451524143, 0, 1] -->\n<g id=\"node4\" class=\"node\">\n<title>[&#39;s5&#39;, &#45;0.0037611760063045703, 0, 1][&#39;bmi&#39;, 0.0061888847138220964, 0, 1][&#39;s3&#39;, 0.02102781591949656, 0, 1][&#39;s1&#39;, 0.06310082451524143, 0, 1]</title>\n<ellipse fill=\"none\" stroke=\"black\" cx=\"343.59\" cy=\"-162\" rx=\"131.88\" ry=\"18\"/>\n<text text-anchor=\"middle\" x=\"343.59\" y=\"-158.3\" font-family=\"Times,serif\" font-size=\"14.00\">[&#39;s1&#39;, 0.06310082451524143, 0, 1]</text>\n</g>\n<!-- [&#39;s5&#39;, &#45;0.0037611760063045703, 0, 1][&#39;bmi&#39;, 0.0061888847138220964, 0, 1][&#39;s3&#39;, 0.02102781591949656, 0, 1]&#45;&gt;[&#39;s5&#39;, &#45;0.0037611760063045703, 0, 1][&#39;bmi&#39;, 0.0061888847138220964, 0, 1][&#39;s3&#39;, 0.02102781591949656, 0, 1][&#39;s1&#39;, 0.06310082451524143, 0, 1] -->\n<g id=\"edge3\" class=\"edge\">\n<title>[&#39;s5&#39;, &#45;0.0037611760063045703, 0, 1][&#39;bmi&#39;, 0.0061888847138220964, 0, 1][&#39;s3&#39;, 0.02102781591949656, 0, 1]&#45;&gt;[&#39;s5&#39;, &#45;0.0037611760063045703, 0, 1][&#39;bmi&#39;, 0.0061888847138220964, 0, 1][&#39;s3&#39;, 0.02102781591949656, 0, 1][&#39;s1&#39;, 0.06310082451524143, 0, 1]</title>\n<path fill=\"none\" stroke=\"black\" d=\"M551.87,-217.81C510.62,-206.96 454.96,-192.31 411.56,-180.89\"/>\n<polygon fill=\"black\" stroke=\"black\" points=\"412.22,-177.44 401.66,-178.28 410.44,-184.21 412.22,-177.44\"/>\n</g>\n<!-- [&#39;s5&#39;, &#45;0.0037611760063045703, 0, 1][&#39;bmi&#39;, 0.0061888847138220964, 0, 1][&#39;s3&#39;, 0.02102781591949656, 0, 1][&#39;sex&#39;, 0.003019241116414738, 2, 3] -->\n<g id=\"node9\" class=\"node\">\n<title>[&#39;s5&#39;, &#45;0.0037611760063045703, 0, 1][&#39;bmi&#39;, 0.0061888847138220964, 0, 1][&#39;s3&#39;, 0.02102781591949656, 0, 1][&#39;sex&#39;, 0.003019241116414738, 2, 3]</title>\n<ellipse fill=\"none\" stroke=\"black\" cx=\"633.59\" cy=\"-162\" rx=\"140.28\" ry=\"18\"/>\n<text text-anchor=\"middle\" x=\"633.59\" y=\"-158.3\" font-family=\"Times,serif\" font-size=\"14.00\">[&#39;sex&#39;, 0.003019241116414738, 2, 3]</text>\n</g>\n<!-- [&#39;s5&#39;, &#45;0.0037611760063045703, 0, 1][&#39;bmi&#39;, 0.0061888847138220964, 0, 1][&#39;s3&#39;, 0.02102781591949656, 0, 1]&#45;&gt;[&#39;s5&#39;, &#45;0.0037611760063045703, 0, 1][&#39;bmi&#39;, 0.0061888847138220964, 0, 1][&#39;s3&#39;, 0.02102781591949656, 0, 1][&#39;sex&#39;, 0.003019241116414738, 2, 3] -->\n<g id=\"edge8\" class=\"edge\">\n<title>[&#39;s5&#39;, &#45;0.0037611760063045703, 0, 1][&#39;bmi&#39;, 0.0061888847138220964, 0, 1][&#39;s3&#39;, 0.02102781591949656, 0, 1]&#45;&gt;[&#39;s5&#39;, &#45;0.0037611760063045703, 0, 1][&#39;bmi&#39;, 0.0061888847138220964, 0, 1][&#39;s3&#39;, 0.02102781591949656, 0, 1][&#39;sex&#39;, 0.003019241116414738, 2, 3]</title>\n<path fill=\"none\" stroke=\"black\" d=\"M615.52,-215.7C618.2,-207.9 621.42,-198.51 624.39,-189.83\"/>\n<polygon fill=\"black\" stroke=\"black\" points=\"627.79,-190.7 627.73,-180.1 621.17,-188.43 627.79,-190.7\"/>\n</g>\n<!-- [&#39;s5&#39;, &#45;0.0037611760063045703, 0, 1][&#39;bmi&#39;, 0.0061888847138220964, 0, 1][&#39;s3&#39;, 0.02102781591949656, 0, 1][&#39;s1&#39;, 0.06310082451524143, 0, 1][&#39;sex&#39;, 0.003019241116414738, 0, 1] -->\n<g id=\"node5\" class=\"node\">\n<title>[&#39;s5&#39;, &#45;0.0037611760063045703, 0, 1][&#39;bmi&#39;, 0.0061888847138220964, 0, 1][&#39;s3&#39;, 0.02102781591949656, 0, 1][&#39;s1&#39;, 0.06310082451524143, 0, 1][&#39;sex&#39;, 0.003019241116414738, 0, 1]</title>\n<ellipse fill=\"none\" stroke=\"black\" cx=\"172.59\" cy=\"-90\" rx=\"140.28\" ry=\"18\"/>\n<text text-anchor=\"middle\" x=\"172.59\" y=\"-86.3\" font-family=\"Times,serif\" font-size=\"14.00\">[&#39;sex&#39;, 0.003019241116414738, 0, 1]</text>\n</g>\n<!-- [&#39;s5&#39;, &#45;0.0037611760063045703, 0, 1][&#39;bmi&#39;, 0.0061888847138220964, 0, 1][&#39;s3&#39;, 0.02102781591949656, 0, 1][&#39;s1&#39;, 0.06310082451524143, 0, 1]&#45;&gt;[&#39;s5&#39;, &#45;0.0037611760063045703, 0, 1][&#39;bmi&#39;, 0.0061888847138220964, 0, 1][&#39;s3&#39;, 0.02102781591949656, 0, 1][&#39;s1&#39;, 0.06310082451524143, 0, 1][&#39;sex&#39;, 0.003019241116414738, 0, 1] -->\n<g id=\"edge4\" class=\"edge\">\n<title>[&#39;s5&#39;, &#45;0.0037611760063045703, 0, 1][&#39;bmi&#39;, 0.0061888847138220964, 0, 1][&#39;s3&#39;, 0.02102781591949656, 0, 1][&#39;s1&#39;, 0.06310082451524143, 0, 1]&#45;&gt;[&#39;s5&#39;, &#45;0.0037611760063045703, 0, 1][&#39;bmi&#39;, 0.0061888847138220964, 0, 1][&#39;s3&#39;, 0.02102781591949656, 0, 1][&#39;s1&#39;, 0.06310082451524143, 0, 1][&#39;sex&#39;, 0.003019241116414738, 0, 1]</title>\n<path fill=\"none\" stroke=\"black\" d=\"M303.93,-144.76C279.41,-134.73 247.76,-121.77 221.67,-111.09\"/>\n<polygon fill=\"black\" stroke=\"black\" points=\"222.91,-107.82 212.33,-107.27 220.26,-114.3 222.91,-107.82\"/>\n</g>\n<!-- [&#39;s5&#39;, &#45;0.0037611760063045703, 0, 1][&#39;bmi&#39;, 0.0061888847138220964, 0, 1][&#39;s3&#39;, 0.02102781591949656, 0, 1][&#39;s1&#39;, 0.06310082451524143, 0, 1][241.5] -->\n<g id=\"node8\" class=\"node\">\n<title>[&#39;s5&#39;, &#45;0.0037611760063045703, 0, 1][&#39;bmi&#39;, 0.0061888847138220964, 0, 1][&#39;s3&#39;, 0.02102781591949656, 0, 1][&#39;s1&#39;, 0.06310082451524143, 0, 1][241.5]</title>\n<ellipse fill=\"none\" stroke=\"black\" cx=\"367.59\" cy=\"-90\" rx=\"36.29\" ry=\"18\"/>\n<text text-anchor=\"middle\" x=\"367.59\" y=\"-86.3\" font-family=\"Times,serif\" font-size=\"14.00\">[241.5]</text>\n</g>\n<!-- [&#39;s5&#39;, &#45;0.0037611760063045703, 0, 1][&#39;bmi&#39;, 0.0061888847138220964, 0, 1][&#39;s3&#39;, 0.02102781591949656, 0, 1][&#39;s1&#39;, 0.06310082451524143, 0, 1]&#45;&gt;[&#39;s5&#39;, &#45;0.0037611760063045703, 0, 1][&#39;bmi&#39;, 0.0061888847138220964, 0, 1][&#39;s3&#39;, 0.02102781591949656, 0, 1][&#39;s1&#39;, 0.06310082451524143, 0, 1][241.5] -->\n<g id=\"edge7\" class=\"edge\">\n<title>[&#39;s5&#39;, &#45;0.0037611760063045703, 0, 1][&#39;bmi&#39;, 0.0061888847138220964, 0, 1][&#39;s3&#39;, 0.02102781591949656, 0, 1][&#39;s1&#39;, 0.06310082451524143, 0, 1]&#45;&gt;[&#39;s5&#39;, &#45;0.0037611760063045703, 0, 1][&#39;bmi&#39;, 0.0061888847138220964, 0, 1][&#39;s3&#39;, 0.02102781591949656, 0, 1][&#39;s1&#39;, 0.06310082451524143, 0, 1][241.5]</title>\n<path fill=\"none\" stroke=\"black\" d=\"M349.52,-143.7C352.2,-135.9 355.42,-126.51 358.39,-117.83\"/>\n<polygon fill=\"black\" stroke=\"black\" points=\"361.79,-118.7 361.73,-108.1 355.17,-116.43 361.79,-118.7\"/>\n</g>\n<!-- [&#39;s5&#39;, &#45;0.0037611760063045703, 0, 1][&#39;bmi&#39;, 0.0061888847138220964, 0, 1][&#39;s3&#39;, 0.02102781591949656, 0, 1][&#39;s1&#39;, 0.06310082451524143, 0, 1][&#39;sex&#39;, 0.003019241116414738, 0, 1][118.84615384615384] -->\n<g id=\"node6\" class=\"node\">\n<title>[&#39;s5&#39;, &#45;0.0037611760063045703, 0, 1][&#39;bmi&#39;, 0.0061888847138220964, 0, 1][&#39;s3&#39;, 0.02102781591949656, 0, 1][&#39;s1&#39;, 0.06310082451524143, 0, 1][&#39;sex&#39;, 0.003019241116414738, 0, 1][118.84615384615384]</title>\n<ellipse fill=\"none\" stroke=\"black\" cx=\"93.59\" cy=\"-18\" rx=\"93.68\" ry=\"18\"/>\n<text text-anchor=\"middle\" x=\"93.59\" y=\"-14.3\" font-family=\"Times,serif\" font-size=\"14.00\">[118.84615384615384]</text>\n</g>\n<!-- [&#39;s5&#39;, &#45;0.0037611760063045703, 0, 1][&#39;bmi&#39;, 0.0061888847138220964, 0, 1][&#39;s3&#39;, 0.02102781591949656, 0, 1][&#39;s1&#39;, 0.06310082451524143, 0, 1][&#39;sex&#39;, 0.003019241116414738, 0, 1]&#45;&gt;[&#39;s5&#39;, &#45;0.0037611760063045703, 0, 1][&#39;bmi&#39;, 0.0061888847138220964, 0, 1][&#39;s3&#39;, 0.02102781591949656, 0, 1][&#39;s1&#39;, 0.06310082451524143, 0, 1][&#39;sex&#39;, 0.003019241116414738, 0, 1][118.84615384615384] -->\n<g id=\"edge5\" class=\"edge\">\n<title>[&#39;s5&#39;, &#45;0.0037611760063045703, 0, 1][&#39;bmi&#39;, 0.0061888847138220964, 0, 1][&#39;s3&#39;, 0.02102781591949656, 0, 1][&#39;s1&#39;, 0.06310082451524143, 0, 1][&#39;sex&#39;, 0.003019241116414738, 0, 1]&#45;&gt;[&#39;s5&#39;, &#45;0.0037611760063045703, 0, 1][&#39;bmi&#39;, 0.0061888847138220964, 0, 1][&#39;s3&#39;, 0.02102781591949656, 0, 1][&#39;s1&#39;, 0.06310082451524143, 0, 1][&#39;sex&#39;, 0.003019241116414738, 0, 1][118.84615384615384]</title>\n<path fill=\"none\" stroke=\"black\" d=\"M153.47,-72.05C143.47,-63.2 131.08,-52.22 120.17,-42.55\"/>\n<polygon fill=\"black\" stroke=\"black\" points=\"122.35,-39.8 112.54,-35.79 117.7,-45.04 122.35,-39.8\"/>\n</g>\n<!-- [&#39;s5&#39;, &#45;0.0037611760063045703, 0, 1][&#39;bmi&#39;, 0.0061888847138220964, 0, 1][&#39;s3&#39;, 0.02102781591949656, 0, 1][&#39;s1&#39;, 0.06310082451524143, 0, 1][&#39;sex&#39;, 0.003019241116414738, 0, 1][94.52173913043478] -->\n<g id=\"node7\" class=\"node\">\n<title>[&#39;s5&#39;, &#45;0.0037611760063045703, 0, 1][&#39;bmi&#39;, 0.0061888847138220964, 0, 1][&#39;s3&#39;, 0.02102781591949656, 0, 1][&#39;s1&#39;, 0.06310082451524143, 0, 1][&#39;sex&#39;, 0.003019241116414738, 0, 1][94.52173913043478]</title>\n<ellipse fill=\"none\" stroke=\"black\" cx=\"294.59\" cy=\"-18\" rx=\"89.08\" ry=\"18\"/>\n<text text-anchor=\"middle\" x=\"294.59\" y=\"-14.3\" font-family=\"Times,serif\" font-size=\"14.00\">[94.52173913043478]</text>\n</g>\n<!-- [&#39;s5&#39;, &#45;0.0037611760063045703, 0, 1][&#39;bmi&#39;, 0.0061888847138220964, 0, 1][&#39;s3&#39;, 0.02102781591949656, 0, 1][&#39;s1&#39;, 0.06310082451524143, 0, 1][&#39;sex&#39;, 0.003019241116414738, 0, 1]&#45;&gt;[&#39;s5&#39;, &#45;0.0037611760063045703, 0, 1][&#39;bmi&#39;, 0.0061888847138220964, 0, 1][&#39;s3&#39;, 0.02102781591949656, 0, 1][&#39;s1&#39;, 0.06310082451524143, 0, 1][&#39;sex&#39;, 0.003019241116414738, 0, 1][94.52173913043478] -->\n<g id=\"edge6\" class=\"edge\">\n<title>[&#39;s5&#39;, &#45;0.0037611760063045703, 0, 1][&#39;bmi&#39;, 0.0061888847138220964, 0, 1][&#39;s3&#39;, 0.02102781591949656, 0, 1][&#39;s1&#39;, 0.06310082451524143, 0, 1][&#39;sex&#39;, 0.003019241116414738, 0, 1]&#45;&gt;[&#39;s5&#39;, &#45;0.0037611760063045703, 0, 1][&#39;bmi&#39;, 0.0061888847138220964, 0, 1][&#39;s3&#39;, 0.02102781591949656, 0, 1][&#39;s1&#39;, 0.06310082451524143, 0, 1][&#39;sex&#39;, 0.003019241116414738, 0, 1][94.52173913043478]</title>\n<path fill=\"none\" stroke=\"black\" d=\"M201.81,-72.23C218.5,-62.66 239.59,-50.56 257.45,-40.31\"/>\n<polygon fill=\"black\" stroke=\"black\" points=\"259.52,-43.16 266.45,-35.15 256.03,-37.09 259.52,-43.16\"/>\n</g>\n<!-- [&#39;s5&#39;, &#45;0.0037611760063045703, 0, 1][&#39;bmi&#39;, 0.0061888847138220964, 0, 1][&#39;s3&#39;, 0.02102781591949656, 0, 1][&#39;sex&#39;, 0.003019241116414738, 2, 3][&#39;bmi&#39;, &#45;0.06279108801454907, 2, 3] -->\n<g id=\"node10\" class=\"node\">\n<title>[&#39;s5&#39;, &#45;0.0037611760063045703, 0, 1][&#39;bmi&#39;, 0.0061888847138220964, 0, 1][&#39;s3&#39;, 0.02102781591949656, 0, 1][&#39;sex&#39;, 0.003019241116414738, 2, 3][&#39;bmi&#39;, &#45;0.06279108801454907, 2, 3]</title>\n<ellipse fill=\"none\" stroke=\"black\" cx=\"610.59\" cy=\"-90\" rx=\"141.88\" ry=\"18\"/>\n<text text-anchor=\"middle\" x=\"610.59\" y=\"-86.3\" font-family=\"Times,serif\" font-size=\"14.00\">[&#39;bmi&#39;, &#45;0.06279108801454907, 2, 3]</text>\n</g>\n<!-- [&#39;s5&#39;, &#45;0.0037611760063045703, 0, 1][&#39;bmi&#39;, 0.0061888847138220964, 0, 1][&#39;s3&#39;, 0.02102781591949656, 0, 1][&#39;sex&#39;, 0.003019241116414738, 2, 3]&#45;&gt;[&#39;s5&#39;, &#45;0.0037611760063045703, 0, 1][&#39;bmi&#39;, 0.0061888847138220964, 0, 1][&#39;s3&#39;, 0.02102781591949656, 0, 1][&#39;sex&#39;, 0.003019241116414738, 2, 3][&#39;bmi&#39;, &#45;0.06279108801454907, 2, 3] -->\n<g id=\"edge9\" class=\"edge\">\n<title>[&#39;s5&#39;, &#45;0.0037611760063045703, 0, 1][&#39;bmi&#39;, 0.0061888847138220964, 0, 1][&#39;s3&#39;, 0.02102781591949656, 0, 1][&#39;sex&#39;, 0.003019241116414738, 2, 3]&#45;&gt;[&#39;s5&#39;, &#45;0.0037611760063045703, 0, 1][&#39;bmi&#39;, 0.0061888847138220964, 0, 1][&#39;s3&#39;, 0.02102781591949656, 0, 1][&#39;sex&#39;, 0.003019241116414738, 2, 3][&#39;bmi&#39;, &#45;0.06279108801454907, 2, 3]</title>\n<path fill=\"none\" stroke=\"black\" d=\"M627.91,-143.7C625.34,-135.9 622.26,-126.51 619.41,-117.83\"/>\n<polygon fill=\"black\" stroke=\"black\" points=\"622.66,-116.51 616.21,-108.1 616.01,-118.7 622.66,-116.51\"/>\n</g>\n<!-- [&#39;s5&#39;, &#45;0.0037611760063045703, 0, 1][&#39;bmi&#39;, 0.0061888847138220964, 0, 1][&#39;s3&#39;, 0.02102781591949656, 0, 1][&#39;sex&#39;, 0.003019241116414738, 2, 3][&#39;age&#39;, 0.005383060374248236, 4, 5] -->\n<g id=\"node13\" class=\"node\">\n<title>[&#39;s5&#39;, &#45;0.0037611760063045703, 0, 1][&#39;bmi&#39;, 0.0061888847138220964, 0, 1][&#39;s3&#39;, 0.02102781591949656, 0, 1][&#39;sex&#39;, 0.003019241116414738, 2, 3][&#39;age&#39;, 0.005383060374248236, 4, 5]</title>\n<ellipse fill=\"none\" stroke=\"black\" cx=\"911.59\" cy=\"-90\" rx=\"141.07\" ry=\"18\"/>\n<text text-anchor=\"middle\" x=\"911.59\" y=\"-86.3\" font-family=\"Times,serif\" font-size=\"14.00\">[&#39;age&#39;, 0.005383060374248236, 4, 5]</text>\n</g>\n<!-- [&#39;s5&#39;, &#45;0.0037611760063045703, 0, 1][&#39;bmi&#39;, 0.0061888847138220964, 0, 1][&#39;s3&#39;, 0.02102781591949656, 0, 1][&#39;sex&#39;, 0.003019241116414738, 2, 3]&#45;&gt;[&#39;s5&#39;, &#45;0.0037611760063045703, 0, 1][&#39;bmi&#39;, 0.0061888847138220964, 0, 1][&#39;s3&#39;, 0.02102781591949656, 0, 1][&#39;sex&#39;, 0.003019241116414738, 2, 3][&#39;age&#39;, 0.005383060374248236, 4, 5] -->\n<g id=\"edge12\" class=\"edge\">\n<title>[&#39;s5&#39;, &#45;0.0037611760063045703, 0, 1][&#39;bmi&#39;, 0.0061888847138220964, 0, 1][&#39;s3&#39;, 0.02102781591949656, 0, 1][&#39;sex&#39;, 0.003019241116414738, 2, 3]&#45;&gt;[&#39;s5&#39;, &#45;0.0037611760063045703, 0, 1][&#39;bmi&#39;, 0.0061888847138220964, 0, 1][&#39;s3&#39;, 0.02102781591949656, 0, 1][&#39;sex&#39;, 0.003019241116414738, 2, 3][&#39;age&#39;, 0.005383060374248236, 4, 5]</title>\n<path fill=\"none\" stroke=\"black\" d=\"M694.26,-145.72C737.42,-134.86 795.55,-120.22 840.83,-108.82\"/>\n<polygon fill=\"black\" stroke=\"black\" points=\"841.73,-112.2 850.58,-106.36 840.02,-105.41 841.73,-112.2\"/>\n</g>\n<!-- [&#39;s5&#39;, &#45;0.0037611760063045703, 0, 1][&#39;bmi&#39;, 0.0061888847138220964, 0, 1][&#39;s3&#39;, 0.02102781591949656, 0, 1][&#39;sex&#39;, 0.003019241116414738, 2, 3][&#39;bmi&#39;, &#45;0.06279108801454907, 2, 3][68.57142857142857] -->\n<g id=\"node11\" class=\"node\">\n<title>[&#39;s5&#39;, &#45;0.0037611760063045703, 0, 1][&#39;bmi&#39;, 0.0061888847138220964, 0, 1][&#39;s3&#39;, 0.02102781591949656, 0, 1][&#39;sex&#39;, 0.003019241116414738, 2, 3][&#39;bmi&#39;, &#45;0.06279108801454907, 2, 3][68.57142857142857]</title>\n<ellipse fill=\"none\" stroke=\"black\" cx=\"587.59\" cy=\"-18\" rx=\"89.08\" ry=\"18\"/>\n<text text-anchor=\"middle\" x=\"587.59\" y=\"-14.3\" font-family=\"Times,serif\" font-size=\"14.00\">[68.57142857142857]</text>\n</g>\n<!-- [&#39;s5&#39;, &#45;0.0037611760063045703, 0, 1][&#39;bmi&#39;, 0.0061888847138220964, 0, 1][&#39;s3&#39;, 0.02102781591949656, 0, 1][&#39;sex&#39;, 0.003019241116414738, 2, 3][&#39;bmi&#39;, &#45;0.06279108801454907, 2, 3]&#45;&gt;[&#39;s5&#39;, &#45;0.0037611760063045703, 0, 1][&#39;bmi&#39;, 0.0061888847138220964, 0, 1][&#39;s3&#39;, 0.02102781591949656, 0, 1][&#39;sex&#39;, 0.003019241116414738, 2, 3][&#39;bmi&#39;, &#45;0.06279108801454907, 2, 3][68.57142857142857] -->\n<g id=\"edge10\" class=\"edge\">\n<title>[&#39;s5&#39;, &#45;0.0037611760063045703, 0, 1][&#39;bmi&#39;, 0.0061888847138220964, 0, 1][&#39;s3&#39;, 0.02102781591949656, 0, 1][&#39;sex&#39;, 0.003019241116414738, 2, 3][&#39;bmi&#39;, &#45;0.06279108801454907, 2, 3]&#45;&gt;[&#39;s5&#39;, &#45;0.0037611760063045703, 0, 1][&#39;bmi&#39;, 0.0061888847138220964, 0, 1][&#39;s3&#39;, 0.02102781591949656, 0, 1][&#39;sex&#39;, 0.003019241116414738, 2, 3][&#39;bmi&#39;, &#45;0.06279108801454907, 2, 3][68.57142857142857]</title>\n<path fill=\"none\" stroke=\"black\" d=\"M604.91,-71.7C602.34,-63.9 599.26,-54.51 596.41,-45.83\"/>\n<polygon fill=\"black\" stroke=\"black\" points=\"599.66,-44.51 593.21,-36.1 593.01,-46.7 599.66,-44.51\"/>\n</g>\n<!-- [&#39;s5&#39;, &#45;0.0037611760063045703, 0, 1][&#39;bmi&#39;, 0.0061888847138220964, 0, 1][&#39;s3&#39;, 0.02102781591949656, 0, 1][&#39;sex&#39;, 0.003019241116414738, 2, 3][&#39;bmi&#39;, &#45;0.06279108801454907, 2, 3][93.44] -->\n<g id=\"node12\" class=\"node\">\n<title>[&#39;s5&#39;, &#45;0.0037611760063045703, 0, 1][&#39;bmi&#39;, 0.0061888847138220964, 0, 1][&#39;s3&#39;, 0.02102781591949656, 0, 1][&#39;sex&#39;, 0.003019241116414738, 2, 3][&#39;bmi&#39;, &#45;0.06279108801454907, 2, 3][93.44]</title>\n<ellipse fill=\"none\" stroke=\"black\" cx=\"730.59\" cy=\"-18\" rx=\"36.29\" ry=\"18\"/>\n<text text-anchor=\"middle\" x=\"730.59\" y=\"-14.3\" font-family=\"Times,serif\" font-size=\"14.00\">[93.44]</text>\n</g>\n<!-- [&#39;s5&#39;, &#45;0.0037611760063045703, 0, 1][&#39;bmi&#39;, 0.0061888847138220964, 0, 1][&#39;s3&#39;, 0.02102781591949656, 0, 1][&#39;sex&#39;, 0.003019241116414738, 2, 3][&#39;bmi&#39;, &#45;0.06279108801454907, 2, 3]&#45;&gt;[&#39;s5&#39;, &#45;0.0037611760063045703, 0, 1][&#39;bmi&#39;, 0.0061888847138220964, 0, 1][&#39;s3&#39;, 0.02102781591949656, 0, 1][&#39;sex&#39;, 0.003019241116414738, 2, 3][&#39;bmi&#39;, &#45;0.06279108801454907, 2, 3][93.44] -->\n<g id=\"edge11\" class=\"edge\">\n<title>[&#39;s5&#39;, &#45;0.0037611760063045703, 0, 1][&#39;bmi&#39;, 0.0061888847138220964, 0, 1][&#39;s3&#39;, 0.02102781591949656, 0, 1][&#39;sex&#39;, 0.003019241116414738, 2, 3][&#39;bmi&#39;, &#45;0.06279108801454907, 2, 3]&#45;&gt;[&#39;s5&#39;, &#45;0.0037611760063045703, 0, 1][&#39;bmi&#39;, 0.0061888847138220964, 0, 1][&#39;s3&#39;, 0.02102781591949656, 0, 1][&#39;sex&#39;, 0.003019241116414738, 2, 3][&#39;bmi&#39;, &#45;0.06279108801454907, 2, 3][93.44]</title>\n<path fill=\"none\" stroke=\"black\" d=\"M639.33,-72.23C657.33,-61.74 680.53,-48.2 699.03,-37.41\"/>\n<polygon fill=\"black\" stroke=\"black\" points=\"700.82,-40.42 707.7,-32.36 697.3,-34.37 700.82,-40.42\"/>\n</g>\n<!-- [&#39;s5&#39;, &#45;0.0037611760063045703, 0, 1][&#39;bmi&#39;, 0.0061888847138220964, 0, 1][&#39;s3&#39;, 0.02102781591949656, 0, 1][&#39;sex&#39;, 0.003019241116414738, 2, 3][&#39;age&#39;, 0.005383060374248236, 4, 5][55.8] -->\n<g id=\"node14\" class=\"node\">\n<title>[&#39;s5&#39;, &#45;0.0037611760063045703, 0, 1][&#39;bmi&#39;, 0.0061888847138220964, 0, 1][&#39;s3&#39;, 0.02102781591949656, 0, 1][&#39;sex&#39;, 0.003019241116414738, 2, 3][&#39;age&#39;, 0.005383060374248236, 4, 5][55.8]</title>\n<ellipse fill=\"none\" stroke=\"black\" cx=\"852.59\" cy=\"-18\" rx=\"32.49\" ry=\"18\"/>\n<text text-anchor=\"middle\" x=\"852.59\" y=\"-14.3\" font-family=\"Times,serif\" font-size=\"14.00\">[55.8]</text>\n</g>\n<!-- [&#39;s5&#39;, &#45;0.0037611760063045703, 0, 1][&#39;bmi&#39;, 0.0061888847138220964, 0, 1][&#39;s3&#39;, 0.02102781591949656, 0, 1][&#39;sex&#39;, 0.003019241116414738, 2, 3][&#39;age&#39;, 0.005383060374248236, 4, 5]&#45;&gt;[&#39;s5&#39;, &#45;0.0037611760063045703, 0, 1][&#39;bmi&#39;, 0.0061888847138220964, 0, 1][&#39;s3&#39;, 0.02102781591949656, 0, 1][&#39;sex&#39;, 0.003019241116414738, 2, 3][&#39;age&#39;, 0.005383060374248236, 4, 5][55.8] -->\n<g id=\"edge13\" class=\"edge\">\n<title>[&#39;s5&#39;, &#45;0.0037611760063045703, 0, 1][&#39;bmi&#39;, 0.0061888847138220964, 0, 1][&#39;s3&#39;, 0.02102781591949656, 0, 1][&#39;sex&#39;, 0.003019241116414738, 2, 3][&#39;age&#39;, 0.005383060374248236, 4, 5]&#45;&gt;[&#39;s5&#39;, &#45;0.0037611760063045703, 0, 1][&#39;bmi&#39;, 0.0061888847138220964, 0, 1][&#39;s3&#39;, 0.02102781591949656, 0, 1][&#39;sex&#39;, 0.003019241116414738, 2, 3][&#39;age&#39;, 0.005383060374248236, 4, 5][55.8]</title>\n<path fill=\"none\" stroke=\"black\" d=\"M897.31,-72.05C889.85,-63.2 880.6,-52.23 872.45,-42.57\"/>\n<polygon fill=\"black\" stroke=\"black\" points=\"875.05,-40.22 865.93,-34.83 869.7,-44.73 875.05,-40.22\"/>\n</g>\n<!-- [&#39;s5&#39;, &#45;0.0037611760063045703, 0, 1][&#39;bmi&#39;, 0.0061888847138220964, 0, 1][&#39;s3&#39;, 0.02102781591949656, 0, 1][&#39;sex&#39;, 0.003019241116414738, 2, 3][&#39;age&#39;, 0.005383060374248236, 4, 5][81.3] -->\n<g id=\"node15\" class=\"node\">\n<title>[&#39;s5&#39;, &#45;0.0037611760063045703, 0, 1][&#39;bmi&#39;, 0.0061888847138220964, 0, 1][&#39;s3&#39;, 0.02102781591949656, 0, 1][&#39;sex&#39;, 0.003019241116414738, 2, 3][&#39;age&#39;, 0.005383060374248236, 4, 5][81.3]</title>\n<ellipse fill=\"none\" stroke=\"black\" cx=\"935.59\" cy=\"-18\" rx=\"32.49\" ry=\"18\"/>\n<text text-anchor=\"middle\" x=\"935.59\" y=\"-14.3\" font-family=\"Times,serif\" font-size=\"14.00\">[81.3]</text>\n</g>\n<!-- [&#39;s5&#39;, &#45;0.0037611760063045703, 0, 1][&#39;bmi&#39;, 0.0061888847138220964, 0, 1][&#39;s3&#39;, 0.02102781591949656, 0, 1][&#39;sex&#39;, 0.003019241116414738, 2, 3][&#39;age&#39;, 0.005383060374248236, 4, 5]&#45;&gt;[&#39;s5&#39;, &#45;0.0037611760063045703, 0, 1][&#39;bmi&#39;, 0.0061888847138220964, 0, 1][&#39;s3&#39;, 0.02102781591949656, 0, 1][&#39;sex&#39;, 0.003019241116414738, 2, 3][&#39;age&#39;, 0.005383060374248236, 4, 5][81.3] -->\n<g id=\"edge14\" class=\"edge\">\n<title>[&#39;s5&#39;, &#45;0.0037611760063045703, 0, 1][&#39;bmi&#39;, 0.0061888847138220964, 0, 1][&#39;s3&#39;, 0.02102781591949656, 0, 1][&#39;sex&#39;, 0.003019241116414738, 2, 3][&#39;age&#39;, 0.005383060374248236, 4, 5]&#45;&gt;[&#39;s5&#39;, &#45;0.0037611760063045703, 0, 1][&#39;bmi&#39;, 0.0061888847138220964, 0, 1][&#39;s3&#39;, 0.02102781591949656, 0, 1][&#39;sex&#39;, 0.003019241116414738, 2, 3][&#39;age&#39;, 0.005383060374248236, 4, 5][81.3]</title>\n<path fill=\"none\" stroke=\"black\" d=\"M917.52,-71.7C920.2,-63.9 923.42,-54.51 926.39,-45.83\"/>\n<polygon fill=\"black\" stroke=\"black\" points=\"929.79,-46.7 929.73,-36.1 923.17,-44.43 929.79,-46.7\"/>\n</g>\n<!-- [&#39;s5&#39;, &#45;0.0037611760063045703, 0, 1][&#39;bmi&#39;, 0.0061888847138220964, 0, 1][&#39;age&#39;, &#45;0.07998159322470814, 2, 3][274.0] -->\n<g id=\"node17\" class=\"node\">\n<title>[&#39;s5&#39;, &#45;0.0037611760063045703, 0, 1][&#39;bmi&#39;, 0.0061888847138220964, 0, 1][&#39;age&#39;, &#45;0.07998159322470814, 2, 3][274.0]</title>\n<ellipse fill=\"none\" stroke=\"black\" cx=\"875.59\" cy=\"-162\" rx=\"36.29\" ry=\"18\"/>\n<text text-anchor=\"middle\" x=\"875.59\" y=\"-158.3\" font-family=\"Times,serif\" font-size=\"14.00\">[274.0]</text>\n</g>\n<!-- [&#39;s5&#39;, &#45;0.0037611760063045703, 0, 1][&#39;bmi&#39;, 0.0061888847138220964, 0, 1][&#39;age&#39;, &#45;0.07998159322470814, 2, 3]&#45;&gt;[&#39;s5&#39;, &#45;0.0037611760063045703, 0, 1][&#39;bmi&#39;, 0.0061888847138220964, 0, 1][&#39;age&#39;, &#45;0.07998159322470814, 2, 3][274.0] -->\n<g id=\"edge16\" class=\"edge\">\n<title>[&#39;s5&#39;, &#45;0.0037611760063045703, 0, 1][&#39;bmi&#39;, 0.0061888847138220964, 0, 1][&#39;age&#39;, &#45;0.07998159322470814, 2, 3]&#45;&gt;[&#39;s5&#39;, &#45;0.0037611760063045703, 0, 1][&#39;bmi&#39;, 0.0061888847138220964, 0, 1][&#39;age&#39;, &#45;0.07998159322470814, 2, 3][274.0]</title>\n<path fill=\"none\" stroke=\"black\" d=\"M893.66,-215.7C890.99,-207.9 887.77,-198.51 884.79,-189.83\"/>\n<polygon fill=\"black\" stroke=\"black\" points=\"888.01,-188.43 881.46,-180.1 881.39,-190.7 888.01,-188.43\"/>\n</g>\n<!-- [&#39;s5&#39;, &#45;0.0037611760063045703, 0, 1][&#39;bmi&#39;, 0.0061888847138220964, 0, 1][&#39;age&#39;, &#45;0.07998159322470814, 2, 3][154.66666666666666] -->\n<g id=\"node18\" class=\"node\">\n<title>[&#39;s5&#39;, &#45;0.0037611760063045703, 0, 1][&#39;bmi&#39;, 0.0061888847138220964, 0, 1][&#39;age&#39;, &#45;0.07998159322470814, 2, 3][154.66666666666666]</title>\n<ellipse fill=\"none\" stroke=\"black\" cx=\"1023.59\" cy=\"-162\" rx=\"93.68\" ry=\"18\"/>\n<text text-anchor=\"middle\" x=\"1023.59\" y=\"-158.3\" font-family=\"Times,serif\" font-size=\"14.00\">[154.66666666666666]</text>\n</g>\n<!-- [&#39;s5&#39;, &#45;0.0037611760063045703, 0, 1][&#39;bmi&#39;, 0.0061888847138220964, 0, 1][&#39;age&#39;, &#45;0.07998159322470814, 2, 3]&#45;&gt;[&#39;s5&#39;, &#45;0.0037611760063045703, 0, 1][&#39;bmi&#39;, 0.0061888847138220964, 0, 1][&#39;age&#39;, &#45;0.07998159322470814, 2, 3][154.66666666666666] -->\n<g id=\"edge17\" class=\"edge\">\n<title>[&#39;s5&#39;, &#45;0.0037611760063045703, 0, 1][&#39;bmi&#39;, 0.0061888847138220964, 0, 1][&#39;age&#39;, &#45;0.07998159322470814, 2, 3]&#45;&gt;[&#39;s5&#39;, &#45;0.0037611760063045703, 0, 1][&#39;bmi&#39;, 0.0061888847138220964, 0, 1][&#39;age&#39;, &#45;0.07998159322470814, 2, 3][154.66666666666666]</title>\n<path fill=\"none\" stroke=\"black\" d=\"M929.29,-216.23C946.25,-206.66 967.69,-194.56 985.84,-184.31\"/>\n<polygon fill=\"black\" stroke=\"black\" points=\"988,-187.11 994.99,-179.15 984.56,-181.02 988,-187.11\"/>\n</g>\n</g>\n</svg>\n",
            "text/plain": [
              "<graphviz.graphs.Digraph at 0x7ee6344ce710>"
            ]
          },
          "metadata": {},
          "execution_count": 17
        }
      ]
    },
    {
      "cell_type": "code",
      "source": [
        "def print_tree(node, indent=\"\", side=\"root\"):\n",
        "    if node.is_leaf:\n",
        "        if side == \"left\":\n",
        "            print(f\"{indent}leaf_left = {node.value[0]}\")\n",
        "        elif side == \"right\":\n",
        "            print(f\"{indent}leaf_right = {node.value[0]}\")\n",
        "    else:\n",
        "        print(f\"{indent}{node.value[0]} > {node.value[1]}\")\n",
        "        print_tree(node.left, indent + \"  \", \"left\")\n",
        "        if node.right is not None:\n",
        "            print_tree(node.right, indent + \"  \", \"right\")"
      ],
      "metadata": {
        "id": "kj0v0wGhSfQv"
      },
      "execution_count": null,
      "outputs": []
    },
    {
      "cell_type": "code",
      "source": [
        "root = build_tree(tree_dict)\n",
        "print_tree(root)"
      ],
      "metadata": {
        "colab": {
          "base_uri": "https://localhost:8080/"
        },
        "id": "5UOj9M3VShKk",
        "outputId": "ed78aff7-dfff-4a44-94da-9bafbaa79a3a"
      },
      "execution_count": null,
      "outputs": [
        {
          "output_type": "stream",
          "name": "stdout",
          "text": [
            "s5 > -0.0037611760063045703\n",
            "  bmi > 0.0061888847138220964\n",
            "    s3 > 0.02102781591949656\n",
            "      s1 > 0.06310082451524143\n",
            "        sex > 0.003019241116414738\n",
            "          leaf_left = 118.84615384615384\n",
            "          leaf_right = 94.52173913043478\n",
            "        leaf_right = 241.5\n",
            "      sex > 0.003019241116414738\n",
            "        bmi > -0.06279108801454907\n",
            "          leaf_left = 68.57142857142857\n",
            "          leaf_right = 93.44\n",
            "        age > 0.005383060374248236\n",
            "          leaf_left = 55.8\n",
            "          leaf_right = 81.3\n",
            "    age > -0.07998159322470814\n",
            "      leaf_left = 274.0\n",
            "      leaf_right = 154.66666666666666\n",
            "  leaf_right = 193.15178571428572\n"
          ]
        }
      ]
    },
    {
      "cell_type": "code",
      "source": [],
      "metadata": {
        "id": "haAW3PeZHvZ1"
      },
      "execution_count": null,
      "outputs": []
    }
  ]
}