{
  "nbformat": 4,
  "nbformat_minor": 0,
  "metadata": {
    "colab": {
      "provenance": [],
      "mount_file_id": "1mbuOENyxlJU1g6yyEzg3T4704H99hyrS",
      "authorship_tag": "ABX9TyMLqqEKE7GqLZmw+4xZm/mV",
      "include_colab_link": true
    },
    "kernelspec": {
      "name": "python3",
      "display_name": "Python 3"
    },
    "language_info": {
      "name": "python"
    }
  },
  "cells": [
    {
      "cell_type": "markdown",
      "metadata": {
        "id": "view-in-github",
        "colab_type": "text"
      },
      "source": [
        "<a href=\"https://colab.research.google.com/github/Dicere/Machine_Learning_algorithms_from_scratch/blob/main/K_mean_classification.ipynb\" target=\"_parent\"><img src=\"https://colab.research.google.com/assets/colab-badge.svg\" alt=\"Open In Colab\"/></a>"
      ]
    },
    {
      "cell_type": "code",
      "source": [
        "import numpy as np\n",
        "import pandas as pd\n",
        "import random"
      ],
      "metadata": {
        "id": "3PkMfkaQ2npU"
      },
      "execution_count": 1,
      "outputs": []
    },
    {
      "cell_type": "code",
      "execution_count": 4,
      "metadata": {
        "id": "I-hkUENL2Z4Q"
      },
      "outputs": [],
      "source": [
        "class MyKNNClf():\n",
        "    def __init__(self, k=3):\n",
        "        self.k = k\n",
        "\n",
        "    def __str__(self):\n",
        "        attributes = ', '.join(f\"{key}={value}\" for key, value in vars(self).items())\n",
        "        return f\"MyKNNClf class: {attributes}\"\n",
        "    def __repr__(self):\n",
        "        attributes = ', '.join(f\"{key}={value}\" for key, value in vars(self).items())\n",
        "        return f\"MyKNNClf class: {attributes}\"\n",
        "\n",
        "\n"
      ]
    }
  ]
}